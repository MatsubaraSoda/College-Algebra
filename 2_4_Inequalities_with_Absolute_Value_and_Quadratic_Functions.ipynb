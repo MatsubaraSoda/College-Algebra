{
  "nbformat": 4,
  "nbformat_minor": 0,
  "metadata": {
    "colab": {
      "provenance": [],
      "authorship_tag": "ABX9TyOCJx/N5jJiPC9wHHM85Rft",
      "include_colab_link": true
    },
    "kernelspec": {
      "name": "python3",
      "display_name": "Python 3"
    },
    "language_info": {
      "name": "python"
    }
  },
  "cells": [
    {
      "cell_type": "markdown",
      "metadata": {
        "id": "view-in-github",
        "colab_type": "text"
      },
      "source": [
        "<a href=\"https://colab.research.google.com/github/MatsubaraSoda/College-Algebra/blob/main/2_4_Inequalities_with_Absolute_Value_and_Quadratic_Functions.ipynb\" target=\"_parent\"><img src=\"https://colab.research.google.com/assets/colab-badge.svg\" alt=\"Open In Colab\"/></a>"
      ]
    },
    {
      "cell_type": "markdown",
      "source": [
        "<center><b>Graphical Interpretation of Equations and Inequalities</b></center>\n",
        "\n",
        "Suppose $f$ and $g$ are functions.\n",
        "\n",
        "- The solutions to $f(x)=g(x)$ are the $x$ values where the graphs of $y=f(x)$ and $y=g(x)$ intersect.\n",
        "- The solutions to $f(x)\\lt g(x)$ are the $x$ values where the graphs of $y=f(x)$ is *below* the graph of $y=g(x)$.\n",
        "- The solutions to $f(x)\\gt g(x)$ are the $x$ values where the graphs of $y=f(x)$ is *above* the graph of $y=g(x)$.\n",
        "\n",
        "---\n",
        "\n",
        "**Theorem 2.4. Inequalities Involving the Absolute Value:** Let $c$ be a real number.\n",
        "\n",
        "- For $c\\gt 0$, $|x|\\lt c$ is equivalent to $-c\\lt x\\lt c$.\n",
        "- For $c\\gt 0$, $|x|\\leq c$ is equivalent to $-c\\leq x\\leq c$.\n",
        "- For $c\\leq 0$, $|x|\\lt c$ has no solution, and for $c\\lt 0$, $|x|\\leq c$ has no solution.\n",
        "- For $c\\geq 0$, $|x|\\gt c$ is equivalent to $x\\lt -c$ or $x\\gt c$.\n",
        "- For $c\\geq 0$, $|x|\\geq c$ is equivalent to $x\\leq -c$ or $x\\geq c$.\n",
        "- For $c\\lt 0$, $|x|\\gt c$ and $|x|\\geq c$ are true for all real numbers.\n",
        "\n",
        "---\n",
        "\n",
        "<center><b>Steps for Solving a Quadratic Inequality</b></center>\n",
        "\n",
        "1. Rewrite the inequality, if necessary, as a quadratic function $f(x)$ on one side of the inequality and $0$ on the other.\n",
        "2. Find the zeros of $f$ and place them on the number line with the number $0$ above them.\n",
        "3. Choose a real number, called a **test value**, in each of the intervals determined in step 2.\n",
        "4. Determine the sign $f(x)$ for each test value in step 3, and write that sign above the cooresponding interval.\n",
        "5. Choose the intervals which correspond to the correct sign to solve the inequality.\n",
        "\n",
        "---\n",
        "\n",
        "🍰🍰🍰🍰🍰🍰🍰🍰🍰🍰🍰🍰🍰🍰🍰🍰\n",
        "\n"
      ],
      "metadata": {
        "id": "cbzwl8cjoShT"
      }
    }
  ]
}