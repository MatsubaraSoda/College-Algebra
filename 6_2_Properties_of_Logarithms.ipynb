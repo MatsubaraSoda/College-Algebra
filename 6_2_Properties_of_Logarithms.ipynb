{
  "nbformat": 4,
  "nbformat_minor": 0,
  "metadata": {
    "colab": {
      "provenance": [],
      "authorship_tag": "ABX9TyMyIcfTqu4BLGWs7m0exQ38",
      "include_colab_link": true
    },
    "kernelspec": {
      "name": "python3",
      "display_name": "Python 3"
    },
    "language_info": {
      "name": "python"
    }
  },
  "cells": [
    {
      "cell_type": "markdown",
      "metadata": {
        "id": "view-in-github",
        "colab_type": "text"
      },
      "source": [
        "<a href=\"https://colab.research.google.com/github/MatsubaraSoda/College-Algebra/blob/main/6_2_Properties_of_Logarithms.ipynb\" target=\"_parent\"><img src=\"https://colab.research.google.com/assets/colab-badge.svg\" alt=\"Open In Colab\"/></a>"
      ]
    },
    {
      "cell_type": "markdown",
      "source": [
        "**Theorem 6.3. (Inverse Properties of Exponential and Logarithmic Functions)** Let $b\\gt 0,\\ b\\ne 1$.\n",
        "\n",
        "- $b^a=c$ if and only if $\\log_{b}(c)=a$\n",
        "\n",
        "- $\\log_{b}(b^x)=x$ for all $x$ and $b^{\\log_{b}(x)}=x$ for all $x\\gt 0$."
      ],
      "metadata": {
        "id": "ejbiHFw9eSFc"
      }
    },
    {
      "cell_type": "markdown",
      "source": [
        "**Theorem 6.4. (One-to-one Properties of Exponential and Logarithmic Functions)** Let $f(x)=b^x$ and $g(x)=\\log_b(x)$ where $b\\gt 0,\\ b\\ne 1$. Then $f$ and $g$ are one-to-one and\n",
        "\n",
        "- $b^u=b^w$ if and only if $u=w$ for all real numbers $u$ and $w$.\n",
        "\n",
        "- $\\log_b(u)=\\log_b(w)$ if and only if $u=w$ for all numbers $u\\gt 0,\\ w\\gt 0$."
      ],
      "metadata": {
        "id": "Vik_B3ibhjXE"
      }
    },
    {
      "cell_type": "markdown",
      "source": [
        "**Theorem 6.5. (Algebraic Properties of Exponential Functions)** Let $f(x)=b^x$ be an exponential function $(b\\gt0,\\ b\\ne 1)$ and let $u$ and $w$ be real number.\n",
        "\n",
        "- **Product Rule:** $f(u+w)=f(u)f(w)$. In other words, $b^{u+w}=b^ub^w$\n",
        "\n",
        "- **Quotient Rule:** $f(u-w)=\\frac{f(u)}{f(w)}$. In other words, $b^{u-w}=\\frac{b^u}{b^w}$\n",
        "\n",
        "- **Power Rule:** $(f(u))^w=f(uw)$. In other words, $(b^u)^w=b^{uw}$"
      ],
      "metadata": {
        "id": "2tcqngMKiG5V"
      }
    },
    {
      "cell_type": "markdown",
      "source": [
        "**Theorem 6.6. (Algebraic Properties of Logarithmic Functions)** Let $g(x)=\\log_b{x}$ be a logarithmic function $(b\\gt 0,\\ b\\ne 1)$ and let $u\\gt 0$ adn $w\\gt 0$ be real numbers.\n",
        "\n",
        "- **Product Rule:** $g(uw)=g(u)+g(w)$. In other words, $\\log_b(uw)=\\log_b(u)+\\log_b(w)$\n",
        "\n",
        "- **Quotient Rule:** $g(\\frac{u}{w})=g(u)-g(w)$. In other words, $\\log_b(\\frac{u}{w})=\\log_b(u)-\\log_b(w)$\n",
        "\n",
        "- **Power Rule:** $g(u^w)=wg(u)$. In other words, $\\log_b(u^w)=w\\log_b(u)$"
      ],
      "metadata": {
        "id": "f3CmuSayi38O"
      }
    },
    {
      "cell_type": "markdown",
      "source": [
        "**Theorem 6.7. (Change of Base Formulas)** Let $a,b\\gt 0,\\ a,b\\ne 1$.\n",
        "\n",
        "- $a^x = b^{x\\log_b(a)}$ for all real numbers $x$.\n",
        "\n",
        "- $\\log_a(x)=\\frac{\\log_b(x)}{\\log_b(a)}$ for all real numbers $x\\gt 0$."
      ],
      "metadata": {
        "id": "9S-UigLcxvZS"
      }
    },
    {
      "cell_type": "markdown",
      "source": [
        "✨✨✨✨✨✨✨✨✨✨✨✨✨✨✨✨"
      ],
      "metadata": {
        "id": "tvnSMHzuyLsd"
      }
    }
  ]
}