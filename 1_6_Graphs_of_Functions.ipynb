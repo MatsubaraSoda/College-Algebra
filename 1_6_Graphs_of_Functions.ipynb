{
  "nbformat": 4,
  "nbformat_minor": 0,
  "metadata": {
    "colab": {
      "provenance": [],
      "authorship_tag": "ABX9TyN2BQ+RdEeRxA6WMRcD4/Nz",
      "include_colab_link": true
    },
    "kernelspec": {
      "name": "python3",
      "display_name": "Python 3"
    },
    "language_info": {
      "name": "python"
    }
  },
  "cells": [
    {
      "cell_type": "markdown",
      "metadata": {
        "id": "view-in-github",
        "colab_type": "text"
      },
      "source": [
        "<a href=\"https://colab.research.google.com/github/MatsubaraSoda/College-Algebra/blob/main/1_6_Graphs_of_Functions.ipynb\" target=\"_parent\"><img src=\"https://colab.research.google.com/assets/colab-badge.svg\" alt=\"Open In Colab\"/></a>"
      ]
    },
    {
      "cell_type": "markdown",
      "source": [
        "<center><b>The Fundamental Graphing Principle for Functions</b></center>\n",
        "\n",
        "The graph of a function $f$ is the set of points which satisfy the equation $y=f(x)$. That is, the point $(x,y)$ is on the graph of $f$ if and only if $y=f(x)$.\n",
        "\n",
        "---\n",
        "\n",
        "**Definition 1.9.** The **zeros** of a function $f$ are the solutions to the equation $f(x)=0$. In other words, $x$ is a zero of $f$ if and only if $(x,0)$ is an $x$-intercept of the graph of $y=f(x)$.\n",
        "\n",
        "---\n",
        "\n",
        "<center><b>Testing the Graph of a Function for Symmetry</b></center>\n",
        "\n",
        "The graph of a function $f$ is symmetric.\n",
        "\n",
        "- about the $y$-axis if and only if $f(-x) = f(x)$ for all $x$ in the domain of $f$.\n",
        "- about the origin if and only if $f(-x) = -f(x)$ for all $x$ in the domain of $f$.\n",
        "\n",
        "---\n",
        "\n",
        "**Definition 1.10.** Suppose $f$ is a function defined on an interval $I$. We say $f$ is:\n",
        "\n",
        "- **increasing** on $I$ if and only if $f(a) \\lt f(b)$ for all real numbers $a,b$ in $I$ with $a\\lt b$.\n",
        "- **decreasing** on $I$ if and only if $f(a) \\gt f(b)$ for all real numbers $a,b$ in $I$ with $a\\gt b$.\n",
        "- **constant** on $I$ if and only if $f(a) = f(b)$ for all real numbers $a,b$ in $I$.\n",
        "\n",
        "---\n",
        "\n",
        "**Definition 1.11.** Suppose $f$ is a function with $f(a)=b$.\n",
        "\n",
        "- We say $f$ has a **local maximum** at the point $(a,b)$ if and only if there is an open interval $I$ containing $a$ for which $f(a)\\geq f(x)$ for all $x$ in $I$. The value $f(a)=b$ is called 'a local maximum value of $f$' in this case.\n",
        "- We say $f$ has a **local minimum** at the point $(a,b)$ if and only if there is an open interval $I$ containing $a$ for which $f(a)\\leq f(x)$ for all $x$ in $I$. The value $f(a)=b$ is called 'a local minimum value of $f$' in this case.\n",
        "- The value $b$ is called the **maximum** of $f$ if $b\\geq f(x)$ for all $x$ in the domain of $f$.\n",
        "- The value $b$ is called the **minimum** of $f$ if $b\\leq f(x)$ for all $x$ in the domain of $f$.\n",
        "\n",
        "---\n",
        "\n",
        "🧬🧬🧬🧬🧬🧬🧬🧬🧬🧬🧬🧬🧬🧬🧬🧬\n"
      ],
      "metadata": {
        "id": "pvzAXyRwa-MC"
      }
    }
  ]
}