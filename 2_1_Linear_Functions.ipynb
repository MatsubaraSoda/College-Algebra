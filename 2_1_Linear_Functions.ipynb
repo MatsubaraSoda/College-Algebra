{
  "nbformat": 4,
  "nbformat_minor": 0,
  "metadata": {
    "colab": {
      "provenance": [],
      "authorship_tag": "ABX9TyOf0LbatnaESgXQAY/nWWwy",
      "include_colab_link": true
    },
    "kernelspec": {
      "name": "python3",
      "display_name": "Python 3"
    },
    "language_info": {
      "name": "python"
    }
  },
  "cells": [
    {
      "cell_type": "markdown",
      "metadata": {
        "id": "view-in-github",
        "colab_type": "text"
      },
      "source": [
        "<a href=\"https://colab.research.google.com/github/MatsubaraSoda/College-Algebra/blob/main/2_1_Linear_Functions.ipynb\" target=\"_parent\"><img src=\"https://colab.research.google.com/assets/colab-badge.svg\" alt=\"Open In Colab\"/></a>"
      ]
    },
    {
      "cell_type": "markdown",
      "source": [
        "**Equation 2.1.** The **slope** $m$ of the line containing the points $P(x_0,y_0)$ and $Q(x_1)$ is:\n",
        "$$m=\\frac{y_1-y_0}{x_1-x_0},$$\n",
        "provided $x_1\\ne x_0$.\n",
        "\n",
        "---\n",
        "\n",
        "**Equation 2.2.** The **point-slope form** of the line with slope $m$ containing the point $(x_0)$ is the equation $y-y_0=m(x-x_0)$.\n",
        "\n",
        "---\n",
        "\n",
        "**Equation 2.3.** The **slope-intercept form** of the line with slope $m$ and $y$-intercept $(0,b)$ is the equation $y=mx+b$.\n",
        "\n",
        "---\n",
        "\n",
        "**Definition 2.1.** A **linear function** is a function of the form\n",
        "$$f(x)=mx+b,$$\n",
        "where $m$ and $b$ are real numbers with $m\\ne 0$. The domain of a linear function is $(-\\infty ,\\infty )$.\n",
        "\n",
        "---\n",
        "\n",
        "**Definition 2.2.** A **constant function** is a function of the form\n",
        "$$f(x)=b,$$\n",
        "where $b$ is real number. The domain of a constant function is $(-\\infty ,\\infty )$.\n",
        "\n",
        "---\n",
        "\n",
        "**Definition 2.3.** Let $f$ be a function defined on the interval $[a,b]$. The **average rate of change** of $f$ over $[a,b]$ is defined as:\n",
        "$$\\frac{𝚫f}{𝚫x}=\\frac{f(b)-f(a)}{b-a}.$$\n",
        "\n",
        "---\n",
        "💤💤💤💤💤💤💤💤💤💤💤💤💤💤💤💤\n",
        "\n"
      ],
      "metadata": {
        "id": "Okqz3cG2SIlY"
      }
    }
  ]
}