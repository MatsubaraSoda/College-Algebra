{
  "nbformat": 4,
  "nbformat_minor": 0,
  "metadata": {
    "colab": {
      "provenance": [],
      "authorship_tag": "ABX9TyPyLS+Dslu4h/OqWcknQJrR",
      "include_colab_link": true
    },
    "kernelspec": {
      "name": "python3",
      "display_name": "Python 3"
    },
    "language_info": {
      "name": "python"
    }
  },
  "cells": [
    {
      "cell_type": "markdown",
      "metadata": {
        "id": "view-in-github",
        "colab_type": "text"
      },
      "source": [
        "<a href=\"https://colab.research.google.com/github/MatsubaraSoda/College-Algebra/blob/main/1_4_Function_Notation.ipynb\" target=\"_parent\"><img src=\"https://colab.research.google.com/assets/colab-badge.svg\" alt=\"Open In Colab\"/></a>"
      ]
    },
    {
      "cell_type": "markdown",
      "source": [
        "If we think of the domain of a function as a set of **inputs** and the range as a set of **outputs**, we can think of a function $f$ as a **process** by which each input $x$ is matched with only one output $y$. Since the output is completely determined by the input $x$ and the process $f$, we symbolize the output with **function notation**: '$f(x)$', read '$f$ **of** $x$'. In other words, $f(x)$ is the output which results by applying the process $f$ to the input $x$.\n",
        "\n",
        "The value of $y$ is completely dependent on the choice of $x$. For this reason, $x$ is often called the **independent variable**, or **argument** of $f$, whereas $y$ is often called the **dependent variable**.\n",
        "\n",
        "⛄⛄⛄⛄⛄⛄⛄⛄⛄⛄⛄⛄⛄⛄⛄⛄\n",
        "\n",
        "1.4.1 Modeling with Functions\n",
        "\n",
        "> Mathematical modeling is not a one-section topic;. It's not even a one-course topic as is evidenced by undergraduate and graduate courses in mathematical modeling being offered at many universities. Thus our goal in this section cannot possibly be to tell you the whole stroy. What we can do is get you started. As we study new classes of functions, we will see what phenomena they can be used to model. In that respect, mathematical modeling cannot be a topic in a book, but rather, must be a theme of the book. For now, we have you explore some very basic models in the Exercises because you need to crawl to walk to run. As we learn more about functions, we'll help you build your own models and get you on your way to applying Mathematics to your world."
      ],
      "metadata": {
        "id": "jgtmtPJYuiHr"
      }
    },
    {
      "cell_type": "markdown",
      "source": [
        "## Example 1.4.1.\n",
        "Suppose  a function $g$ is described by applying the following steps, in sequence (1) add 4 (2) multiply by 3. Determine $g(5)$ and find an expression for $g(x)$."
      ],
      "metadata": {
        "id": "4lc0_tYOwgAq"
      }
    },
    {
      "cell_type": "code",
      "source": [
        "def g(x):\n",
        "    # Step 1: add 4\n",
        "    result = x + 4\n",
        "\n",
        "    # Step 2: multiply by 3\n",
        "    result *= 3\n",
        "\n",
        "    return result\n",
        "\n",
        "# Evaluate g(5)\n",
        "result_at_5 = g(5)\n",
        "print(\"g(5) =\", result_at_5)\n",
        "\n",
        "# Find an expression for g(x)\n",
        "# g(x) = (x + 4) * 3\n",
        "expression_for_gx = r\"(x + 4) * 3\"\n",
        "print(\"Expression for g(x):\", expression_for_gx)\n"
      ],
      "metadata": {
        "colab": {
          "base_uri": "https://localhost:8080/"
        },
        "id": "vb2XZqHexKWE",
        "outputId": "1e1e28e5-f75c-4f33-cb71-83d3821570cb"
      },
      "execution_count": 3,
      "outputs": [
        {
          "output_type": "stream",
          "name": "stdout",
          "text": [
            "g(5) = 27\n",
            "Expression for g(x): (x + 4) * 3\n"
          ]
        }
      ]
    }
  ]
}