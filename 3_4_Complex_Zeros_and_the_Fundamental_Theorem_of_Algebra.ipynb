{
  "nbformat": 4,
  "nbformat_minor": 0,
  "metadata": {
    "colab": {
      "provenance": [],
      "authorship_tag": "ABX9TyPWnBOjXzRzHWCpT2HFOj5i",
      "include_colab_link": true
    },
    "kernelspec": {
      "name": "python3",
      "display_name": "Python 3"
    },
    "language_info": {
      "name": "python"
    }
  },
  "cells": [
    {
      "cell_type": "markdown",
      "metadata": {
        "id": "view-in-github",
        "colab_type": "text"
      },
      "source": [
        "<a href=\"https://colab.research.google.com/github/MatsubaraSoda/College-Algebra/blob/main/3_4_Complex_Zeros_and_the_Fundamental_Theorem_of_Algebra.ipynb\" target=\"_parent\"><img src=\"https://colab.research.google.com/assets/colab-badge.svg\" alt=\"Open In Colab\"/></a>"
      ]
    },
    {
      "cell_type": "markdown",
      "source": [
        "**Definition 3.4.** The imaginary unit $i$ satisfies the two following properties\n",
        "\n",
        "1. $i^2=-1$\n",
        "2. If $c$ is a real number with $c\\geq 0$ then $\\sqrt{-c}=i\\sqrt{c}$"
      ],
      "metadata": {
        "id": "DBOcKFhmoZnP"
      }
    },
    {
      "cell_type": "markdown",
      "source": [
        "**Definiton 3.5.** A **complex number** is a number of the form $a+bi$, where $a$ and $b$ are real numbers and $i$ is the imaginary unit."
      ],
      "metadata": {
        "id": "fXmzY0xMo-gE"
      }
    },
    {
      "cell_type": "markdown",
      "source": [
        "**Theorem 3.12.** **Properties of the Complex Conjugate:** Let $z$ and $w$ be complex numbers.\n",
        "\n",
        "- $\\overline{\\overline{z}}=z$\n",
        "- $\\overline{z}+\\overline{w}=\\overline{z+w}$\n",
        "- $\\overline{z}\\ \\overline{w}=\\overline{zw}$\n",
        "- $(\\overline{z})^n=\\overline{z^n}$, for any natural number $n$\n",
        "- $z$ is a real number if and only if $\\overline{z}=z$."
      ],
      "metadata": {
        "id": "t-ygH82mpM3I"
      }
    },
    {
      "cell_type": "markdown",
      "source": [
        "**Theorem 3.13. The Fundamental Theorem of Algebra:** Suppose $f$ is a polynomial function with complex number coefficients of degree $n\\ge 1$, then $f$ has at least one complex zero."
      ],
      "metadata": {
        "id": "nasc4yC9qDkX"
      }
    },
    {
      "cell_type": "markdown",
      "source": [
        "**Theorem 3.14. Complex Factorization Theorem:** Suppose $f$ is a polynomial function with complex number coefficients. If the degree of $f$ is $n$ and $n\\ge 1$, then $f$ has exactly $n$ complex zeros, counting multiplicity. If $z_1,z_2,...,z_k$ are the distinct zeros of $f$, with multiplicities $m_1,m_2,...,m_k$, respectively, then $f(x)=a(x-z_1)^{m_1}(x-z_2)^{m_2}\\cdots (x-z_k)^{m_k}$.\n",
        "\n",
        "> When factoring a polynimial using Theorem 3.14, we say that it is **factored completely over the complex numbers**, meaning that is it impossible to factor the polynomial any further using complex numbers.\n",
        "\n",
        "> Since the zeros of $x^2-x+1$ are nonreal, we call $x^2-x+1$ an **irreducible quadratic** meaning it is possible to break it down any further using *real* numbers."
      ],
      "metadata": {
        "id": "rQUONf30qTSx"
      }
    },
    {
      "cell_type": "markdown",
      "source": [
        "**Theorem 3.15. Conjugate Pairs Theorem:** If $f$ is a polynomial function with real number coefficients and $z$ is a zero of $f$, then so is $\\overline{z}$."
      ],
      "metadata": {
        "id": "nQSpINHBrqMl"
      }
    },
    {
      "cell_type": "markdown",
      "source": [
        "**Theorem 3.16. Real Factorization Theorem:** Suppose $f$ is a polynomial function with real number coefficients. Then $f(x)$ can be factored into a product of linear factors corresponding to the real zeros of $f$ and irreducible quadratic factors which give the nonreal zeros of $f$."
      ],
      "metadata": {
        "id": "B4eDlxmlr6fT"
      }
    },
    {
      "cell_type": "markdown",
      "source": [
        "🚩🚩🚩🚩🚩🚩🚩🚩🚩🚩🚩🚩🚩🚩🚩🚩"
      ],
      "metadata": {
        "id": "YgMLpQM47Y9l"
      }
    },
    {
      "cell_type": "code",
      "source": [
        "import sympy as sp\n",
        "import numpy as np\n",
        "import IPython as ipy"
      ],
      "metadata": {
        "id": "MA4tOH57h164"
      },
      "execution_count": 46,
      "outputs": []
    },
    {
      "cell_type": "markdown",
      "source": [
        "## Exerciese 1 - 10\n",
        "\n",
        "In Exercises 1 - 10, use the given complex numbers $z$ and $w$ to find and simplify the following. Write your answers in the form $a+bi$.\n",
        "\n",
        "- $z+w$\n",
        "\n",
        "- $zw$\n",
        "\n",
        "- $z^2$\n",
        "\n",
        "- $\\frac{1}{z}$\n",
        "\n",
        "- $\\frac{z}{w}$\n",
        "\n",
        "- $\\frac{w}{z}$\n",
        "\n",
        "- $\\overline{z}$\n"
      ],
      "metadata": {
        "id": "Y-KeFWR6tfmf"
      }
    },
    {
      "cell_type": "markdown",
      "source": [
        "### 1. $z=2+3i,w=4i$"
      ],
      "metadata": {
        "id": "KxY3kdXH0Ltk"
      }
    },
    {
      "cell_type": "markdown",
      "source": [
        "**Solution.**\n",
        "\n",
        "- $z+w=2+3i+4i=2+7i$\n",
        "- $zw=(2+3i)(4i)$\n",
        "$\\phantom{zw}=8i+12i^2$\n",
        "$\\phantom{zw}=-12+8i$\n",
        "- $z^2=(2+3i)^2$\n",
        "$\\phantom{z^2}=4+12i+9i^2$\n",
        "$\\phantom{z^2}=-5+12i$\n",
        "- $\\frac{1}{z}=\\frac{1}{2+3i}$\n",
        "$\\phantom{\\frac{1}{z}}=\\frac{1(2-3i)}{(2+3i)(2-3i)}$\n",
        "$\\phantom{\\frac{1}{z}}=\\frac{2-3i}{4-9i^2}$\n",
        "$\\phantom{\\frac{1}{z}}=\\frac{2-3i}{13}$\n",
        "$\\phantom{\\frac{1}{z}}=\\frac{2}{13}-\\frac{3}{13}i$\n",
        "- $\\frac{z}{w}=\\frac{2+3i}{4i}$\n",
        "$\\phantom{\\frac{z}{w}}=\\frac{(2+3i)(-4i)}{4i(-4i)}$\n",
        "$\\phantom{\\frac{z}{w}}=\\frac{-8i+12}{16}$\n",
        "$\\phantom{\\frac{z}{w}}=\\frac{3}{4}-\\frac{1}{2}i$\n",
        "- $\\frac{w}{z}=\\frac{4i}{2+3i}$\n",
        "$\\phantom{\\frac{w}{z}}=\\frac{4i(2-3i)}{(2+3i)(2-3i)}$\n",
        "$\\phantom{\\frac{w}{z}}=\\frac{8i+12}{4+9}$\n",
        "$\\phantom{\\frac{w}{z}}=\\frac{12}{13}+\\frac{8}{13}i$\n",
        "- $\\overline{z}=2-3i$\n",
        "- $z\\overline{z}=(2-3i)(2+3i)$\n",
        "$\\phantom{z\\overline{z}}=4-9i^2$\n",
        "$\\phantom{z\\overline{z}}=13$\n",
        "- $(\\overline{z})^2=(2-3i)^2$\n",
        "$\\phantom{(\\overline{z})^2}=4-12i+9i^2$\n",
        "$\\phantom{(\\overline{z})^2}=-5-12i$"
      ],
      "metadata": {
        "id": "JpwmL1DY7t--"
      }
    },
    {
      "cell_type": "code",
      "source": [
        "z = 2 + 3 * sp.I\n",
        "w = 4 * sp.I\n",
        "\n",
        "expr ={r'z+w':z+w,\n",
        "    r'zw':z*w,\n",
        "    r'z^2':z**2,\n",
        "    r'\\frac{1}{z}':1/z,\n",
        "    r'\\frac{z}{w}':z/w,\n",
        "    r'\\frac{w}{z}':w/z,\n",
        "    r'\\overline{z}':sp.conjugate(z),\n",
        "    r'z\\overline{z}':z*sp.conjugate(z),\n",
        "    r'(\\overline{z})^2':sp.conjugate(z)**2}\n",
        "\n",
        "for key, value in expr.items():\n",
        "  display(ipy.display.Latex(key + '=' + sp.latex(sp.expand(value))))\n",
        "  print()"
      ],
      "metadata": {
        "colab": {
          "base_uri": "https://localhost:8080/",
          "height": 373
        },
        "id": "ejGTbxk-s2hn",
        "outputId": "b8442932-9747-4622-fa55-8b95fa310919"
      },
      "execution_count": 47,
      "outputs": [
        {
          "output_type": "display_data",
          "data": {
            "text/plain": [
              "<IPython.core.display.Latex object>"
            ],
            "text/latex": "z+w=2 + 7 i"
          },
          "metadata": {}
        },
        {
          "output_type": "stream",
          "name": "stdout",
          "text": [
            "\n"
          ]
        },
        {
          "output_type": "display_data",
          "data": {
            "text/plain": [
              "<IPython.core.display.Latex object>"
            ],
            "text/latex": "zw=-12 + 8 i"
          },
          "metadata": {}
        },
        {
          "output_type": "stream",
          "name": "stdout",
          "text": [
            "\n"
          ]
        },
        {
          "output_type": "display_data",
          "data": {
            "text/plain": [
              "<IPython.core.display.Latex object>"
            ],
            "text/latex": "z^2=-5 + 12 i"
          },
          "metadata": {}
        },
        {
          "output_type": "stream",
          "name": "stdout",
          "text": [
            "\n"
          ]
        },
        {
          "output_type": "display_data",
          "data": {
            "text/plain": [
              "<IPython.core.display.Latex object>"
            ],
            "text/latex": "\\frac{1}{z}=\\frac{2}{13} - \\frac{3 i}{13}"
          },
          "metadata": {}
        },
        {
          "output_type": "stream",
          "name": "stdout",
          "text": [
            "\n"
          ]
        },
        {
          "output_type": "display_data",
          "data": {
            "text/plain": [
              "<IPython.core.display.Latex object>"
            ],
            "text/latex": "\\frac{z}{w}=\\frac{3}{4} - \\frac{i}{2}"
          },
          "metadata": {}
        },
        {
          "output_type": "stream",
          "name": "stdout",
          "text": [
            "\n"
          ]
        },
        {
          "output_type": "display_data",
          "data": {
            "text/plain": [
              "<IPython.core.display.Latex object>"
            ],
            "text/latex": "\\frac{w}{z}=\\frac{12}{13} + \\frac{8 i}{13}"
          },
          "metadata": {}
        },
        {
          "output_type": "stream",
          "name": "stdout",
          "text": [
            "\n"
          ]
        },
        {
          "output_type": "display_data",
          "data": {
            "text/plain": [
              "<IPython.core.display.Latex object>"
            ],
            "text/latex": "\\overline{z}=2 - 3 i"
          },
          "metadata": {}
        },
        {
          "output_type": "stream",
          "name": "stdout",
          "text": [
            "\n"
          ]
        },
        {
          "output_type": "display_data",
          "data": {
            "text/plain": [
              "<IPython.core.display.Latex object>"
            ],
            "text/latex": "z\\overline{z}=13"
          },
          "metadata": {}
        },
        {
          "output_type": "stream",
          "name": "stdout",
          "text": [
            "\n"
          ]
        },
        {
          "output_type": "display_data",
          "data": {
            "text/plain": [
              "<IPython.core.display.Latex object>"
            ],
            "text/latex": "(\\overline{z})^2=-5 - 12 i"
          },
          "metadata": {}
        },
        {
          "output_type": "stream",
          "name": "stdout",
          "text": [
            "\n"
          ]
        }
      ]
    },
    {
      "cell_type": "markdown",
      "source": [
        "### 2. $z=1+i,w=-i$"
      ],
      "metadata": {
        "id": "oCdRjeeO0Ukk"
      }
    },
    {
      "cell_type": "code",
      "source": [
        "z = 1 + sp.I\n",
        "w = - sp.I\n",
        "\n",
        "expr ={r'z+w':z+w,\n",
        "    r'zw':z*w,\n",
        "    r'z^2':z**2,\n",
        "    r'\\frac{1}{z}':1/z,\n",
        "    r'\\frac{z}{w}':z/w,\n",
        "    r'\\frac{w}{z}':w/z,\n",
        "    r'\\overline{z}':sp.conjugate(z),\n",
        "    r'z\\overline{z}':z*sp.conjugate(z),\n",
        "    r'(\\overline{z})^2':sp.conjugate(z)**2}\n",
        "\n",
        "for key, value in expr.items():\n",
        "  display(ipy.display.Latex(key + '=' + sp.latex(sp.expand(value))))\n",
        "  print()"
      ],
      "metadata": {
        "colab": {
          "base_uri": "https://localhost:8080/",
          "height": 373
        },
        "id": "yuqgWRbMi2-z",
        "outputId": "c40f9536-c20a-4ab1-f937-ccfec373201b"
      },
      "execution_count": 48,
      "outputs": [
        {
          "output_type": "display_data",
          "data": {
            "text/plain": [
              "<IPython.core.display.Latex object>"
            ],
            "text/latex": "z+w=1"
          },
          "metadata": {}
        },
        {
          "output_type": "stream",
          "name": "stdout",
          "text": [
            "\n"
          ]
        },
        {
          "output_type": "display_data",
          "data": {
            "text/plain": [
              "<IPython.core.display.Latex object>"
            ],
            "text/latex": "zw=1 - i"
          },
          "metadata": {}
        },
        {
          "output_type": "stream",
          "name": "stdout",
          "text": [
            "\n"
          ]
        },
        {
          "output_type": "display_data",
          "data": {
            "text/plain": [
              "<IPython.core.display.Latex object>"
            ],
            "text/latex": "z^2=2 i"
          },
          "metadata": {}
        },
        {
          "output_type": "stream",
          "name": "stdout",
          "text": [
            "\n"
          ]
        },
        {
          "output_type": "display_data",
          "data": {
            "text/plain": [
              "<IPython.core.display.Latex object>"
            ],
            "text/latex": "\\frac{1}{z}=\\frac{1}{2} - \\frac{i}{2}"
          },
          "metadata": {}
        },
        {
          "output_type": "stream",
          "name": "stdout",
          "text": [
            "\n"
          ]
        },
        {
          "output_type": "display_data",
          "data": {
            "text/plain": [
              "<IPython.core.display.Latex object>"
            ],
            "text/latex": "\\frac{z}{w}=-1 + i"
          },
          "metadata": {}
        },
        {
          "output_type": "stream",
          "name": "stdout",
          "text": [
            "\n"
          ]
        },
        {
          "output_type": "display_data",
          "data": {
            "text/plain": [
              "<IPython.core.display.Latex object>"
            ],
            "text/latex": "\\frac{w}{z}=- \\frac{1}{2} - \\frac{i}{2}"
          },
          "metadata": {}
        },
        {
          "output_type": "stream",
          "name": "stdout",
          "text": [
            "\n"
          ]
        },
        {
          "output_type": "display_data",
          "data": {
            "text/plain": [
              "<IPython.core.display.Latex object>"
            ],
            "text/latex": "\\overline{z}=1 - i"
          },
          "metadata": {}
        },
        {
          "output_type": "stream",
          "name": "stdout",
          "text": [
            "\n"
          ]
        },
        {
          "output_type": "display_data",
          "data": {
            "text/plain": [
              "<IPython.core.display.Latex object>"
            ],
            "text/latex": "z\\overline{z}=2"
          },
          "metadata": {}
        },
        {
          "output_type": "stream",
          "name": "stdout",
          "text": [
            "\n"
          ]
        },
        {
          "output_type": "display_data",
          "data": {
            "text/plain": [
              "<IPython.core.display.Latex object>"
            ],
            "text/latex": "(\\overline{z})^2=- 2 i"
          },
          "metadata": {}
        },
        {
          "output_type": "stream",
          "name": "stdout",
          "text": [
            "\n"
          ]
        }
      ]
    },
    {
      "cell_type": "markdown",
      "source": [
        "### 3. $z=i,w=-1+2i$"
      ],
      "metadata": {
        "id": "AYHAn03J0e4K"
      }
    },
    {
      "cell_type": "code",
      "source": [
        "z = sp.I\n",
        "w = -1 + 2*sp.I\n",
        "\n",
        "expr ={r'z+w':z+w,\n",
        "    r'zw':z*w,\n",
        "    r'z^2':z**2,\n",
        "    r'\\frac{1}{z}':1/z,\n",
        "    r'\\frac{z}{w}':z/w,\n",
        "    r'\\frac{w}{z}':w/z,\n",
        "    r'\\overline{z}':sp.conjugate(z),\n",
        "    r'z\\overline{z}':z*sp.conjugate(z),\n",
        "    r'(\\overline{z})^2':sp.conjugate(z)**2}\n",
        "\n",
        "for key, value in expr.items():\n",
        "  display(ipy.display.Latex(key + '=' + sp.latex(sp.expand(value))))\n",
        "  print()"
      ],
      "metadata": {
        "colab": {
          "base_uri": "https://localhost:8080/",
          "height": 373
        },
        "id": "CjWhO0tGwFP8",
        "outputId": "b0692262-68ff-4e12-e996-f43b64d47f2f"
      },
      "execution_count": 49,
      "outputs": [
        {
          "output_type": "display_data",
          "data": {
            "text/plain": [
              "<IPython.core.display.Latex object>"
            ],
            "text/latex": "z+w=-1 + 3 i"
          },
          "metadata": {}
        },
        {
          "output_type": "stream",
          "name": "stdout",
          "text": [
            "\n"
          ]
        },
        {
          "output_type": "display_data",
          "data": {
            "text/plain": [
              "<IPython.core.display.Latex object>"
            ],
            "text/latex": "zw=-2 - i"
          },
          "metadata": {}
        },
        {
          "output_type": "stream",
          "name": "stdout",
          "text": [
            "\n"
          ]
        },
        {
          "output_type": "display_data",
          "data": {
            "text/plain": [
              "<IPython.core.display.Latex object>"
            ],
            "text/latex": "z^2=-1"
          },
          "metadata": {}
        },
        {
          "output_type": "stream",
          "name": "stdout",
          "text": [
            "\n"
          ]
        },
        {
          "output_type": "display_data",
          "data": {
            "text/plain": [
              "<IPython.core.display.Latex object>"
            ],
            "text/latex": "\\frac{1}{z}=- i"
          },
          "metadata": {}
        },
        {
          "output_type": "stream",
          "name": "stdout",
          "text": [
            "\n"
          ]
        },
        {
          "output_type": "display_data",
          "data": {
            "text/plain": [
              "<IPython.core.display.Latex object>"
            ],
            "text/latex": "\\frac{z}{w}=\\frac{2}{5} - \\frac{i}{5}"
          },
          "metadata": {}
        },
        {
          "output_type": "stream",
          "name": "stdout",
          "text": [
            "\n"
          ]
        },
        {
          "output_type": "display_data",
          "data": {
            "text/plain": [
              "<IPython.core.display.Latex object>"
            ],
            "text/latex": "\\frac{w}{z}=2 + i"
          },
          "metadata": {}
        },
        {
          "output_type": "stream",
          "name": "stdout",
          "text": [
            "\n"
          ]
        },
        {
          "output_type": "display_data",
          "data": {
            "text/plain": [
              "<IPython.core.display.Latex object>"
            ],
            "text/latex": "\\overline{z}=- i"
          },
          "metadata": {}
        },
        {
          "output_type": "stream",
          "name": "stdout",
          "text": [
            "\n"
          ]
        },
        {
          "output_type": "display_data",
          "data": {
            "text/plain": [
              "<IPython.core.display.Latex object>"
            ],
            "text/latex": "z\\overline{z}=1"
          },
          "metadata": {}
        },
        {
          "output_type": "stream",
          "name": "stdout",
          "text": [
            "\n"
          ]
        },
        {
          "output_type": "display_data",
          "data": {
            "text/plain": [
              "<IPython.core.display.Latex object>"
            ],
            "text/latex": "(\\overline{z})^2=-1"
          },
          "metadata": {}
        },
        {
          "output_type": "stream",
          "name": "stdout",
          "text": [
            "\n"
          ]
        }
      ]
    },
    {
      "cell_type": "markdown",
      "source": [
        "### 4. $z=4i,w=2-2i$"
      ],
      "metadata": {
        "id": "IB9nOAoQ0kUZ"
      }
    },
    {
      "cell_type": "code",
      "source": [
        "z = 4 * sp.I\n",
        "w = 2 - 2 * sp.I\n",
        "\n",
        "expr ={r'z+w':z+w,\n",
        "    r'zw':z*w,\n",
        "    r'z^2':z**2,\n",
        "    r'\\frac{1}{z}':1/z,\n",
        "    r'\\frac{z}{w}':z/w,\n",
        "    r'\\frac{w}{z}':w/z,\n",
        "    r'\\overline{z}':sp.conjugate(z),\n",
        "    r'z\\overline{z}':z*sp.conjugate(z),\n",
        "    r'(\\overline{z})^2':sp.conjugate(z)**2}\n",
        "\n",
        "for key, value in expr.items():\n",
        "  display(ipy.display.Latex(key + '=' + sp.latex(sp.expand(value))))\n",
        "  print()"
      ],
      "metadata": {
        "colab": {
          "base_uri": "https://localhost:8080/",
          "height": 372
        },
        "id": "fDd7cpX0wM2W",
        "outputId": "45f03e43-4ea9-42b7-df9d-dc89d9150ead"
      },
      "execution_count": 50,
      "outputs": [
        {
          "output_type": "display_data",
          "data": {
            "text/plain": [
              "<IPython.core.display.Latex object>"
            ],
            "text/latex": "z+w=2 + 2 i"
          },
          "metadata": {}
        },
        {
          "output_type": "stream",
          "name": "stdout",
          "text": [
            "\n"
          ]
        },
        {
          "output_type": "display_data",
          "data": {
            "text/plain": [
              "<IPython.core.display.Latex object>"
            ],
            "text/latex": "zw=8 + 8 i"
          },
          "metadata": {}
        },
        {
          "output_type": "stream",
          "name": "stdout",
          "text": [
            "\n"
          ]
        },
        {
          "output_type": "display_data",
          "data": {
            "text/plain": [
              "<IPython.core.display.Latex object>"
            ],
            "text/latex": "z^2=-16"
          },
          "metadata": {}
        },
        {
          "output_type": "stream",
          "name": "stdout",
          "text": [
            "\n"
          ]
        },
        {
          "output_type": "display_data",
          "data": {
            "text/plain": [
              "<IPython.core.display.Latex object>"
            ],
            "text/latex": "\\frac{1}{z}=- \\frac{i}{4}"
          },
          "metadata": {}
        },
        {
          "output_type": "stream",
          "name": "stdout",
          "text": [
            "\n"
          ]
        },
        {
          "output_type": "display_data",
          "data": {
            "text/plain": [
              "<IPython.core.display.Latex object>"
            ],
            "text/latex": "\\frac{z}{w}=-1 + i"
          },
          "metadata": {}
        },
        {
          "output_type": "stream",
          "name": "stdout",
          "text": [
            "\n"
          ]
        },
        {
          "output_type": "display_data",
          "data": {
            "text/plain": [
              "<IPython.core.display.Latex object>"
            ],
            "text/latex": "\\frac{w}{z}=- \\frac{1}{2} - \\frac{i}{2}"
          },
          "metadata": {}
        },
        {
          "output_type": "stream",
          "name": "stdout",
          "text": [
            "\n"
          ]
        },
        {
          "output_type": "display_data",
          "data": {
            "text/plain": [
              "<IPython.core.display.Latex object>"
            ],
            "text/latex": "\\overline{z}=- 4 i"
          },
          "metadata": {}
        },
        {
          "output_type": "stream",
          "name": "stdout",
          "text": [
            "\n"
          ]
        },
        {
          "output_type": "display_data",
          "data": {
            "text/plain": [
              "<IPython.core.display.Latex object>"
            ],
            "text/latex": "z\\overline{z}=16"
          },
          "metadata": {}
        },
        {
          "output_type": "stream",
          "name": "stdout",
          "text": [
            "\n"
          ]
        },
        {
          "output_type": "display_data",
          "data": {
            "text/plain": [
              "<IPython.core.display.Latex object>"
            ],
            "text/latex": "(\\overline{z})^2=-16"
          },
          "metadata": {}
        },
        {
          "output_type": "stream",
          "name": "stdout",
          "text": [
            "\n"
          ]
        }
      ]
    },
    {
      "cell_type": "markdown",
      "source": [
        "### 5. $z=3-5i,w=2+7i$"
      ],
      "metadata": {
        "id": "dtQ9tkAc0pBN"
      }
    },
    {
      "cell_type": "code",
      "source": [
        "z = 3 - 5 * sp.I\n",
        "w = 2 + 7 * sp.I\n",
        "\n",
        "expr ={r'z+w':z+w,\n",
        "    r'zw':z*w,\n",
        "    r'z^2':z**2,\n",
        "    r'\\frac{1}{z}':1/z,\n",
        "    r'\\frac{z}{w}':z/w,\n",
        "    r'\\frac{w}{z}':w/z,\n",
        "    r'\\overline{z}':sp.conjugate(z),\n",
        "    r'z\\overline{z}':z*sp.conjugate(z),\n",
        "    r'(\\overline{z})^2':sp.conjugate(z)**2}\n",
        "\n",
        "for key, value in expr.items():\n",
        "  display(ipy.display.Latex(key + '=' + sp.latex(sp.expand(value))))\n",
        "  print()"
      ],
      "metadata": {
        "colab": {
          "base_uri": "https://localhost:8080/",
          "height": 373
        },
        "id": "NScuge2pwTwA",
        "outputId": "47449601-8bfa-4470-e928-fa90c38dd8a3"
      },
      "execution_count": 51,
      "outputs": [
        {
          "output_type": "display_data",
          "data": {
            "text/plain": [
              "<IPython.core.display.Latex object>"
            ],
            "text/latex": "z+w=5 + 2 i"
          },
          "metadata": {}
        },
        {
          "output_type": "stream",
          "name": "stdout",
          "text": [
            "\n"
          ]
        },
        {
          "output_type": "display_data",
          "data": {
            "text/plain": [
              "<IPython.core.display.Latex object>"
            ],
            "text/latex": "zw=41 + 11 i"
          },
          "metadata": {}
        },
        {
          "output_type": "stream",
          "name": "stdout",
          "text": [
            "\n"
          ]
        },
        {
          "output_type": "display_data",
          "data": {
            "text/plain": [
              "<IPython.core.display.Latex object>"
            ],
            "text/latex": "z^2=-16 - 30 i"
          },
          "metadata": {}
        },
        {
          "output_type": "stream",
          "name": "stdout",
          "text": [
            "\n"
          ]
        },
        {
          "output_type": "display_data",
          "data": {
            "text/plain": [
              "<IPython.core.display.Latex object>"
            ],
            "text/latex": "\\frac{1}{z}=\\frac{3}{34} + \\frac{5 i}{34}"
          },
          "metadata": {}
        },
        {
          "output_type": "stream",
          "name": "stdout",
          "text": [
            "\n"
          ]
        },
        {
          "output_type": "display_data",
          "data": {
            "text/plain": [
              "<IPython.core.display.Latex object>"
            ],
            "text/latex": "\\frac{z}{w}=- \\frac{29}{53} - \\frac{31 i}{53}"
          },
          "metadata": {}
        },
        {
          "output_type": "stream",
          "name": "stdout",
          "text": [
            "\n"
          ]
        },
        {
          "output_type": "display_data",
          "data": {
            "text/plain": [
              "<IPython.core.display.Latex object>"
            ],
            "text/latex": "\\frac{w}{z}=- \\frac{29}{34} + \\frac{31 i}{34}"
          },
          "metadata": {}
        },
        {
          "output_type": "stream",
          "name": "stdout",
          "text": [
            "\n"
          ]
        },
        {
          "output_type": "display_data",
          "data": {
            "text/plain": [
              "<IPython.core.display.Latex object>"
            ],
            "text/latex": "\\overline{z}=3 + 5 i"
          },
          "metadata": {}
        },
        {
          "output_type": "stream",
          "name": "stdout",
          "text": [
            "\n"
          ]
        },
        {
          "output_type": "display_data",
          "data": {
            "text/plain": [
              "<IPython.core.display.Latex object>"
            ],
            "text/latex": "z\\overline{z}=34"
          },
          "metadata": {}
        },
        {
          "output_type": "stream",
          "name": "stdout",
          "text": [
            "\n"
          ]
        },
        {
          "output_type": "display_data",
          "data": {
            "text/plain": [
              "<IPython.core.display.Latex object>"
            ],
            "text/latex": "(\\overline{z})^2=-16 + 30 i"
          },
          "metadata": {}
        },
        {
          "output_type": "stream",
          "name": "stdout",
          "text": [
            "\n"
          ]
        }
      ]
    },
    {
      "cell_type": "markdown",
      "source": [
        "### 6. $z=-5+i,w=4+2i$"
      ],
      "metadata": {
        "id": "NVPH99YE0vhW"
      }
    },
    {
      "cell_type": "code",
      "source": [
        "z = - 5 + sp.I\n",
        "w = 4 + 2 * sp.I\n",
        "\n",
        "expr ={r'z+w':z+w,\n",
        "    r'zw':z*w,\n",
        "    r'z^2':z**2,\n",
        "    r'\\frac{1}{z}':1/z,\n",
        "    r'\\frac{z}{w}':z/w,\n",
        "    r'\\frac{w}{z}':w/z,\n",
        "    r'\\overline{z}':sp.conjugate(z),\n",
        "    r'z\\overline{z}':z*sp.conjugate(z),\n",
        "    r'(\\overline{z})^2':sp.conjugate(z)**2}\n",
        "\n",
        "for key, value in expr.items():\n",
        "  display(ipy.display.Latex(key + '=' + sp.latex(sp.expand(value))))\n",
        "  print()"
      ],
      "metadata": {
        "colab": {
          "base_uri": "https://localhost:8080/",
          "height": 373
        },
        "id": "iPfx6p99xU3d",
        "outputId": "21aa9141-4888-47f6-d142-0ddce24eee9c"
      },
      "execution_count": 52,
      "outputs": [
        {
          "output_type": "display_data",
          "data": {
            "text/plain": [
              "<IPython.core.display.Latex object>"
            ],
            "text/latex": "z+w=-1 + 3 i"
          },
          "metadata": {}
        },
        {
          "output_type": "stream",
          "name": "stdout",
          "text": [
            "\n"
          ]
        },
        {
          "output_type": "display_data",
          "data": {
            "text/plain": [
              "<IPython.core.display.Latex object>"
            ],
            "text/latex": "zw=-22 - 6 i"
          },
          "metadata": {}
        },
        {
          "output_type": "stream",
          "name": "stdout",
          "text": [
            "\n"
          ]
        },
        {
          "output_type": "display_data",
          "data": {
            "text/plain": [
              "<IPython.core.display.Latex object>"
            ],
            "text/latex": "z^2=24 - 10 i"
          },
          "metadata": {}
        },
        {
          "output_type": "stream",
          "name": "stdout",
          "text": [
            "\n"
          ]
        },
        {
          "output_type": "display_data",
          "data": {
            "text/plain": [
              "<IPython.core.display.Latex object>"
            ],
            "text/latex": "\\frac{1}{z}=- \\frac{5}{26} - \\frac{i}{26}"
          },
          "metadata": {}
        },
        {
          "output_type": "stream",
          "name": "stdout",
          "text": [
            "\n"
          ]
        },
        {
          "output_type": "display_data",
          "data": {
            "text/plain": [
              "<IPython.core.display.Latex object>"
            ],
            "text/latex": "\\frac{z}{w}=- \\frac{9}{10} + \\frac{7 i}{10}"
          },
          "metadata": {}
        },
        {
          "output_type": "stream",
          "name": "stdout",
          "text": [
            "\n"
          ]
        },
        {
          "output_type": "display_data",
          "data": {
            "text/plain": [
              "<IPython.core.display.Latex object>"
            ],
            "text/latex": "\\frac{w}{z}=- \\frac{9}{13} - \\frac{7 i}{13}"
          },
          "metadata": {}
        },
        {
          "output_type": "stream",
          "name": "stdout",
          "text": [
            "\n"
          ]
        },
        {
          "output_type": "display_data",
          "data": {
            "text/plain": [
              "<IPython.core.display.Latex object>"
            ],
            "text/latex": "\\overline{z}=-5 - i"
          },
          "metadata": {}
        },
        {
          "output_type": "stream",
          "name": "stdout",
          "text": [
            "\n"
          ]
        },
        {
          "output_type": "display_data",
          "data": {
            "text/plain": [
              "<IPython.core.display.Latex object>"
            ],
            "text/latex": "z\\overline{z}=26"
          },
          "metadata": {}
        },
        {
          "output_type": "stream",
          "name": "stdout",
          "text": [
            "\n"
          ]
        },
        {
          "output_type": "display_data",
          "data": {
            "text/plain": [
              "<IPython.core.display.Latex object>"
            ],
            "text/latex": "(\\overline{z})^2=24 + 10 i"
          },
          "metadata": {}
        },
        {
          "output_type": "stream",
          "name": "stdout",
          "text": [
            "\n"
          ]
        }
      ]
    },
    {
      "cell_type": "markdown",
      "source": [
        "### 7. $z=\\sqrt{2}-i\\sqrt{2},w=\\sqrt{2}+i\\sqrt{2}$"
      ],
      "metadata": {
        "id": "T-hlex7Y01Y6"
      }
    },
    {
      "cell_type": "code",
      "source": [
        "z = sp.sqrt(2) - sp.sqrt(2) * sp.I\n",
        "w = sp.sqrt(2) + sp.sqrt(2) * sp.I\n",
        "\n",
        "expr ={r'z+w':z+w,\n",
        "    r'zw':z*w,\n",
        "    r'z^2':z**2,\n",
        "    r'\\frac{1}{z}':1/z,\n",
        "    r'\\frac{z}{w}':z/w,\n",
        "    r'\\frac{w}{z}':w/z,\n",
        "    r'\\overline{z}':sp.conjugate(z),\n",
        "    r'z\\overline{z}':z*sp.conjugate(z),\n",
        "    r'(\\overline{z})^2':sp.conjugate(z)**2}\n",
        "\n",
        "for key, value in expr.items():\n",
        "  display(ipy.display.Latex(key + '=' + sp.latex(sp.expand(sp.simplify(value)))))\n",
        "  print()"
      ],
      "metadata": {
        "colab": {
          "base_uri": "https://localhost:8080/",
          "height": 377
        },
        "id": "5CW_Z6mOxdZP",
        "outputId": "2382dcc3-bb7d-4be3-e4e6-a7a4d6052098"
      },
      "execution_count": 53,
      "outputs": [
        {
          "output_type": "display_data",
          "data": {
            "text/plain": [
              "<IPython.core.display.Latex object>"
            ],
            "text/latex": "z+w=2 \\sqrt{2}"
          },
          "metadata": {}
        },
        {
          "output_type": "stream",
          "name": "stdout",
          "text": [
            "\n"
          ]
        },
        {
          "output_type": "display_data",
          "data": {
            "text/plain": [
              "<IPython.core.display.Latex object>"
            ],
            "text/latex": "zw=4"
          },
          "metadata": {}
        },
        {
          "output_type": "stream",
          "name": "stdout",
          "text": [
            "\n"
          ]
        },
        {
          "output_type": "display_data",
          "data": {
            "text/plain": [
              "<IPython.core.display.Latex object>"
            ],
            "text/latex": "z^2=- 4 i"
          },
          "metadata": {}
        },
        {
          "output_type": "stream",
          "name": "stdout",
          "text": [
            "\n"
          ]
        },
        {
          "output_type": "display_data",
          "data": {
            "text/plain": [
              "<IPython.core.display.Latex object>"
            ],
            "text/latex": "\\frac{1}{z}=\\frac{\\sqrt{2}}{4} + \\frac{\\sqrt{2} i}{4}"
          },
          "metadata": {}
        },
        {
          "output_type": "stream",
          "name": "stdout",
          "text": [
            "\n"
          ]
        },
        {
          "output_type": "display_data",
          "data": {
            "text/plain": [
              "<IPython.core.display.Latex object>"
            ],
            "text/latex": "\\frac{z}{w}=- i"
          },
          "metadata": {}
        },
        {
          "output_type": "stream",
          "name": "stdout",
          "text": [
            "\n"
          ]
        },
        {
          "output_type": "display_data",
          "data": {
            "text/plain": [
              "<IPython.core.display.Latex object>"
            ],
            "text/latex": "\\frac{w}{z}=i"
          },
          "metadata": {}
        },
        {
          "output_type": "stream",
          "name": "stdout",
          "text": [
            "\n"
          ]
        },
        {
          "output_type": "display_data",
          "data": {
            "text/plain": [
              "<IPython.core.display.Latex object>"
            ],
            "text/latex": "\\overline{z}=\\sqrt{2} + \\sqrt{2} i"
          },
          "metadata": {}
        },
        {
          "output_type": "stream",
          "name": "stdout",
          "text": [
            "\n"
          ]
        },
        {
          "output_type": "display_data",
          "data": {
            "text/plain": [
              "<IPython.core.display.Latex object>"
            ],
            "text/latex": "z\\overline{z}=4"
          },
          "metadata": {}
        },
        {
          "output_type": "stream",
          "name": "stdout",
          "text": [
            "\n"
          ]
        },
        {
          "output_type": "display_data",
          "data": {
            "text/plain": [
              "<IPython.core.display.Latex object>"
            ],
            "text/latex": "(\\overline{z})^2=4 i"
          },
          "metadata": {}
        },
        {
          "output_type": "stream",
          "name": "stdout",
          "text": [
            "\n"
          ]
        }
      ]
    },
    {
      "cell_type": "markdown",
      "source": [
        "### 8. $z=1-i\\sqrt{3},w=-1-i\\sqrt{3}$"
      ],
      "metadata": {
        "id": "lSj064bG0-o7"
      }
    },
    {
      "cell_type": "code",
      "source": [
        "z = 1 - sp.sqrt(3) * sp.I\n",
        "w = - 1 - sp.sqrt(3) * sp.I\n",
        "\n",
        "expr ={r'z+w':z+w,\n",
        "    r'zw':z*w,\n",
        "    r'z^2':z**2,\n",
        "    r'\\frac{1}{z}':1/z,\n",
        "    r'\\frac{z}{w}':z/w,\n",
        "    r'\\frac{w}{z}':w/z,\n",
        "    r'\\overline{z}':sp.conjugate(z),\n",
        "    r'z\\overline{z}':z*sp.conjugate(z),\n",
        "    r'(\\overline{z})^2':sp.conjugate(z)**2}\n",
        "\n",
        "for key, value in expr.items():\n",
        "  display(ipy.display.Latex(key + '=' + sp.latex(sp.re(value)) + '+' + sp.latex(sp.im(value)*sp.I) ))\n",
        "  print()"
      ],
      "metadata": {
        "colab": {
          "base_uri": "https://localhost:8080/",
          "height": 382
        },
        "id": "9MJ4_Em0y0_K",
        "outputId": "39472803-e18e-42d6-9201-ad1e8e17495e"
      },
      "execution_count": 54,
      "outputs": [
        {
          "output_type": "display_data",
          "data": {
            "text/plain": [
              "<IPython.core.display.Latex object>"
            ],
            "text/latex": "z+w=0+- 2 \\sqrt{3} i"
          },
          "metadata": {}
        },
        {
          "output_type": "stream",
          "name": "stdout",
          "text": [
            "\n"
          ]
        },
        {
          "output_type": "display_data",
          "data": {
            "text/plain": [
              "<IPython.core.display.Latex object>"
            ],
            "text/latex": "zw=-4+0"
          },
          "metadata": {}
        },
        {
          "output_type": "stream",
          "name": "stdout",
          "text": [
            "\n"
          ]
        },
        {
          "output_type": "display_data",
          "data": {
            "text/plain": [
              "<IPython.core.display.Latex object>"
            ],
            "text/latex": "z^2=-2+- 2 \\sqrt{3} i"
          },
          "metadata": {}
        },
        {
          "output_type": "stream",
          "name": "stdout",
          "text": [
            "\n"
          ]
        },
        {
          "output_type": "display_data",
          "data": {
            "text/plain": [
              "<IPython.core.display.Latex object>"
            ],
            "text/latex": "\\frac{1}{z}=\\frac{1}{4}+\\frac{\\sqrt{3} i}{4}"
          },
          "metadata": {}
        },
        {
          "output_type": "stream",
          "name": "stdout",
          "text": [
            "\n"
          ]
        },
        {
          "output_type": "display_data",
          "data": {
            "text/plain": [
              "<IPython.core.display.Latex object>"
            ],
            "text/latex": "\\frac{z}{w}=\\frac{1}{2}+\\frac{\\sqrt{3} i}{2}"
          },
          "metadata": {}
        },
        {
          "output_type": "stream",
          "name": "stdout",
          "text": [
            "\n"
          ]
        },
        {
          "output_type": "display_data",
          "data": {
            "text/plain": [
              "<IPython.core.display.Latex object>"
            ],
            "text/latex": "\\frac{w}{z}=\\frac{1}{2}+- \\frac{\\sqrt{3} i}{2}"
          },
          "metadata": {}
        },
        {
          "output_type": "stream",
          "name": "stdout",
          "text": [
            "\n"
          ]
        },
        {
          "output_type": "display_data",
          "data": {
            "text/plain": [
              "<IPython.core.display.Latex object>"
            ],
            "text/latex": "\\overline{z}=1+\\sqrt{3} i"
          },
          "metadata": {}
        },
        {
          "output_type": "stream",
          "name": "stdout",
          "text": [
            "\n"
          ]
        },
        {
          "output_type": "display_data",
          "data": {
            "text/plain": [
              "<IPython.core.display.Latex object>"
            ],
            "text/latex": "z\\overline{z}=4+0"
          },
          "metadata": {}
        },
        {
          "output_type": "stream",
          "name": "stdout",
          "text": [
            "\n"
          ]
        },
        {
          "output_type": "display_data",
          "data": {
            "text/plain": [
              "<IPython.core.display.Latex object>"
            ],
            "text/latex": "(\\overline{z})^2=-2+2 \\sqrt{3} i"
          },
          "metadata": {}
        },
        {
          "output_type": "stream",
          "name": "stdout",
          "text": [
            "\n"
          ]
        }
      ]
    },
    {
      "cell_type": "markdown",
      "source": [
        "### 9. $z=\\frac{1}{2}+\\frac{\\sqrt{3}}{2}i,w=-\\frac{1}{2}+\\frac{\\sqrt{3}}{2}i$"
      ],
      "metadata": {
        "id": "y0e4gZl71E3n"
      }
    },
    {
      "cell_type": "code",
      "source": [
        "z = 1/2 + sp.sqrt(3) / 2 * sp.I\n",
        "w = - 1/2 + sp.sqrt(3) / 2 * sp.I\n",
        "\n",
        "expr ={r'z+w':z+w,\n",
        "    r'zw':z*w,\n",
        "    r'z^2':z**2,\n",
        "    r'\\frac{1}{z}':1/z,\n",
        "    r'\\frac{z}{w}':z/w,\n",
        "    r'\\frac{w}{z}':w/z,\n",
        "    r'\\overline{z}':sp.conjugate(z),\n",
        "    r'z\\overline{z}':z*sp.conjugate(z),\n",
        "    r'(\\overline{z})^2':sp.conjugate(z)**2}\n",
        "\n",
        "for key, value in expr.items():\n",
        "  display(ipy.display.Latex(key + '=' + sp.latex(sp.expand(sp.simplify(value)))))\n",
        "  print()"
      ],
      "metadata": {
        "colab": {
          "base_uri": "https://localhost:8080/",
          "height": 378
        },
        "id": "KpKBdnN82pCW",
        "outputId": "d0269200-64c6-4bd5-f90b-6ad8724ee822"
      },
      "execution_count": 55,
      "outputs": [
        {
          "output_type": "display_data",
          "data": {
            "text/plain": [
              "<IPython.core.display.Latex object>"
            ],
            "text/latex": "z+w=\\sqrt{3} i"
          },
          "metadata": {}
        },
        {
          "output_type": "stream",
          "name": "stdout",
          "text": [
            "\n"
          ]
        },
        {
          "output_type": "display_data",
          "data": {
            "text/plain": [
              "<IPython.core.display.Latex object>"
            ],
            "text/latex": "zw=-1.0"
          },
          "metadata": {}
        },
        {
          "output_type": "stream",
          "name": "stdout",
          "text": [
            "\n"
          ]
        },
        {
          "output_type": "display_data",
          "data": {
            "text/plain": [
              "<IPython.core.display.Latex object>"
            ],
            "text/latex": "z^2=-0.5 + 0.5 \\sqrt{3} i"
          },
          "metadata": {}
        },
        {
          "output_type": "stream",
          "name": "stdout",
          "text": [
            "\n"
          ]
        },
        {
          "output_type": "display_data",
          "data": {
            "text/plain": [
              "<IPython.core.display.Latex object>"
            ],
            "text/latex": "\\frac{1}{z}=0.5 - 0.5 \\sqrt{3} i"
          },
          "metadata": {}
        },
        {
          "output_type": "stream",
          "name": "stdout",
          "text": [
            "\n"
          ]
        },
        {
          "output_type": "display_data",
          "data": {
            "text/plain": [
              "<IPython.core.display.Latex object>"
            ],
            "text/latex": "\\frac{z}{w}=0.5 - 0.5 \\sqrt{3} i"
          },
          "metadata": {}
        },
        {
          "output_type": "stream",
          "name": "stdout",
          "text": [
            "\n"
          ]
        },
        {
          "output_type": "display_data",
          "data": {
            "text/plain": [
              "<IPython.core.display.Latex object>"
            ],
            "text/latex": "\\frac{w}{z}=0.5 + 0.5 \\sqrt{3} i"
          },
          "metadata": {}
        },
        {
          "output_type": "stream",
          "name": "stdout",
          "text": [
            "\n"
          ]
        },
        {
          "output_type": "display_data",
          "data": {
            "text/plain": [
              "<IPython.core.display.Latex object>"
            ],
            "text/latex": "\\overline{z}=0.5 - \\frac{\\sqrt{3} i}{2}"
          },
          "metadata": {}
        },
        {
          "output_type": "stream",
          "name": "stdout",
          "text": [
            "\n"
          ]
        },
        {
          "output_type": "display_data",
          "data": {
            "text/plain": [
              "<IPython.core.display.Latex object>"
            ],
            "text/latex": "z\\overline{z}=1.0"
          },
          "metadata": {}
        },
        {
          "output_type": "stream",
          "name": "stdout",
          "text": [
            "\n"
          ]
        },
        {
          "output_type": "display_data",
          "data": {
            "text/plain": [
              "<IPython.core.display.Latex object>"
            ],
            "text/latex": "(\\overline{z})^2=-0.5 - 0.5 \\sqrt{3} i"
          },
          "metadata": {}
        },
        {
          "output_type": "stream",
          "name": "stdout",
          "text": [
            "\n"
          ]
        }
      ]
    },
    {
      "cell_type": "markdown",
      "source": [
        "### 10. $z=-\\frac{\\sqrt{2}}{2}+\\frac{\\sqrt{2}}{2}i,w=-\\frac{\\sqrt{2}}{2}-\\frac{\\sqrt{2}}{2}i$"
      ],
      "metadata": {
        "id": "2INsvipk1Sz9"
      }
    },
    {
      "cell_type": "code",
      "source": [
        "z = -sp.sqrt(2)/2 + sp.sqrt(2) / 2 * sp.I\n",
        "w = -sp.sqrt(2)/2 - sp.sqrt(2) / 2 * sp.I\n",
        "\n",
        "expr ={r'z+w':z+w,\n",
        "    r'zw':z*w,\n",
        "    r'z^2':z**2,\n",
        "    r'\\frac{1}{z}':1/z,\n",
        "    r'\\frac{z}{w}':z/w,\n",
        "    r'\\frac{w}{z}':w/z,\n",
        "    r'\\overline{z}':sp.conjugate(z),\n",
        "    r'z\\overline{z}':z*sp.conjugate(z),\n",
        "    r'(\\overline{z})^2':sp.conjugate(z)**2}\n",
        "\n",
        "for key, value in expr.items():\n",
        "  display(ipy.display.Latex(key + '=' + sp.latex(sp.expand(sp.simplify(value)))))\n",
        "  print()"
      ],
      "metadata": {
        "colab": {
          "base_uri": "https://localhost:8080/",
          "height": 379
        },
        "id": "GIAbGfoW3Gmq",
        "outputId": "4bb73a4f-0506-4eac-f4ab-5195d6608b79"
      },
      "execution_count": 56,
      "outputs": [
        {
          "output_type": "display_data",
          "data": {
            "text/plain": [
              "<IPython.core.display.Latex object>"
            ],
            "text/latex": "z+w=- \\sqrt{2}"
          },
          "metadata": {}
        },
        {
          "output_type": "stream",
          "name": "stdout",
          "text": [
            "\n"
          ]
        },
        {
          "output_type": "display_data",
          "data": {
            "text/plain": [
              "<IPython.core.display.Latex object>"
            ],
            "text/latex": "zw=1"
          },
          "metadata": {}
        },
        {
          "output_type": "stream",
          "name": "stdout",
          "text": [
            "\n"
          ]
        },
        {
          "output_type": "display_data",
          "data": {
            "text/plain": [
              "<IPython.core.display.Latex object>"
            ],
            "text/latex": "z^2=- i"
          },
          "metadata": {}
        },
        {
          "output_type": "stream",
          "name": "stdout",
          "text": [
            "\n"
          ]
        },
        {
          "output_type": "display_data",
          "data": {
            "text/plain": [
              "<IPython.core.display.Latex object>"
            ],
            "text/latex": "\\frac{1}{z}=- \\frac{\\sqrt{2}}{2} - \\frac{\\sqrt{2} i}{2}"
          },
          "metadata": {}
        },
        {
          "output_type": "stream",
          "name": "stdout",
          "text": [
            "\n"
          ]
        },
        {
          "output_type": "display_data",
          "data": {
            "text/plain": [
              "<IPython.core.display.Latex object>"
            ],
            "text/latex": "\\frac{z}{w}=- i"
          },
          "metadata": {}
        },
        {
          "output_type": "stream",
          "name": "stdout",
          "text": [
            "\n"
          ]
        },
        {
          "output_type": "display_data",
          "data": {
            "text/plain": [
              "<IPython.core.display.Latex object>"
            ],
            "text/latex": "\\frac{w}{z}=i"
          },
          "metadata": {}
        },
        {
          "output_type": "stream",
          "name": "stdout",
          "text": [
            "\n"
          ]
        },
        {
          "output_type": "display_data",
          "data": {
            "text/plain": [
              "<IPython.core.display.Latex object>"
            ],
            "text/latex": "\\overline{z}=- \\frac{\\sqrt{2}}{2} - \\frac{\\sqrt{2} i}{2}"
          },
          "metadata": {}
        },
        {
          "output_type": "stream",
          "name": "stdout",
          "text": [
            "\n"
          ]
        },
        {
          "output_type": "display_data",
          "data": {
            "text/plain": [
              "<IPython.core.display.Latex object>"
            ],
            "text/latex": "z\\overline{z}=1"
          },
          "metadata": {}
        },
        {
          "output_type": "stream",
          "name": "stdout",
          "text": [
            "\n"
          ]
        },
        {
          "output_type": "display_data",
          "data": {
            "text/plain": [
              "<IPython.core.display.Latex object>"
            ],
            "text/latex": "(\\overline{z})^2=i"
          },
          "metadata": {}
        },
        {
          "output_type": "stream",
          "name": "stdout",
          "text": [
            "\n"
          ]
        }
      ]
    },
    {
      "cell_type": "markdown",
      "source": [
        "## Exercises 11 - 18\n",
        "\n",
        "In Exercises 11 - 18, simplify the quantity."
      ],
      "metadata": {
        "id": "jws7grKbvCgN"
      }
    },
    {
      "cell_type": "markdown",
      "source": [
        "### 11. $\\sqrt{-49}$"
      ],
      "metadata": {
        "id": "W2otz_Dt1w1W"
      }
    },
    {
      "cell_type": "code",
      "source": [
        "display(ipy.display.Latex(sp.latex(sp.sqrt(-49))))"
      ],
      "metadata": {
        "colab": {
          "base_uri": "https://localhost:8080/",
          "height": 38
        },
        "id": "kiXb80CY37hm",
        "outputId": "07994e11-f94d-4164-de7f-9fb191b25aec"
      },
      "execution_count": 57,
      "outputs": [
        {
          "output_type": "display_data",
          "data": {
            "text/plain": [
              "<IPython.core.display.Latex object>"
            ],
            "text/latex": "7 i"
          },
          "metadata": {}
        }
      ]
    },
    {
      "cell_type": "markdown",
      "source": [
        "### 12. $\\sqrt{-9}$"
      ],
      "metadata": {
        "id": "_G9h1OQ3110c"
      }
    },
    {
      "cell_type": "code",
      "source": [
        "display(ipy.display.Latex(sp.latex(sp.sqrt(-9))))"
      ],
      "metadata": {
        "colab": {
          "base_uri": "https://localhost:8080/",
          "height": 38
        },
        "id": "DrCCmPdw4FoD",
        "outputId": "9ba465a2-74bb-4e7c-d492-1b9efb0a6ae8"
      },
      "execution_count": 58,
      "outputs": [
        {
          "output_type": "display_data",
          "data": {
            "text/plain": [
              "<IPython.core.display.Latex object>"
            ],
            "text/latex": "3 i"
          },
          "metadata": {}
        }
      ]
    },
    {
      "cell_type": "markdown",
      "source": [
        "### 13. $\\sqrt{-25}\\sqrt{-4}$"
      ],
      "metadata": {
        "id": "G6JGZdqU14bd"
      }
    },
    {
      "cell_type": "code",
      "source": [
        "display(ipy.display.Latex(sp.latex(sp.sqrt(-25)*sp.sqrt(-4))))"
      ],
      "metadata": {
        "colab": {
          "base_uri": "https://localhost:8080/",
          "height": 37
        },
        "id": "o6ML9HJf4Ill",
        "outputId": "019f431a-c924-4a81-e273-45488c12a55c"
      },
      "execution_count": 59,
      "outputs": [
        {
          "output_type": "display_data",
          "data": {
            "text/plain": [
              "<IPython.core.display.Latex object>"
            ],
            "text/latex": "-10"
          },
          "metadata": {}
        }
      ]
    },
    {
      "cell_type": "markdown",
      "source": [
        "### 14. $\\sqrt{(-25)(-4)}$"
      ],
      "metadata": {
        "id": "0u9lSc5S1--U"
      }
    },
    {
      "cell_type": "code",
      "source": [
        "display(ipy.display.Latex(sp.latex(sp.sqrt((-25)*(-4)))))"
      ],
      "metadata": {
        "colab": {
          "base_uri": "https://localhost:8080/",
          "height": 37
        },
        "id": "O0V_xhmi4OfO",
        "outputId": "37ea2a32-2160-4f7f-f1f8-241c91e7fe64"
      },
      "execution_count": 60,
      "outputs": [
        {
          "output_type": "display_data",
          "data": {
            "text/plain": [
              "<IPython.core.display.Latex object>"
            ],
            "text/latex": "10"
          },
          "metadata": {}
        }
      ]
    },
    {
      "cell_type": "markdown",
      "source": [
        "### 15. $\\sqrt{-9}\\sqrt{-16}$"
      ],
      "metadata": {
        "id": "eEJ6CCkD2DBm"
      }
    },
    {
      "cell_type": "code",
      "source": [
        "display(ipy.display.Latex(sp.latex(sp.sqrt(-9)*sp.sqrt(-16))))"
      ],
      "metadata": {
        "colab": {
          "base_uri": "https://localhost:8080/",
          "height": 37
        },
        "id": "94YjRTOE4VLp",
        "outputId": "ee577159-c03b-4804-d47d-be4bcc6f5561"
      },
      "execution_count": 61,
      "outputs": [
        {
          "output_type": "display_data",
          "data": {
            "text/plain": [
              "<IPython.core.display.Latex object>"
            ],
            "text/latex": "-12"
          },
          "metadata": {}
        }
      ]
    },
    {
      "cell_type": "markdown",
      "source": [
        "### 16. $\\sqrt{(-9)(-16)}$"
      ],
      "metadata": {
        "id": "bZLVKIRE2Ifk"
      }
    },
    {
      "cell_type": "code",
      "source": [
        "display(ipy.display.Latex(sp.latex(sp.sqrt((-9)*(-16)))))"
      ],
      "metadata": {
        "colab": {
          "base_uri": "https://localhost:8080/",
          "height": 37
        },
        "id": "pgOMvPxU4fF2",
        "outputId": "78c53068-cf4a-42f0-81d3-d1070835ca3d"
      },
      "execution_count": 62,
      "outputs": [
        {
          "output_type": "display_data",
          "data": {
            "text/plain": [
              "<IPython.core.display.Latex object>"
            ],
            "text/latex": "12"
          },
          "metadata": {}
        }
      ]
    },
    {
      "cell_type": "markdown",
      "source": [
        "### 17. $\\sqrt{-(-9)}$"
      ],
      "metadata": {
        "id": "deRjE14A2Nm7"
      }
    },
    {
      "cell_type": "code",
      "source": [
        "display(ipy.display.Latex(sp.latex(sp.sqrt(-(-9)))))"
      ],
      "metadata": {
        "colab": {
          "base_uri": "https://localhost:8080/",
          "height": 37
        },
        "id": "ZUxNe24Y4jra",
        "outputId": "d5487f57-3349-4404-819e-9248226d644e"
      },
      "execution_count": 63,
      "outputs": [
        {
          "output_type": "display_data",
          "data": {
            "text/plain": [
              "<IPython.core.display.Latex object>"
            ],
            "text/latex": "3"
          },
          "metadata": {}
        }
      ]
    },
    {
      "cell_type": "markdown",
      "source": [
        "### 18. $-\\sqrt{-9}$"
      ],
      "metadata": {
        "id": "72VtSair2Rhc"
      }
    },
    {
      "cell_type": "code",
      "source": [
        "display(ipy.display.Latex(sp.latex(-sp.sqrt(-9))))"
      ],
      "metadata": {
        "colab": {
          "base_uri": "https://localhost:8080/",
          "height": 38
        },
        "id": "5jsosGst4oJG",
        "outputId": "c4cc9363-2454-4e77-d484-7116619efdde"
      },
      "execution_count": 64,
      "outputs": [
        {
          "output_type": "display_data",
          "data": {
            "text/plain": [
              "<IPython.core.display.Latex object>"
            ],
            "text/latex": "- 3 i"
          },
          "metadata": {}
        }
      ]
    },
    {
      "cell_type": "markdown",
      "source": [
        "## Exercises 19 - 26\n",
        "\n",
        "We know that $i^2=-1$ which means $i^3=i^2\\cdot i=(-1)\\cdot i=-i$ and $i^4=i^2\\cdot i^2=(-1)(-1)=1$. In Exercises 19 - 26, use this information to simplify the given power of $i$."
      ],
      "metadata": {
        "id": "l64HvN8svK_F"
      }
    },
    {
      "cell_type": "markdown",
      "source": [
        "\n",
        "|  $i^1$  |  $i^2$  |  $i^3$  |  $i^4$  |  $i^5$  |  $i^6$  |  $i^7$  |  $i^8$  | ... |\n",
        "|:-----:|:-----:|:-----:|:-----:|:-----:|:-----:|:-----:|:-----:|:-----:|\n",
        "|  $i$  |   $-1$    |   $-i$    |   $1$    |   $i$    |   $-1$    |   $-i$    |   $i$    | ... |"
      ],
      "metadata": {
        "id": "qqbkhw-14wmZ"
      }
    },
    {
      "cell_type": "markdown",
      "source": [
        "### 19. $i^5$"
      ],
      "metadata": {
        "id": "El4zIvQo2Yzp"
      }
    },
    {
      "cell_type": "markdown",
      "source": [
        "### 20. $i^6$"
      ],
      "metadata": {
        "id": "fXiPZpE22cha"
      }
    },
    {
      "cell_type": "markdown",
      "source": [
        "### 21. $i^7$"
      ],
      "metadata": {
        "id": "S0ozqDvn2fQ-"
      }
    },
    {
      "cell_type": "markdown",
      "source": [
        "### 22. $i^8$"
      ],
      "metadata": {
        "id": "lI15RaCY2h7k"
      }
    },
    {
      "cell_type": "markdown",
      "source": [
        "### 23. $i^{15}$"
      ],
      "metadata": {
        "id": "nXx5crHT2k8L"
      }
    },
    {
      "cell_type": "markdown",
      "source": [
        "### 24. $i^{26}$"
      ],
      "metadata": {
        "id": "QKVm3NC72o6R"
      }
    },
    {
      "cell_type": "markdown",
      "source": [
        "### 25. $i^{117}$"
      ],
      "metadata": {
        "id": "9hFODmNT2uh6"
      }
    },
    {
      "cell_type": "markdown",
      "source": [
        "### 26. $i^{304}$"
      ],
      "metadata": {
        "id": "h0yaH_a22zh5"
      }
    },
    {
      "cell_type": "markdown",
      "source": [
        "## Exercises 27 - 48\n",
        "\n",
        "In Exercises 27 - 48, find all of the zeros of the polynomial then completely factor it over the real numbers and completely factor it over the complex numbers."
      ],
      "metadata": {
        "id": "0nI6z8NJv1i2"
      }
    },
    {
      "cell_type": "markdown",
      "source": [
        "### 27. $f(x)=x^2-4x+13$"
      ],
      "metadata": {
        "id": "usmjPRb_3GM9"
      }
    },
    {
      "cell_type": "code",
      "source": [
        "x = sp.symbols('x')\n",
        "f = x**2 - 4*x + 13\n",
        "\n",
        "print(sp.solve(sp.Eq(f,0),x,))"
      ],
      "metadata": {
        "colab": {
          "base_uri": "https://localhost:8080/"
        },
        "id": "m0cRy-8C69PY",
        "outputId": "f6535c96-961f-414e-e350-491339e665ce"
      },
      "execution_count": 65,
      "outputs": [
        {
          "output_type": "stream",
          "name": "stdout",
          "text": [
            "[2 - 3*I, 2 + 3*I]\n"
          ]
        }
      ]
    },
    {
      "cell_type": "markdown",
      "source": [
        "### 28. $f(x)=x^2-2x+5$"
      ],
      "metadata": {
        "id": "wWzicQar3K-Z"
      }
    },
    {
      "cell_type": "code",
      "source": [
        "x = sp.symbols('x')\n",
        "f = x**2 - 2*x + 5\n",
        "\n",
        "print(sp.solve(sp.Eq(f,0),x,))"
      ],
      "metadata": {
        "colab": {
          "base_uri": "https://localhost:8080/"
        },
        "id": "m3Q1VVIJzCKy",
        "outputId": "7828562e-4e05-4c5e-ef9e-1c94dbde600f"
      },
      "execution_count": 66,
      "outputs": [
        {
          "output_type": "stream",
          "name": "stdout",
          "text": [
            "[1 - 2*I, 1 + 2*I]\n"
          ]
        }
      ]
    },
    {
      "cell_type": "markdown",
      "source": [
        "### 29. $f(x)=3x^2+2x+10$"
      ],
      "metadata": {
        "id": "hUy7ol1v3OoD"
      }
    },
    {
      "cell_type": "code",
      "source": [
        "x = sp.symbols('x')\n",
        "f = 3*x**2 + 2*x + 10\n",
        "\n",
        "print(sp.solve(sp.Eq(f,0),x,))"
      ],
      "metadata": {
        "colab": {
          "base_uri": "https://localhost:8080/"
        },
        "id": "f3NuMCZOzJCP",
        "outputId": "cde0c148-a324-4bd6-d280-e35072e391b8"
      },
      "execution_count": 67,
      "outputs": [
        {
          "output_type": "stream",
          "name": "stdout",
          "text": [
            "[-1/3 - sqrt(29)*I/3, -1/3 + sqrt(29)*I/3]\n"
          ]
        }
      ]
    },
    {
      "cell_type": "markdown",
      "source": [
        "### 30. $f(x)=x^3-2x^2+9x-18$"
      ],
      "metadata": {
        "id": "Qbxmtz0z3TX5"
      }
    },
    {
      "cell_type": "code",
      "source": [
        "x = sp.symbols('x')\n",
        "f = x**3 - 2*x**2 + 9*x - 18\n",
        "\n",
        "print(sp.solve(sp.Eq(f,0),x,))"
      ],
      "metadata": {
        "colab": {
          "base_uri": "https://localhost:8080/"
        },
        "id": "I5hJxwJfzPA2",
        "outputId": "04f3e800-5d2a-4891-f517-9c891793b1ad"
      },
      "execution_count": 68,
      "outputs": [
        {
          "output_type": "stream",
          "name": "stdout",
          "text": [
            "[2, -3*I, 3*I]\n"
          ]
        }
      ]
    },
    {
      "cell_type": "markdown",
      "source": [
        "### 31. $f(x)=x^3+6x^2+6x+5$"
      ],
      "metadata": {
        "id": "LM0PbzKE3XzU"
      }
    },
    {
      "cell_type": "code",
      "source": [
        "x = sp.symbols('x')\n",
        "f = x**3 + 6*x**2 + 6*x + 5\n",
        "\n",
        "print(sp.solve(sp.Eq(f,0),x,))"
      ],
      "metadata": {
        "colab": {
          "base_uri": "https://localhost:8080/"
        },
        "id": "tNCrn2vXzVRu",
        "outputId": "f3e80717-fe90-4c0f-b169-2ea89d728df7"
      },
      "execution_count": 69,
      "outputs": [
        {
          "output_type": "stream",
          "name": "stdout",
          "text": [
            "[-5, -1/2 - sqrt(3)*I/2, -1/2 + sqrt(3)*I/2]\n"
          ]
        }
      ]
    },
    {
      "cell_type": "markdown",
      "source": [
        "### 32. $f(x)=3x^3-13x^2+43x-13$"
      ],
      "metadata": {
        "id": "Aw2vVCOY3b_U"
      }
    },
    {
      "cell_type": "code",
      "source": [
        "x = sp.symbols('x')\n",
        "f = 3*x**3 - 13*x**2 + 43*x - 13\n",
        "\n",
        "print(sp.solve(sp.Eq(f,0),x,))"
      ],
      "metadata": {
        "colab": {
          "base_uri": "https://localhost:8080/"
        },
        "id": "ygL2q7HFzfF9",
        "outputId": "88eac274-9a5e-4731-8d9f-71437a6e4b26"
      },
      "execution_count": 70,
      "outputs": [
        {
          "output_type": "stream",
          "name": "stdout",
          "text": [
            "[1/3, 2 - 3*I, 2 + 3*I]\n"
          ]
        }
      ]
    },
    {
      "cell_type": "markdown",
      "source": [
        "### 33. $f(x)=x^3+3x^2+4x+12$"
      ],
      "metadata": {
        "id": "pDA8sWjz3mGt"
      }
    },
    {
      "cell_type": "code",
      "source": [
        "x = sp.symbols('x')\n",
        "f = x**3 + 3*x**2 + 4*x + 12\n",
        "\n",
        "print(sp.solve(sp.Eq(f,0),x,))"
      ],
      "metadata": {
        "colab": {
          "base_uri": "https://localhost:8080/"
        },
        "id": "cQECtr3_zpIs",
        "outputId": "404d800c-41ae-49ce-d7aa-1deab5a81cdb"
      },
      "execution_count": 71,
      "outputs": [
        {
          "output_type": "stream",
          "name": "stdout",
          "text": [
            "[-3, -2*I, 2*I]\n"
          ]
        }
      ]
    },
    {
      "cell_type": "markdown",
      "source": [
        "### 34. $f(x)=4x^3-6x^2-8x+15$"
      ],
      "metadata": {
        "id": "ICECPqeJ3zoy"
      }
    },
    {
      "cell_type": "code",
      "source": [
        "x = sp.symbols('x')\n",
        "f = 4*x**3 - 6*x**2 - 8*x + 15\n",
        "\n",
        "print(sp.solve(sp.Eq(f,0),x,))"
      ],
      "metadata": {
        "colab": {
          "base_uri": "https://localhost:8080/"
        },
        "id": "3CkdYzevzvCQ",
        "outputId": "a32e3240-cd69-49bc-9440-805e80b3da1e"
      },
      "execution_count": 72,
      "outputs": [
        {
          "output_type": "stream",
          "name": "stdout",
          "text": [
            "[-3/2, 3/2 - I/2, 3/2 + I/2]\n"
          ]
        }
      ]
    },
    {
      "cell_type": "markdown",
      "source": [
        "### 35. $f(x)=x^3+7x^2+9x-2$"
      ],
      "metadata": {
        "id": "kkVv1TtC34k7"
      }
    },
    {
      "cell_type": "code",
      "source": [
        "x = sp.symbols('x')\n",
        "f = x**3 + 7*x**2 + 9*x - 2\n",
        "\n",
        "print(sp.solve(sp.Eq(f,0),x,))"
      ],
      "metadata": {
        "colab": {
          "base_uri": "https://localhost:8080/"
        },
        "id": "j4Czt6iGz2iS",
        "outputId": "f0b3741f-7db4-48a2-ab0e-16ea5fd884ff"
      },
      "execution_count": 73,
      "outputs": [
        {
          "output_type": "stream",
          "name": "stdout",
          "text": [
            "[-2, -5/2 + sqrt(29)/2, -sqrt(29)/2 - 5/2]\n"
          ]
        }
      ]
    },
    {
      "cell_type": "markdown",
      "source": [
        "### 36. $f(x)=9x^3+2x+1$"
      ],
      "metadata": {
        "id": "h5TtKMvf39ai"
      }
    },
    {
      "cell_type": "code",
      "source": [
        "x = sp.symbols('x')\n",
        "f = 9*x**3 + 2*x + 1\n",
        "\n",
        "print(sp.solve(sp.Eq(f,0),x,))"
      ],
      "metadata": {
        "colab": {
          "base_uri": "https://localhost:8080/"
        },
        "id": "oiovQ8Oiz8Pp",
        "outputId": "8728ced4-43aa-40be-b4b5-49c629f13f9a"
      },
      "execution_count": 74,
      "outputs": [
        {
          "output_type": "stream",
          "name": "stdout",
          "text": [
            "[-1/3, 1/6 - sqrt(11)*I/6, 1/6 + sqrt(11)*I/6]\n"
          ]
        }
      ]
    },
    {
      "cell_type": "markdown",
      "source": [
        "### 37. $f(x)=4x^4-4x^3+13x^2-12x+3$"
      ],
      "metadata": {
        "id": "9gk9aJbu4CJa"
      }
    },
    {
      "cell_type": "code",
      "source": [
        "x = sp.symbols('x')\n",
        "f = 4*x**4 - 4*x**3 + 13*x**2 - 12*x + 3\n",
        "\n",
        "print(sp.solve(sp.Eq(f,0),x,))"
      ],
      "metadata": {
        "colab": {
          "base_uri": "https://localhost:8080/"
        },
        "id": "Z7XZvRim0GxZ",
        "outputId": "ab772dc8-4431-4194-8509-cdcd53c7a6b0"
      },
      "execution_count": 75,
      "outputs": [
        {
          "output_type": "stream",
          "name": "stdout",
          "text": [
            "[1/2, -sqrt(3)*I, sqrt(3)*I]\n"
          ]
        }
      ]
    },
    {
      "cell_type": "markdown",
      "source": [
        "### 38. $f(x)=2x^4-7x^3+14x^2-15x+6$"
      ],
      "metadata": {
        "id": "0VmijuhA4IBF"
      }
    },
    {
      "cell_type": "code",
      "source": [
        "x = sp.symbols('x')\n",
        "f = 2*x**4 - 7*x**3 + 14*x**2 - 15*x + 6\n",
        "\n",
        "print(sp.solve(sp.Eq(f,0),x,))"
      ],
      "metadata": {
        "colab": {
          "base_uri": "https://localhost:8080/"
        },
        "id": "6fx6rivW0NUZ",
        "outputId": "5b52b749-3cf4-4ae0-9736-523a05a3858d"
      },
      "execution_count": 76,
      "outputs": [
        {
          "output_type": "stream",
          "name": "stdout",
          "text": [
            "[1, 3/4 - sqrt(39)*I/4, 3/4 + sqrt(39)*I/4]\n"
          ]
        }
      ]
    },
    {
      "cell_type": "markdown",
      "source": [
        "### 39. $f(x)=x^4+x^3+7x^2+9x-18$"
      ],
      "metadata": {
        "id": "DwnrcnqX4OpQ"
      }
    },
    {
      "cell_type": "code",
      "source": [
        "x = sp.symbols('x')\n",
        "f = x**4 + x**3 + 7*x**2 + 9*x - 18\n",
        "\n",
        "print(sp.solve(sp.Eq(f,0),x,))"
      ],
      "metadata": {
        "colab": {
          "base_uri": "https://localhost:8080/"
        },
        "id": "-1l6EWi10WA7",
        "outputId": "751739a0-505b-41aa-b3a2-d9204dc75911"
      },
      "execution_count": 77,
      "outputs": [
        {
          "output_type": "stream",
          "name": "stdout",
          "text": [
            "[-2, 1, -3*I, 3*I]\n"
          ]
        }
      ]
    },
    {
      "cell_type": "markdown",
      "source": [
        "### 40. $f(x)=6x^4+17x^3-55x^2+16x+12$"
      ],
      "metadata": {
        "id": "d1iTQsaS4Wvp"
      }
    },
    {
      "cell_type": "code",
      "source": [
        "x = sp.symbols('x')\n",
        "f = 6*x**4 + 17*x**3 - 55*x**2 + 16*x + 12\n",
        "\n",
        "print(sp.solve(sp.Eq(f,0),x,))"
      ],
      "metadata": {
        "colab": {
          "base_uri": "https://localhost:8080/"
        },
        "id": "IMysORKt0cd_",
        "outputId": "28a90f30-66f8-4da9-a427-2609db8b5ef4"
      },
      "execution_count": 78,
      "outputs": [
        {
          "output_type": "stream",
          "name": "stdout",
          "text": [
            "[-1/3, 3/2, -2 + 2*sqrt(2), -2*sqrt(2) - 2]\n"
          ]
        }
      ]
    },
    {
      "cell_type": "markdown",
      "source": [
        "### 41. $f(x)=-3x^4-8x^3-12x^2-12x-5$"
      ],
      "metadata": {
        "id": "9r5wSq614igz"
      }
    },
    {
      "cell_type": "code",
      "source": [
        "x = sp.symbols('x')\n",
        "f = - 3*x**4 - 8*x**3 - 12*x**2 - 12*x - 5\n",
        "\n",
        "print(sp.solve(sp.Eq(f,0),x,))"
      ],
      "metadata": {
        "colab": {
          "base_uri": "https://localhost:8080/"
        },
        "id": "FC6AbYGX0jZH",
        "outputId": "6589f919-527b-45a1-fc51-b8d63391b411"
      },
      "execution_count": 79,
      "outputs": [
        {
          "output_type": "stream",
          "name": "stdout",
          "text": [
            "[-1, -1/3 - sqrt(14)*I/3, -1/3 + sqrt(14)*I/3]\n"
          ]
        }
      ]
    },
    {
      "cell_type": "markdown",
      "source": [
        "### 42. $f(x)=8x^4+50x^3+43x^2+2x-4$"
      ],
      "metadata": {
        "id": "pw72UiTa4ot7"
      }
    },
    {
      "cell_type": "code",
      "source": [
        "x = sp.symbols('x')\n",
        "f = 8*x**4 + 50*x**3 + 43*x**2 + 2*x - 4\n",
        "\n",
        "print(sp.solve(sp.Eq(f,0),x,))"
      ],
      "metadata": {
        "colab": {
          "base_uri": "https://localhost:8080/"
        },
        "id": "EJfasg3c0qXt",
        "outputId": "76e6d9b9-8673-4a7f-eac4-10ae9f8700eb"
      },
      "execution_count": 80,
      "outputs": [
        {
          "output_type": "stream",
          "name": "stdout",
          "text": [
            "[-1/2, 1/4, -3 - sqrt(5), -3 + sqrt(5)]\n"
          ]
        }
      ]
    },
    {
      "cell_type": "markdown",
      "source": [
        "### 43. $f(x)=x^4+9x^2+20$"
      ],
      "metadata": {
        "id": "mhGs2STs4v16"
      }
    },
    {
      "cell_type": "code",
      "source": [
        "x = sp.symbols('x')\n",
        "f = x**4 + 9*x**2 + 20\n",
        "\n",
        "print(sp.solve(sp.Eq(f,0),x,))"
      ],
      "metadata": {
        "colab": {
          "base_uri": "https://localhost:8080/"
        },
        "id": "hSiQ8ZwE0v42",
        "outputId": "f35196e0-ac2a-4a55-c4a0-dd9c7ac46acb"
      },
      "execution_count": 81,
      "outputs": [
        {
          "output_type": "stream",
          "name": "stdout",
          "text": [
            "[-2*I, 2*I, -sqrt(5)*I, sqrt(5)*I]\n"
          ]
        }
      ]
    },
    {
      "cell_type": "markdown",
      "source": [
        "### 44. $f(x)=x^4+5x^2-24$"
      ],
      "metadata": {
        "id": "DooOblc34wBp"
      }
    },
    {
      "cell_type": "code",
      "source": [
        "x = sp.symbols('x')\n",
        "f = x**4 + 5*x**2 - 24\n",
        "\n",
        "print(sp.solve(sp.Eq(f,0),x,))"
      ],
      "metadata": {
        "colab": {
          "base_uri": "https://localhost:8080/"
        },
        "id": "mL21bfPu013D",
        "outputId": "94164238-ab36-492e-d799-24b7cab2b710"
      },
      "execution_count": 82,
      "outputs": [
        {
          "output_type": "stream",
          "name": "stdout",
          "text": [
            "[-sqrt(3), sqrt(3), -2*sqrt(2)*I, 2*sqrt(2)*I]\n"
          ]
        }
      ]
    },
    {
      "cell_type": "markdown",
      "source": [
        "### 45. $f(x)=x^5-x^4+7x^3-7x^2+12x-12$"
      ],
      "metadata": {
        "id": "s-hOafW94-KJ"
      }
    },
    {
      "cell_type": "code",
      "source": [
        "x = sp.symbols('x')\n",
        "f = x**5 - x**4 + 7*x**3 - 7*x**2 + 12*x - 12\n",
        "\n",
        "print(sp.solve(sp.Eq(f,0),x,))"
      ],
      "metadata": {
        "colab": {
          "base_uri": "https://localhost:8080/"
        },
        "id": "TPChajnv07Va",
        "outputId": "cbf0d887-a2bf-42f2-f6e1-3e73e3317a8e"
      },
      "execution_count": 83,
      "outputs": [
        {
          "output_type": "stream",
          "name": "stdout",
          "text": [
            "[1, -2*I, 2*I, -sqrt(3)*I, sqrt(3)*I]\n"
          ]
        }
      ]
    },
    {
      "cell_type": "markdown",
      "source": [
        "### 46. $f(x)=x^6-64$"
      ],
      "metadata": {
        "id": "oy1FaCG95Dbb"
      }
    },
    {
      "cell_type": "code",
      "source": [
        "x = sp.symbols('x')\n",
        "f = x**6 - 64\n",
        "\n",
        "print(sp.solve(sp.Eq(f,0),x,))"
      ],
      "metadata": {
        "colab": {
          "base_uri": "https://localhost:8080/"
        },
        "id": "nfH2aZSk1YBr",
        "outputId": "473a69c8-3549-4d34-c1c2-5a7f26c4cde0"
      },
      "execution_count": 84,
      "outputs": [
        {
          "output_type": "stream",
          "name": "stdout",
          "text": [
            "[-2, 2, -1 - sqrt(3)*I, -1 + sqrt(3)*I, 1 - sqrt(3)*I, 1 + sqrt(3)*I]\n"
          ]
        }
      ]
    },
    {
      "cell_type": "markdown",
      "source": [
        "### 47. $f(x)=x^4-2x^3+27x^2-2x+26$ (Hint: $x=i$ is one of the zeros.)"
      ],
      "metadata": {
        "id": "rTrQjaS75R5v"
      }
    },
    {
      "cell_type": "code",
      "source": [
        "x = sp.symbols('x')\n",
        "f = x**4 - 2*x**3 + 27*x**2 - 2*x + 26\n",
        "\n",
        "print(sp.solve(sp.Eq(f,0),x,))"
      ],
      "metadata": {
        "colab": {
          "base_uri": "https://localhost:8080/"
        },
        "id": "cxXrh3_61evd",
        "outputId": "1ed0e103-7744-4065-82bd-5469ed847fc8"
      },
      "execution_count": 85,
      "outputs": [
        {
          "output_type": "stream",
          "name": "stdout",
          "text": [
            "[-I, I, 1 - 5*I, 1 + 5*I]\n"
          ]
        }
      ]
    },
    {
      "cell_type": "markdown",
      "source": [
        "### 48. $f(x)=2x^4+5x^3+13x^2+7x+5$ (Hint: $x=-1+2i$ is a zero.)"
      ],
      "metadata": {
        "id": "8UCJJdZm5cVQ"
      }
    },
    {
      "cell_type": "code",
      "source": [
        "x = sp.symbols('x')\n",
        "f = 2*x**4 + 5*x**3 + 13*x**2 + 7*x + 5\n",
        "\n",
        "print(sp.solve(sp.Eq(f,0),x,))"
      ],
      "metadata": {
        "colab": {
          "base_uri": "https://localhost:8080/"
        },
        "id": "HA0sOL8z1khY",
        "outputId": "9a82d201-a857-4497-b2c4-0a17db9be644"
      },
      "execution_count": 86,
      "outputs": [
        {
          "output_type": "stream",
          "name": "stdout",
          "text": [
            "[-1 - 2*I, -1 + 2*I, -1/4 - sqrt(7)*I/4, -1/4 + sqrt(7)*I/4]\n"
          ]
        }
      ]
    },
    {
      "cell_type": "markdown",
      "source": [
        "## Exercises 49 - 53\n",
        "\n",
        "In Exercises 49 - 53, create a polynomial $f$ with real number coefficients which has all of the desired characteristics. You may leave the polynimial in factored form."
      ],
      "metadata": {
        "id": "5UfPIfx2wDBU"
      }
    },
    {
      "cell_type": "markdown",
      "source": [
        "### 49.\n",
        "\n",
        "- The zeros of $f$ are $c=\\pm 1$ and $c=\\pm i$\n",
        "- The leading term of $f(x)$ is $42x^4$"
      ],
      "metadata": {
        "id": "AhOoMMo95vF6"
      }
    },
    {
      "cell_type": "markdown",
      "source": [
        "$$f(x)=(x+1)(x-1)(x+i)(x-i)$$"
      ],
      "metadata": {
        "id": "jNjQV_d415dl"
      }
    },
    {
      "cell_type": "markdown",
      "source": [
        "### 50\n",
        "\n",
        "- $c=2i$ is a zero.\n",
        "- the point $(-1,0)$ is a local minimum on the graph of $y=f(x)$\n",
        "- the leading term of $f(x)$ is $117x^4$"
      ],
      "metadata": {
        "id": "vu1UZoSR58-5"
      }
    },
    {
      "cell_type": "markdown",
      "source": [
        "$$f(x)=117(x+2i)(x-2i)(x+1)^2$$"
      ],
      "metadata": {
        "id": "OJsw0LuE2JDY"
      }
    },
    {
      "cell_type": "markdown",
      "source": [
        "### 51.\n",
        "\n",
        "- The solutions to $f(x)=0$ are $x=\\pm 2$ and $x=\\pm 7i$\n",
        "- The leading term of $f(x)$ is $-3x^5$\n",
        "- The point $(2,0)$ is a local maximum on the graph of $y=f(x)$."
      ],
      "metadata": {
        "id": "YWhh2w9r6Nql"
      }
    },
    {
      "cell_type": "markdown",
      "source": [
        "$$f(x)=-3(x-2)^2(x+2)(x+7i)(x-7i)$$"
      ],
      "metadata": {
        "id": "QMhYepYI2dKF"
      }
    },
    {
      "cell_type": "markdown",
      "source": [
        "### 52.\n",
        "\n",
        "- $f$ is degree 5.\n",
        "- $x=6,x=i$ and $x=1-3i$ are zeros of $f$\n",
        "- as $x\\to -\\infty$, $f(x)\\to \\infty$"
      ],
      "metadata": {
        "id": "JkJNdFC36eDL"
      }
    },
    {
      "cell_type": "markdown",
      "source": [
        "$$f(x)=-(x-6)(x-i)(x+i)(x-(1-3i))(x-(1+3i))$$"
      ],
      "metadata": {
        "id": "ET8zTua-21YI"
      }
    },
    {
      "cell_type": "markdown",
      "source": [
        "### 53.\n",
        "\n",
        "- The leading term of $f(x)$ is $-2x^3$\n",
        "- $c=2i$ is a zero\n",
        "- $f(0)=-16$"
      ],
      "metadata": {
        "id": "fmFfdpwt67Ks"
      }
    },
    {
      "cell_type": "markdown",
      "source": [
        "$$f(x)=-2(x+2)(x-2i)(x+2i)$$"
      ],
      "metadata": {
        "id": "mvfqmh9H3Vhq"
      }
    }
  ]
}