{
  "nbformat": 4,
  "nbformat_minor": 0,
  "metadata": {
    "colab": {
      "provenance": [],
      "authorship_tag": "ABX9TyOCOaKgPBkotVfiv7h5yPw6",
      "include_colab_link": true
    },
    "kernelspec": {
      "name": "python3",
      "display_name": "Python 3"
    },
    "language_info": {
      "name": "python"
    }
  },
  "cells": [
    {
      "cell_type": "markdown",
      "metadata": {
        "id": "view-in-github",
        "colab_type": "text"
      },
      "source": [
        "<a href=\"https://colab.research.google.com/github/MatsubaraSoda/College-Algebra/blob/main/2_3_Quadratic_Functions.ipynb\" target=\"_parent\"><img src=\"https://colab.research.google.com/assets/colab-badge.svg\" alt=\"Open In Colab\"/></a>"
      ]
    },
    {
      "cell_type": "markdown",
      "source": [
        "**Definition 2.5.** A ** quadratic function** is a function of the form\n",
        "$$f(x)=ax^2+bx+c,$$\n",
        "where $a,b$ and $c$ are real numbers with $a\\ne 0$. The domain of a quadratic function is $(-∞,∞)$.\n",
        "\n",
        "---\n",
        "\n",
        "**Definition 2.5.2.** A **parabola** is a quadratic function of the form\n",
        "$$f(x)=x^2,$$\n",
        "The domain of a parabola is $(-∞,∞)$.\n",
        "The point $(0,0)$ is called the **vertex** of the parabola.\n",
        "\n",
        "---\n",
        "\n",
        "**Definition 2.6. Standard and General Form of Quadratic Functions:** Suppose $f$ is a quadratic function.\n",
        "\n",
        "- The **general form** of the quadratic function $f$ is $f(x)=ax^2+bx+c$, where $a,b$ and $c$ are real numbers with $a\\ne 0$.\n",
        "- The **standard form** of the quadratic function $f$ is $f(x)=a(x-h)^2+k$, where $a,h$ and $k$ are real numbers with $a\\ne 0$.\n",
        "\n",
        "---\n",
        "\n",
        "**Theorem 2.2. Vertex Formula for Quadratic in Standard Form:** For the quadratic function $f(x)=a(x-h)^2+k$, where $a,h$ and $k$ are real number with $a\\ne 0$, the vertex of the graph of $y=f(x)$ is $(h,k)$.\n",
        "\n",
        "---\n",
        "\n",
        "**Equation 2.4. Vertex Formulas for Quadratic Functions:** Suppose $a,b,c,h$ and $k$ are real number with $a\\ne 0$.\n",
        "\n",
        "- If $f(x)=a(x-h)^2+k$, the vertex of the graph of $y=f(x)$ is the point $(h,k)$.\n",
        "- If $f(x)=ax^2+bx+c$, the vertex of the graph of $y=f(x)$ is the point $\\left(-\\frac{b}{2a},f\\left(-\\frac{b}{2a}\\right)\\right)$.\n",
        "\n",
        "---\n",
        "\n",
        "**Equation 2.5. The Quadratic Formula:** If $a,b$ and $c$ are real numbers with $a\\ne 0$, then the solutions to $ax^2+bx+c=0$ are\n",
        "$$x=\\frac{-b±\\sqrt{b^2-4ac}}{2a}.$$\n",
        "\n",
        "---\n",
        "\n",
        "**Definition 2.7.** If $a,b$ and $c$ are real numbers with $a\\ne 0$, then the **discriminant** of the quadratic equation $ax^2+bx+c=0$ is the quantity $b^2-4ac$.\n",
        "\n",
        "---\n",
        "\n",
        "**Theorem 2.3. Discriminant Trichotomy:** Let $a,b$ and $c$ be real numbers with $a\\ne 0$.\n",
        "\n",
        "- If $b^2-4ac \\lt 0$, the equation $ax^2+bx+c=0$ has no real solutions.\n",
        "- If $b^2-4ac = 0$, the equation $ax^2+bx+c=0$ has exactly one real solutions.\n",
        "- If $b^2-4ac \\lt 0$, the equation $ax^2+bx+c=0$ has exactly two real solutions.\n",
        "\n",
        "---\n",
        "\n",
        "🍰🍰🍰🍰🍰🍰🍰🍰🍰🍰🍰🍰🍰🍰🍰🍰"
      ],
      "metadata": {
        "id": "LdxPq3rBxuDg"
      }
    },
    {
      "cell_type": "markdown",
      "source": [
        "$$\n",
        "\\begin{align*}\n",
        "f(x) &= ax^2 + bx + c \\\\\n",
        "&= a\\left(x^2 + \\frac{b}{a} x\\right) + c \\tag{Factor out coefficient of $x^2$ from $x^2$ and $x$.} \\\\\n",
        "&= a\\left( x^2+\\frac{b}{a}x+\\frac{b^2}{4a^2}-\\frac{b^2}{4a^2} \\right) + c \\\\\n",
        "&= a \\left( x^2+\\frac{b}{a}x+\\frac{b^2}{4a^2}\\right) - a\\left( \\frac{b^2}{4a^2} \\right) + c \\tag{Group the perfect square trinomial.} \\\\\n",
        "&=a\\left( x+\\frac{b}{2a} \\right)^2 -\\frac{b^2-4ac}{4a} \\\\\n",
        "&=a\\left( x+\\frac{b}{2a} \\right)^2 +\\frac{4ac-b^2}{4a} \\tag{Factor and get a common denominator.} \\\\\n",
        "\\end{align*}\n",
        "$$\n",
        "\n",
        "🍰🍰🍰🍰🍰🍰🍰🍰🍰🍰🍰🍰🍰🍰🍰🍰\n",
        "\n",
        "$$\n",
        "\\begin{align*}\n",
        "a\\left( x+\\frac{b}{2a} \\right)^2 -\\frac{b^2-4ac}{4a} &= 0 \\\\\n",
        "a\\left( x+\\frac{b}{2a} \\right)^2 &= \\frac{b^2-4ac}{4a} \\\\\n",
        "\\left( x+\\frac{b}{2a} \\right)^2 &= \\frac{b^2-4ac}{4a^2} \\\\\n",
        "x+\\frac{b}{2a}  &= \\pm \\sqrt{\\frac{b^2-4ac}{4a^2}} \\\\\n",
        "x+\\frac{b}{2a}  &= \\pm \\frac{\\sqrt{b^2-4ac}}{2a} \\\\\n",
        "x  &= -\\frac{b}{2a} \\pm \\frac{\\sqrt{b^2-4ac}}{2a} \\\\\n",
        "x  &= \\frac{ -b \\pm \\sqrt{b^2-4ac}}{2a}\n",
        "\\end{align*}\n",
        "$$\n",
        "\n",
        "🍰🍰🍰🍰🍰🍰🍰🍰🍰🍰🍰🍰🍰🍰🍰🍰"
      ],
      "metadata": {
        "id": "4cKml0WvjgY6"
      }
    }
  ]
}