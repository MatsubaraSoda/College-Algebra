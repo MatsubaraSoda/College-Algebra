{
  "nbformat": 4,
  "nbformat_minor": 0,
  "metadata": {
    "colab": {
      "provenance": [],
      "authorship_tag": "ABX9TyO3empisJ8jANIJzxwkwTWI",
      "include_colab_link": true
    },
    "kernelspec": {
      "name": "python3",
      "display_name": "Python 3"
    },
    "language_info": {
      "name": "python"
    }
  },
  "cells": [
    {
      "cell_type": "markdown",
      "metadata": {
        "id": "view-in-github",
        "colab_type": "text"
      },
      "source": [
        "<a href=\"https://colab.research.google.com/github/MatsubaraSoda/College-Algebra/blob/main/1_5_Function_Arithmetic.ipynb\" target=\"_parent\"><img src=\"https://colab.research.google.com/assets/colab-badge.svg\" alt=\"Open In Colab\"/></a>"
      ]
    },
    {
      "cell_type": "markdown",
      "source": [
        "<center><b>Function Arithmetic</b></center>\n",
        "\n",
        "Suppose $f$ and $g$ are functions and $x$ is in both the domain of $f$ and the domain of $g$. (Thus $x$ is an element of the intersection of the two domains. )\n",
        "\n",
        "- The **sum** of $f$ and $g$, denoted $f+g$, is the function defined by the formula.\n",
        "$$(f+g)(x)=f(x)+g(x)$$\n",
        "- The **difference** of $f$ and $g$, denoted $f-g$, is the function defined by the formula.\n",
        "$$(f-g)(x)=f(x)-g(x)$$\n",
        "- The **product** of $f$ and $g$, denoted $fg$, is the function defined by the formula.\n",
        "$$(fg)(x)=f(x)g(x)$$\n",
        "- The **quotient** of $f$ and $g$, denoted $\\frac{f}{g}$, is the function defined by the formula.\n",
        "$$(\\frac{f}{g})(x)=\\frac{f(x)}{g(x)},$$\n",
        "provided $g(x)\\ne 0$.\n",
        "\n",
        "---\n",
        "\n",
        "**Definition 1.8.** Given a function $f$, the **difference quotient** of $f$ is the expression\n",
        "$$\\frac{f(x+h)-f(x)}{h},$$\n",
        "where $h\\ne 0$ is a real number.\n",
        "\n",
        "---\n",
        "\n",
        "<center><b>Summary of Common Economic Functions</b></center>\n",
        "\n",
        "Suppose $x$ represents the quantity of items produced and sold.\n",
        "\n",
        "- The price-demand function $p(x)$ calculates the price per item.\n",
        "- The revenue function $R(x)$ calculates the total money collected by selling $x$ items at a price $p(x)$, $R(x) = x\\ p(x)$.\n",
        "- The cost function $C(x)$ calculates the cost to produce $x$ items. The value $C(0)$ is called the fixed cost or start-up cost.\n",
        "- The average cost function $\\overline{C}(x)=\\frac{C(x)}{x}$ calculates the cost per item when making $x$ items. Here, we necessarily assume $x\\gt 0$.\n",
        "- The profit function $P(x)$ calculates the money earned after costs are paid when $x$ items are produced and sold, $P(x)=(R-C)(x)=R(x)-C(x)$.\n",
        "\n",
        "---\n",
        "\n",
        "🔥🔥🔥🔥🔥🔥🔥🔥🔥🔥🔥🔥🔥🔥🔥🔥"
      ],
      "metadata": {
        "id": "hegxbZ1NACpo"
      }
    },
    {
      "cell_type": "markdown",
      "source": [
        "## Example 1.5.2.\n",
        "\n",
        "Find and simplify the difference quotients for the following functions."
      ],
      "metadata": {
        "id": "kD4JfvGf102h"
      }
    },
    {
      "cell_type": "code",
      "source": [
        "from IPython.display import Latex\n",
        "from sympy import symbols, latex, sqrt\n",
        "\n",
        "# Define variables\n",
        "x, h = symbols('x h')\n",
        "# Define the funtion\n",
        "f = x / (x-9)\n",
        "\n",
        "# Display the original function\n",
        "print(\"Original function expression:\")\n",
        "display(Latex(latex(f)))\n",
        "\n",
        "# Calculate the difference quotient expression\n",
        "difference_quotient_expr = (f.subs(x, x + h) - f) / h\n",
        "\n",
        "# Display the difference quotient expression in LaTeX format\n",
        "latex_difference_quotient_expr = latex(difference_quotient_expr)\n",
        "print(\"Difference quotient expression:\")\n",
        "display(Latex(latex_difference_quotient_expr))\n",
        "\n",
        "# If simplification is needed, you can use the simplify function\n",
        "simplified_expr = difference_quotient_expr.simplify()\n",
        "latex_simplified_expr = latex(simplified_expr)\n",
        "print(\"Simplified expression of the difference quotient:\")\n",
        "display(Latex(latex_simplified_expr))\n"
      ],
      "metadata": {
        "colab": {
          "base_uri": "https://localhost:8080/",
          "height": 142
        },
        "id": "7JWIVhRQ1-YW",
        "outputId": "c494b4db-c62d-47b9-a079-4f1da446a014"
      },
      "execution_count": 48,
      "outputs": [
        {
          "output_type": "stream",
          "name": "stdout",
          "text": [
            "Original function expression:\n"
          ]
        },
        {
          "output_type": "display_data",
          "data": {
            "text/plain": [
              "<IPython.core.display.Latex object>"
            ],
            "text/latex": "\\frac{x}{x - 9}"
          },
          "metadata": {}
        },
        {
          "output_type": "stream",
          "name": "stdout",
          "text": [
            "Difference quotient expression:\n"
          ]
        },
        {
          "output_type": "display_data",
          "data": {
            "text/plain": [
              "<IPython.core.display.Latex object>"
            ],
            "text/latex": "\\frac{- \\frac{x}{x - 9} + \\frac{h + x}{h + x - 9}}{h}"
          },
          "metadata": {}
        },
        {
          "output_type": "stream",
          "name": "stdout",
          "text": [
            "Simplified expression of the difference quotient:\n"
          ]
        },
        {
          "output_type": "display_data",
          "data": {
            "text/plain": [
              "<IPython.core.display.Latex object>"
            ],
            "text/latex": "- \\frac{9}{h x - 9 h + x^{2} - 18 x + 81}"
          },
          "metadata": {}
        }
      ]
    },
    {
      "cell_type": "markdown",
      "source": [
        "## 1.5.1 Exercises\n",
        "\n",
        "In Exercises 46 - 50, $C(x)$ denotes the cost to produce the cost to produce $x$ items and $p(x)$ denotes the price-demand function in the given economic scenario. In each Exercise, do the following:\n",
        "\n",
        "- Find and interpret $C(0)$.\n",
        "- Find and interpret $\\overline{C}(10)$.\n",
        "- Find and interpret $p(5)$.\n",
        "- Find and simplify $R(x)$.\n",
        "- Find and simplify $P(x)$.\n",
        "- Solve $P(x) = 0$ and interpret."
      ],
      "metadata": {
        "id": "9IlBJGniNRDy"
      }
    },
    {
      "cell_type": "markdown",
      "source": [
        "### 46.\n",
        "\n",
        "The cost, in dollars, to produce x \"I'd rather be a Sasquatch\" T-Shirts is $C(x)=2x+26$, $x\\geq 0$ and the price-demand function, in dollars per shirt, is $p(x)=30-2x, 0\\leq x\\leq 15$."
      ],
      "metadata": {
        "id": "Ww__DqEj54Lp"
      }
    },
    {
      "cell_type": "code",
      "source": [
        "from IPython.display import Latex\n",
        "from sympy import symbols, latex, simplify, solve, expand\n",
        "\n",
        "# Define the variable and functions\n",
        "x = symbols('x')\n",
        "C = 2*x + 26\n",
        "p = 30 - 2*x\n",
        "\n",
        "# 1. Find and interpret C(0)\n",
        "C_0 = C.subs(x, 0)\n",
        "display(Latex(f\"C(0) = {C_0}\"))\n",
        "print(f\"Interpretation: The cost to produce 0 'I'd rather be a Sasquatch' T-Shirts is ${C_0}.\")\n",
        "print()\n",
        "\n",
        "# 2. Find and interpret \\overline{C}(10)\n",
        "average_cost = C/10\n",
        "average_cost_at_10 = average_cost.subs(x, 10).evalf(3)\n",
        "display(Latex(f\"\\overline{{C}}(10) = {average_cost_at_10}\"))\n",
        "print(f\"Interpretation: The average cost per shirt when producing 10 shirts is ${average_cost_at_10}.\")\n",
        "print()\n",
        "\n",
        "# 3. Find and interpret p(5)\n",
        "p_5 = p.subs(x, 5)\n",
        "display(Latex(f\"p(5) = {p_5}\"))\n",
        "print(f\"Interpretation: The price per shirt when selling 5 shirts is ${p_5}.\")\n",
        "print()\n",
        "\n",
        "# 4. Find and simplify R(x)\n",
        "R = p*x\n",
        "R_simplified = expand(simplify(R))\n",
        "latex_R_simplified = latex(R_simplified)\n",
        "display(Latex(f\"R(x) = {latex_R_simplified},\\ 0\\leq x\\leq 15\"))\n",
        "print(\"Interpretation: R(x) represents the revenue function.\")\n",
        "print()\n",
        "\n",
        "# 5. Find and simplify P(x)\n",
        "P = R - C\n",
        "P_simplified = expand(simplify(P))\n",
        "latex_P_simplified = latex(P_simplified)\n",
        "display(Latex(f\"P(x) = {latex_P_simplified},\\ 0\\leq x\\leq 15\"))\n",
        "print(\"Interpretation: P(x) represents the profit function.\")\n",
        "print()\n",
        "\n",
        "# 6. Solve P(x) = 0 and interpret\n",
        "profit_zero_points = solve(P, x)\n",
        "display(Latex(f\"\\\\text{{Solutions to }} P(x) = 0, \\\\text{{ get }} x = {profit_zero_points[0]} \\\\text{{ or }} x = {profit_zero_points[1]}\"))\n",
        "print(\"Interpretation: The values of x for which the profit is zero represent the break-even points.\")\n"
      ],
      "metadata": {
        "colab": {
          "base_uri": "https://localhost:8080/",
          "height": 346
        },
        "id": "UJP7mhYdzLrl",
        "outputId": "998a33d9-d3d4-4fde-fa4c-632d79d8422d"
      },
      "execution_count": 108,
      "outputs": [
        {
          "output_type": "display_data",
          "data": {
            "text/plain": [
              "<IPython.core.display.Latex object>"
            ],
            "text/latex": "C(0) = 26"
          },
          "metadata": {}
        },
        {
          "output_type": "stream",
          "name": "stdout",
          "text": [
            "Interpretation: The cost to produce 0 'I'd rather be a Sasquatch' T-Shirts is $26.\n",
            "\n"
          ]
        },
        {
          "output_type": "display_data",
          "data": {
            "text/plain": [
              "<IPython.core.display.Latex object>"
            ],
            "text/latex": "\\overline{C}(10) = 4.60"
          },
          "metadata": {}
        },
        {
          "output_type": "stream",
          "name": "stdout",
          "text": [
            "Interpretation: The average cost per shirt when producing 10 shirts is $4.60.\n",
            "\n"
          ]
        },
        {
          "output_type": "display_data",
          "data": {
            "text/plain": [
              "<IPython.core.display.Latex object>"
            ],
            "text/latex": "p(5) = 20"
          },
          "metadata": {}
        },
        {
          "output_type": "stream",
          "name": "stdout",
          "text": [
            "Interpretation: The price per shirt when selling 5 shirts is $20.\n",
            "\n"
          ]
        },
        {
          "output_type": "display_data",
          "data": {
            "text/plain": [
              "<IPython.core.display.Latex object>"
            ],
            "text/latex": "R(x) = - 2 x^{2} + 30 x,\\ 0\\leq x\\leq 15"
          },
          "metadata": {}
        },
        {
          "output_type": "stream",
          "name": "stdout",
          "text": [
            "Interpretation: R(x) represents the revenue function.\n",
            "\n"
          ]
        },
        {
          "output_type": "display_data",
          "data": {
            "text/plain": [
              "<IPython.core.display.Latex object>"
            ],
            "text/latex": "P(x) = - 2 x^{2} + 28 x - 26,\\ 0\\leq x\\leq 15"
          },
          "metadata": {}
        },
        {
          "output_type": "stream",
          "name": "stdout",
          "text": [
            "Interpretation: P(x) represents the profit function.\n",
            "\n"
          ]
        },
        {
          "output_type": "display_data",
          "data": {
            "text/plain": [
              "<IPython.core.display.Latex object>"
            ],
            "text/latex": "\\text{Solutions to } P(x) = 0, \\text{ get } x = 1 \\text{ or } x = 13"
          },
          "metadata": {}
        },
        {
          "output_type": "stream",
          "name": "stdout",
          "text": [
            "Interpretation: The values of x for which the profit is zero represent the break-even points.\n"
          ]
        }
      ]
    },
    {
      "cell_type": "markdown",
      "source": [
        "### 47.\n",
        "\n",
        " The cost, in dollars, to produce $x$ bottles of 100% All-Natural Certified Free-Trade Organic Sasquatch Tonic is $C(x)=10x+100,\\ x\\geq 0$ and the price-demand function, in dollars per bottle, is $p(x)=35-x,\\ 0\\leq x\\leq 35$."
      ],
      "metadata": {
        "id": "3mqLtILUMeNt"
      }
    },
    {
      "cell_type": "code",
      "source": [
        "from IPython.display import Latex\n",
        "from sympy import *\n",
        "\n",
        "# Define the variable\n",
        "x = symbols('x')\n",
        "\n",
        "# Define the cost function C(x) and the price-demand function p(x)\n",
        "C = 10*x + 100\n",
        "p = 35 - x\n",
        "\n",
        "# Find and interpret C(0)\n",
        "C_at_0 = C.subs(x, 0)\n",
        "display(Latex(f\"C(0) = {C_at_0}: \\\\text{{When no bottles are produced, the cost is $\\$$100, representing the fixed cost.}}\"))\n",
        "print()\n",
        "\n",
        "# Find and interpret average cost at x=10\n",
        "average_C_at_10 = C/x\n",
        "average_C_at_10 = average_C_at_10.subs(x, 10)\n",
        "display(Latex(f\"\\\\text{{Average Cost at $x=10$ is }} {average_C_at_10}: \\\\text{{The average cost per bottle when producing 10 bottles is $\\$$20.}}\"))\n",
        "print()\n",
        "\n",
        "# Find and interpret p(5)\n",
        "p_at_5 = p.subs(x, 5)\n",
        "display(Latex(f\"p(5) = {p_at_5}: \\\\text{{So to sell 5 bottles of tonic, set the price at $\\$$30 per bottle.}}\"))\n",
        "print()\n",
        "\n",
        "# Find and simplify R(x)\n",
        "R = x * p\n",
        "R_simplified = expand(simplify(R))\n",
        "latex_R_simplified = latex(R_simplified)\n",
        "display(Latex(f\"R(x) = {latex_R_simplified},\\ 0\\leq x\\leq 35: \\\\text{{The simplified form of the revenue function is $ {latex_R_simplified} $.}}\"))\n",
        "print()\n",
        "\n",
        "# Find and simplify P(x)\n",
        "P = R - C\n",
        "P_simplified = expand(simplify(P))\n",
        "latex_P_simplified = latex(P_simplified)\n",
        "display(Latex(f\"P(x) = {latex_P_simplified},\\ 0\\leq x\\leq 35: \\\\text{{The simplified form of the profit function is ${latex_P_simplified}$.}}\"))\n",
        "print()\n",
        "\n",
        "# Solve P(x) = 0 and interpret\n",
        "profit_zero_points = solve(P, x)\n",
        "display(Latex(f\"\\\\text{{Solutions to }} P(x) = 0: {profit_zero_points}: \\\\text{{Profit is zero when $x = 0$ or $x = 25$.}}\"))\n",
        "print(\"These are the 'break even' points, so selling 5 bottles of tonic or 20 bottles of tonic will guarantee the revenue earned exactly recoups the cost of production.\")"
      ],
      "metadata": {
        "colab": {
          "base_uri": "https://localhost:8080/",
          "height": 255
        },
        "id": "zK_amxBrNBMa",
        "outputId": "9fa0e2f1-eca8-49af-e958-e9820264d73e"
      },
      "execution_count": 162,
      "outputs": [
        {
          "output_type": "display_data",
          "data": {
            "text/plain": [
              "<IPython.core.display.Latex object>"
            ],
            "text/latex": "C(0) = 100: \\text{When no bottles are produced, the cost is $\\$$100, representing the fixed cost.}"
          },
          "metadata": {}
        },
        {
          "output_type": "stream",
          "name": "stdout",
          "text": [
            "\n"
          ]
        },
        {
          "output_type": "display_data",
          "data": {
            "text/plain": [
              "<IPython.core.display.Latex object>"
            ],
            "text/latex": "\\text{Average Cost at $x=10$ is } 20: \\text{The average cost per bottle when producing 10 bottles is $\\$$20.}"
          },
          "metadata": {}
        },
        {
          "output_type": "stream",
          "name": "stdout",
          "text": [
            "\n"
          ]
        },
        {
          "output_type": "display_data",
          "data": {
            "text/plain": [
              "<IPython.core.display.Latex object>"
            ],
            "text/latex": "p(5) = 30: \\text{So to sell 5 bottles of tonic, set the price at $\\$$30 per bottle.}"
          },
          "metadata": {}
        },
        {
          "output_type": "stream",
          "name": "stdout",
          "text": [
            "\n"
          ]
        },
        {
          "output_type": "display_data",
          "data": {
            "text/plain": [
              "<IPython.core.display.Latex object>"
            ],
            "text/latex": "R(x) = - x^{2} + 35 x,\\ 0\\leq x\\leq 35: \\text{The simplified form of the revenue function is $ - x^{2} + 35 x $.}"
          },
          "metadata": {}
        },
        {
          "output_type": "stream",
          "name": "stdout",
          "text": [
            "\n"
          ]
        },
        {
          "output_type": "display_data",
          "data": {
            "text/plain": [
              "<IPython.core.display.Latex object>"
            ],
            "text/latex": "P(x) = - x^{2} + 25 x - 100,\\ 0\\leq x\\leq 35: \\text{The simplified form of the profit function is $- x^{2} + 25 x - 100$.}"
          },
          "metadata": {}
        },
        {
          "output_type": "stream",
          "name": "stdout",
          "text": [
            "\n"
          ]
        },
        {
          "output_type": "display_data",
          "data": {
            "text/plain": [
              "<IPython.core.display.Latex object>"
            ],
            "text/latex": "\\text{Solutions to } P(x) = 0: [5, 20]: \\text{Profit is zero when $x = 0$ or $x = 25$.}"
          },
          "metadata": {}
        },
        {
          "output_type": "stream",
          "name": "stdout",
          "text": [
            "These are the 'break even' points, so selling 5 bottles of tonic or 20 bottles of tonic will guarantee the revenue earned exactly recoups the cost of production.\n"
          ]
        }
      ]
    },
    {
      "cell_type": "markdown",
      "source": [
        "### 48.\n",
        "\n",
        "The cost, in cents, to produce $x$ cups of Mountain Thunder Lemonade at Junior's Lemonade Stand is $C(x)=18x+240,\\ x\\geq 0$ and the price-demand function, in cents per cup, is $p(x)=90-3x,\\ 0\\leq x\\leq 30$."
      ],
      "metadata": {
        "id": "7vkFsRWNNBUk"
      }
    },
    {
      "cell_type": "code",
      "source": [
        "import sympy as sp\n",
        "\n",
        "# Define the variable x as a symbol\n",
        "x = sp.symbols('x')\n",
        "\n",
        "# Define the cost function C(x)\n",
        "C = 18*x + 240\n",
        "\n",
        "# Define the price-demand function p(x)\n",
        "p = 90 - 3*x\n",
        "\n",
        "# Calculate C(0) and interpret\n",
        "C_at_0 = C.subs(x, 0)\n",
        "print(f\"C(0) = {C_at_0}\")\n",
        "print(\"Interpretation: The cost to produce 0 bottles is $240.\")\n",
        "print()\n",
        "\n",
        "# Calculate average cost at x = 10 and interpret\n",
        "average_cost_at_10 = C.subs(x, 10) / 10\n",
        "print(f\"Avergage Cost at x=10: {average_cost_at_10}\")\n",
        "print(\"Interpretation: The average cost of producing 10 bottles is $42 per bottle.\")\n",
        "print()\n",
        "\n",
        "# Calculate p(5) and interpret\n",
        "p_at_5 = p.subs(x, 5)\n",
        "print(f\"p(5) = {p_at_5}\")\n",
        "print(\"Interpretation: The price per cup when 5 bottles are sold is 75 cents.\")\n",
        "print()\n",
        "\n",
        "# Calculate R(x) and P(x)\n",
        "R = x*p\n",
        "P = R - C\n",
        "\n",
        "# Display simplified expressions\n",
        "print(f\"R(x) = {sp.simplify(R)}\")\n",
        "print()\n",
        "\n",
        "print(f\"P(x) = {sp.simplify(P)}\")\n",
        "print()\n",
        "\n",
        "# Solve P(x) = 0\n",
        "solution = sp.solve(P, x)\n",
        "print(f\"Solutions to P(x) = 0: {solution}\")\n"
      ],
      "metadata": {
        "colab": {
          "base_uri": "https://localhost:8080/"
        },
        "id": "Og5exh_ZNZzb",
        "outputId": "03414757-faaa-48ac-a2bc-abb1506be0bb"
      },
      "execution_count": 164,
      "outputs": [
        {
          "output_type": "stream",
          "name": "stdout",
          "text": [
            "C(0) = 240\n",
            "Interpretation: The cost to produce 0 bottles is $240.\n",
            "\n",
            "Avergage Cost at x=10: 42\n",
            "Interpretation: The average cost of producing 10 bottles is $42 per bottle.\n",
            "\n",
            "p(5) = 75\n",
            "Interpretation: The price per cup when 5 bottles are sold is 75 cents.\n",
            "\n",
            "R(x) = 3*x*(30 - x)\n",
            "\n",
            "P(x) = -3*x**2 + 72*x - 240\n",
            "\n",
            "Solutions to P(x) = 0: [4, 20]\n"
          ]
        }
      ]
    },
    {
      "cell_type": "markdown",
      "source": [
        "### 49.\n",
        "\n",
        "The daily cost, in dollars, to produce $x$ Sasquatch Berry Pies $C(x)=3x+36,\\ x\\geq 0$ and the price-demand function, in dollars per pie, is $p(x)=12-0.5x,\\ 0\\leq x\\leq 24$."
      ],
      "metadata": {
        "id": "Lk5o5j1DNZ35"
      }
    },
    {
      "cell_type": "code",
      "source": [
        "import sympy as sp\n",
        "\n",
        "# Define the variable and functions\n",
        "x = sp.symbols('x')\n",
        "C = 3*x + 36\n",
        "p = 12 - 0.5*x\n",
        "\n",
        "# Part 1: Find and interpret C(0)\n",
        "C_at_0 = C.subs(x, 0)\n",
        "print(f\"C(0) = {C_at_0}\")\n",
        "print(\"Interpretation: C(0) represents the cost of producing 0 Sasquatch Berry Pies, and the result is the fixed cost, which is $36.\")\n",
        "print()\n",
        "\n",
        "# Part 2: Find and interpret average_C(10)\n",
        "average_C = C/x\n",
        "average_C_at_10 = average_C.subs(x, 10)\n",
        "print(f\"Average Cost at x=10: {average_C_at_10}\")\n",
        "print(\"Interpretation: Average Cost at x=10 represents the average cost per pie when producing 10 Sasquatch Berry Pies.\")\n",
        "print()\n",
        "\n",
        "# Part 3: Find and interpret p(5)\n",
        "p_at_5 = p.subs(x, 5)\n",
        "print(f\"p(5) = {p_at_5}\")\n",
        "print(\"Interpretation: p(5) represents the price per pie when 5 Sasquatch Berry Pies are sold.\")\n",
        "print()\n",
        "\n",
        "# Part 4: Find and simplify R(x)\n",
        "R = x * p\n",
        "R_simplified = sp.simplify(R)\n",
        "print(f\"Revenue function, R(x) = {R_simplified}\")\n",
        "print()\n",
        "\n",
        "# Part 5: Find and simplify P(x)\n",
        "P = R - C\n",
        "P_simplified = sp.simplify(P)\n",
        "print(f\"Profit function, P(x) = {P_simplified}\")\n",
        "print()\n",
        "\n",
        "# Part 6: Solve P(x) = 0 and interpret\n",
        "solution = sp.solve(P, x)\n",
        "print(f\"Solutions to P(x) = 0: {solution}\")\n",
        "print(\"Interpretation: The solutions to P(x) = 0 represent the production level at which the profit is zero.\")\n",
        "print()\n"
      ],
      "metadata": {
        "colab": {
          "base_uri": "https://localhost:8080/"
        },
        "id": "EQY1huUoNvx_",
        "outputId": "a0502f66-5640-4bbf-bd4b-371393c58d03"
      },
      "execution_count": 165,
      "outputs": [
        {
          "output_type": "stream",
          "name": "stdout",
          "text": [
            "C(0) = 36\n",
            "Interpretation: C(0) represents the cost of producing 0 Sasquatch Berry Pies, and the result is the fixed cost, which is $36.\n",
            "\n",
            "Average Cost at x=10: 33/5\n",
            "Interpretation: Average Cost at x=10 represents the average cost per pie when producing 10 Sasquatch Berry Pies.\n",
            "\n",
            "p(5) = 9.50000000000000\n",
            "Interpretation: p(5) represents the price per pie when 5 Sasquatch Berry Pies are sold.\n",
            "\n",
            "Revenue function, R(x) = x*(12.0 - 0.5*x)\n",
            "\n",
            "Profit function, P(x) = -0.5*x**2 + 9.0*x - 36.0\n",
            "\n",
            "Solutions to P(x) = 0: [6.00000000000000, 12.0000000000000]\n",
            "Interpretation: The solutions to P(x) = 0 represent the production level at which the profit is zero.\n",
            "\n"
          ]
        }
      ]
    },
    {
      "cell_type": "markdown",
      "source": [
        "### 50.\n",
        "\n",
        "The monthly cost, in hundreds of dollars, to produce $x$ custom built electric scooters is $C(x)=20x+1000,\\ x\\geq 0$ and the price-demand function, in hundreds of dollars per scooter, is $p(x)=140-2x,\\ 0\\leq x\\leq 70$."
      ],
      "metadata": {
        "id": "w64oBP8dNv39"
      }
    },
    {
      "cell_type": "code",
      "source": [
        "from sympy import *\n",
        "\n",
        "# Define the variable x\n",
        "x = symbols('x')\n",
        "\n",
        "# Cost function\n",
        "C = 20*x + 1000\n",
        "\n",
        "# Part 1: Find and interpret C(0)\n",
        "C_at_0 = C.subs(x, 0)\n",
        "print(\"C(0) =\", C_at_0)\n",
        "print(\"Interpretation: The cost to produce 0 custom-built electric scooters is $1000.\")\n",
        "print()\n",
        "\n",
        "# Part 2: Find and interpret \\(\\overline{C}(10)\\)\n",
        "average_C = C / x\n",
        "average_C_at_10 = average_C.subs(x, 10)\n",
        "print(\"Average Cost at x=10 ( \\(\\overline{C}(10)\\) ) =\", average_C_at_10)\n",
        "print(\"Interpretation: The average cost per scooter when producing 10 scooters is $120.\")\n",
        "print()\n",
        "\n",
        "# Price-demand function\n",
        "p = 140 - 2*x\n",
        "\n",
        "# Part 3: Find and interpret p(5)\n",
        "p_at_5 = p.subs(x, 5)\n",
        "print(\"p(5) =\", p_at_5)\n",
        "print(\"Interpretation: The price per scooter when producing 5 scooters is $130.\")\n",
        "print()\n",
        "\n",
        "# Part 4: Find and simplify R(x)\n",
        "R = x * p\n",
        "R_simplified = R.simplify()\n",
        "print(\"Simplified R(x) =\", R_simplified)\n",
        "print()\n",
        "\n",
        "# Part 5: Find and simplify P(x)\n",
        "# Cost function C is already defined\n",
        "# Profit function P = R - C\n",
        "P = R - C\n",
        "P_simplified = P.simplify()\n",
        "print(\"Simplified P(x) =\", P_simplified)\n",
        "print()\n",
        "\n",
        "# Part 6: Solve P(x) = 0 and interpret\n",
        "profit_zero_points = solve(P, x)\n",
        "print(\"Solutions to P(x) = 0:\", profit_zero_points)\n",
        "print(\"Interpretation: These are the production levels where the revenue equals the total cost, resulting in zero profit.\")\n",
        "print()\n"
      ],
      "metadata": {
        "colab": {
          "base_uri": "https://localhost:8080/"
        },
        "id": "CxK99H-qOLGW",
        "outputId": "c05d7567-a6d9-4856-89e8-4670bbd21045"
      },
      "execution_count": 166,
      "outputs": [
        {
          "output_type": "stream",
          "name": "stdout",
          "text": [
            "C(0) = 1000\n",
            "Interpretation: The cost to produce 0 custom-built electric scooters is $1000.\n",
            "\n",
            "Average Cost at x=10 ( \\(\\overline{C}(10)\\) ) = 120\n",
            "Interpretation: The average cost per scooter when producing 10 scooters is $120.\n",
            "\n",
            "p(5) = 130\n",
            "Interpretation: The price per scooter when producing 5 scooters is $130.\n",
            "\n",
            "Simplified R(x) = 2*x*(70 - x)\n",
            "\n",
            "Simplified P(x) = -2*x**2 + 120*x - 1000\n",
            "\n",
            "Solutions to P(x) = 0: [10, 50]\n",
            "Interpretation: These are the production levels where the revenue equals the total cost, resulting in zero profit.\n",
            "\n"
          ]
        }
      ]
    }
  ]
}