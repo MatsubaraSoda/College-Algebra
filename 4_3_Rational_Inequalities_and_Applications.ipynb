{
  "nbformat": 4,
  "nbformat_minor": 0,
  "metadata": {
    "colab": {
      "provenance": [],
      "authorship_tag": "ABX9TyM0tgqWdAq3vGDSILKYZP9C",
      "include_colab_link": true
    },
    "kernelspec": {
      "name": "python3",
      "display_name": "Python 3"
    },
    "language_info": {
      "name": "python"
    }
  },
  "cells": [
    {
      "cell_type": "markdown",
      "metadata": {
        "id": "view-in-github",
        "colab_type": "text"
      },
      "source": [
        "<a href=\"https://colab.research.google.com/github/MatsubaraSoda/College-Algebra/blob/main/4_3_Rational_Inequalities_and_Applications.ipynb\" target=\"_parent\"><img src=\"https://colab.research.google.com/assets/colab-badge.svg\" alt=\"Open In Colab\"/></a>"
      ]
    },
    {
      "cell_type": "markdown",
      "source": [
        "**Definition 4.5.** Suppose $x,y$ and $z$ are variable quantities. We say\n",
        "\n",
        "- $y$ **varies directly with** (or is **diretly proportional to**) $x$ if there is a constant $k$ such that $y=kx$.\n",
        "\n",
        "- $y$ **varies inversely with** (or is **inversely proportional to**) $x$ if there is a constant $k$ such that $y=\\frac{k}{x}$.\n",
        "\n",
        "- $z$ **varies jointly with** (or is **jointly proportional to**) $x$ and $y$ if there is a constant $k$ such that $z=kxy$.\n",
        "\n",
        "The constant $k$ in the above definitions is called the **constant of proportionality**.\n",
        "\n",
        "> In many instances in the sciences, rational functions are encountered as a result of fundamental natural laws which are typically a result of assuming certain basic relationships between variables. These basic relationships are summarized in the definition above."
      ],
      "metadata": {
        "id": "kvsD9Yl2rCM9"
      }
    },
    {
      "cell_type": "code",
      "source": [
        "import sympy as sp"
      ],
      "metadata": {
        "id": "RzjT-yLvz9gm"
      },
      "execution_count": 51,
      "outputs": []
    },
    {
      "cell_type": "markdown",
      "source": [
        "## Exercises 1 - 6\n",
        "\n",
        "In Exercises 1 - 6, solve the rational equation. Be sure to check for extraneous solutions."
      ],
      "metadata": {
        "id": "q_Xb1_qGuUxj"
      }
    },
    {
      "cell_type": "markdown",
      "source": [
        "### 1. $\\frac{x}{5x+4}=3$"
      ],
      "metadata": {
        "id": "1xGJ1Qkjue7n"
      }
    },
    {
      "cell_type": "code",
      "source": [
        "x = sp.Symbol('x')\n",
        "equation = sp.Eq(x/(5*x+4), 3)\n",
        "solution = sp.solve(equation, x)\n",
        "print(solution)"
      ],
      "metadata": {
        "colab": {
          "base_uri": "https://localhost:8080/"
        },
        "id": "wlB4z6rIz8MD",
        "outputId": "785c61f6-4a13-46b1-d67a-5d1c65fee8ba"
      },
      "execution_count": 52,
      "outputs": [
        {
          "output_type": "stream",
          "name": "stdout",
          "text": [
            "[-6/7]\n"
          ]
        }
      ]
    },
    {
      "cell_type": "markdown",
      "source": [
        "### 2. $\\frac{3x-1}{x^2+1}=1$"
      ],
      "metadata": {
        "id": "qD-KrW2-uitx"
      }
    },
    {
      "cell_type": "code",
      "source": [
        "x = sp.Symbol('x')\n",
        "equation = sp.Eq((3*x-1)/(x**2+1), 1)\n",
        "solution = sp.solve(equation, x)\n",
        "print(solution)"
      ],
      "metadata": {
        "colab": {
          "base_uri": "https://localhost:8080/"
        },
        "id": "KmBuryXi2z8H",
        "outputId": "fef64c73-74d8-43b3-a42a-f28c72ab6617"
      },
      "execution_count": 53,
      "outputs": [
        {
          "output_type": "stream",
          "name": "stdout",
          "text": [
            "[1, 2]\n"
          ]
        }
      ]
    },
    {
      "cell_type": "markdown",
      "source": [
        "### 3. $\\frac{1}{x+3}+\\frac{1}{x-3}=\\frac{x^2-3}{x^2-9}$"
      ],
      "metadata": {
        "id": "Teny9sfzunVz"
      }
    },
    {
      "cell_type": "code",
      "source": [
        "x = sp.Symbol('x')\n",
        "lhs = 1 / (x+3) + 1 / (x-3)\n",
        "rhs = (x**2-3) / (x**2-9)\n",
        "equation = sp.Eq(lhs, rhs)\n",
        "solution = sp.solve(equation, x)\n",
        "print(solution)"
      ],
      "metadata": {
        "colab": {
          "base_uri": "https://localhost:8080/"
        },
        "id": "xUY2YArd3ZW7",
        "outputId": "3f05521f-c4b5-445f-f7f7-80ceabc7b407"
      },
      "execution_count": 54,
      "outputs": [
        {
          "output_type": "stream",
          "name": "stdout",
          "text": [
            "[-1]\n"
          ]
        }
      ]
    },
    {
      "cell_type": "markdown",
      "source": [
        "### 4. $\\frac{2x+17}{x+1}=x+5$"
      ],
      "metadata": {
        "id": "77SbXWPXu6Sj"
      }
    },
    {
      "cell_type": "code",
      "source": [
        "x = sp.Symbol('x')\n",
        "lhs = (2*x+17) / (x+1)\n",
        "rhs = x + 5\n",
        "equation = sp.Eq(lhs, rhs)\n",
        "solution = sp.solve(equation, x)\n",
        "print(solution)"
      ],
      "metadata": {
        "colab": {
          "base_uri": "https://localhost:8080/"
        },
        "id": "Gi_BbiVK3_-d",
        "outputId": "5a7aee98-d7e8-440e-e493-2589624ce551"
      },
      "execution_count": 55,
      "outputs": [
        {
          "output_type": "stream",
          "name": "stdout",
          "text": [
            "[-6, 2]\n"
          ]
        }
      ]
    },
    {
      "cell_type": "markdown",
      "source": [
        "### 5. $\\frac{x^2-2x+1}{x^3+x^2-2x}=1$"
      ],
      "metadata": {
        "id": "Mpu-loYVu-L-"
      }
    },
    {
      "cell_type": "code",
      "source": [
        "x = sp.Symbol('x')\n",
        "lhs = (x**2-2*x+1) / (x**3+x**2-2*x)\n",
        "rhs = 1\n",
        "equation = sp.Eq(lhs, rhs)\n",
        "solution = sp.solve(equation, x)\n",
        "for s in solution:\n",
        "  print(s)"
      ],
      "metadata": {
        "colab": {
          "base_uri": "https://localhost:8080/"
        },
        "id": "0J7E0If94i8r",
        "outputId": "03f7dbb9-7d91-4e2f-b344-277930d5b2d9"
      },
      "execution_count": 56,
      "outputs": [
        {
          "output_type": "stream",
          "name": "stdout",
          "text": [
            "-1/2 - sqrt(3)*I/2\n",
            "-1/2 + sqrt(3)*I/2\n"
          ]
        }
      ]
    },
    {
      "cell_type": "markdown",
      "source": [
        "### 6. $\\frac{-x^3+4x}{x^2-9}=4x$"
      ],
      "metadata": {
        "id": "Ro0563PAvDm6"
      }
    },
    {
      "cell_type": "code",
      "source": [
        "x = sp.Symbol('x')\n",
        "lhs = (-x**3+4*x) / (x**2-9)\n",
        "rhs = 4*x\n",
        "equation = sp.Eq(lhs, rhs)\n",
        "solution = sp.solve(equation, x)\n",
        "for s in solution:\n",
        "  print(s)"
      ],
      "metadata": {
        "colab": {
          "base_uri": "https://localhost:8080/"
        },
        "id": "2C3oYL9n5OgJ",
        "outputId": "d02efafd-6df7-4b72-cd9c-bd7703aabc8e"
      },
      "execution_count": 57,
      "outputs": [
        {
          "output_type": "stream",
          "name": "stdout",
          "text": [
            "0\n",
            "-2*sqrt(2)\n",
            "2*sqrt(2)\n"
          ]
        }
      ]
    },
    {
      "cell_type": "markdown",
      "source": [
        "## Exercises 7 - 20\n",
        "\n",
        "In Exercises 7 - 20, solve the rational inequality. Express your answer using interval notation."
      ],
      "metadata": {
        "id": "1BQc7JFhvJqC"
      }
    },
    {
      "cell_type": "markdown",
      "source": [
        "### 7. $\\frac{1}{x+2}\\geq 0$"
      ],
      "metadata": {
        "id": "bl8E5tCgvYtU"
      }
    },
    {
      "cell_type": "code",
      "source": [
        "x = sp.Symbol('x')\n",
        "lhs = 1 / (x+2)\n",
        "rhs = 0\n",
        "inequality = sp.Ge(lhs, rhs)\n",
        "solution = sp.solveset(inequality, x, domain=sp.S.Reals)\n",
        "print(solution)"
      ],
      "metadata": {
        "colab": {
          "base_uri": "https://localhost:8080/"
        },
        "id": "TWuhmMO95bhQ",
        "outputId": "58dee231-cc92-42fa-8ae1-50d1c1028955"
      },
      "execution_count": 58,
      "outputs": [
        {
          "output_type": "stream",
          "name": "stdout",
          "text": [
            "Interval.open(-2, oo)\n"
          ]
        }
      ]
    },
    {
      "cell_type": "markdown",
      "source": [
        "### 8. $\\frac{x-3}{x+2}\\leq 0$"
      ],
      "metadata": {
        "id": "cP5XIzXgvciI"
      }
    },
    {
      "cell_type": "code",
      "source": [
        "x = sp.Symbol('x')\n",
        "lhs = (x-3) / (x+2)\n",
        "rhs = 0\n",
        "inequality = sp.Le(lhs, rhs)\n",
        "solution = sp.solveset(inequality, x, domain=sp.S.Reals)\n",
        "print(solution)"
      ],
      "metadata": {
        "colab": {
          "base_uri": "https://localhost:8080/"
        },
        "id": "FBTFvd_F8h61",
        "outputId": "8ddcf8ca-bfbe-4b23-c6a5-4283642432f8"
      },
      "execution_count": 59,
      "outputs": [
        {
          "output_type": "stream",
          "name": "stdout",
          "text": [
            "Interval.Lopen(-2, 3)\n"
          ]
        }
      ]
    },
    {
      "cell_type": "markdown",
      "source": [
        "### 9. $\\frac{x}{x^2-1}\\gt 0$"
      ],
      "metadata": {
        "id": "Qy9cSWoqviGd"
      }
    },
    {
      "cell_type": "code",
      "source": [
        "x = sp.Symbol('x')\n",
        "lhs = x / (x**2-1)\n",
        "rhs = 0\n",
        "inequality = sp.Gt(lhs, rhs)\n",
        "solution = sp.solveset(inequality, x, domain=sp.S.Reals)\n",
        "print(solution)"
      ],
      "metadata": {
        "colab": {
          "base_uri": "https://localhost:8080/"
        },
        "id": "XR-kBy7u8pZo",
        "outputId": "d968618c-87d6-432f-ea85-7f26fe56232b"
      },
      "execution_count": 60,
      "outputs": [
        {
          "output_type": "stream",
          "name": "stdout",
          "text": [
            "Union(Interval.open(-1, 0), Interval.open(1, oo))\n"
          ]
        }
      ]
    },
    {
      "cell_type": "markdown",
      "source": [
        "### 10. $\\frac{4x}{x^2+4}\\geq 0$"
      ],
      "metadata": {
        "id": "nNCF_Qhevq41"
      }
    },
    {
      "cell_type": "code",
      "source": [
        "x = sp.Symbol('x')\n",
        "lhs = 4*x / (x**2+4)\n",
        "rhs = 0\n",
        "inequality = sp.Ge(lhs, rhs)\n",
        "solution = sp.solveset(inequality, x, domain=sp.S.Reals)\n",
        "print(solution)"
      ],
      "metadata": {
        "colab": {
          "base_uri": "https://localhost:8080/"
        },
        "id": "XAaKsVrp82QJ",
        "outputId": "f1e649ef-44fb-4bd0-ae9a-b29a82d1b012"
      },
      "execution_count": 61,
      "outputs": [
        {
          "output_type": "stream",
          "name": "stdout",
          "text": [
            "Interval(0, oo)\n"
          ]
        }
      ]
    },
    {
      "cell_type": "markdown",
      "source": [
        "### 11. $\\frac{x^2-x-12}{x^2+x-6}\\gt 0$"
      ],
      "metadata": {
        "id": "vG8DYtCIvvZs"
      }
    },
    {
      "cell_type": "code",
      "source": [
        "x = sp.Symbol('x')\n",
        "lhs = (x**2-x-12) / (x**2+x-6)\n",
        "rhs = 0\n",
        "inequality = sp.Gt(lhs, rhs)\n",
        "solution = sp.solveset(inequality, x, domain=sp.S.Reals)\n",
        "print(solution)"
      ],
      "metadata": {
        "colab": {
          "base_uri": "https://localhost:8080/"
        },
        "id": "AD05foVb88eT",
        "outputId": "34d96c73-70bc-4297-97d3-c7e1098d9990"
      },
      "execution_count": 62,
      "outputs": [
        {
          "output_type": "stream",
          "name": "stdout",
          "text": [
            "Union(Interval.open(-oo, -3), Interval.open(-3, 2), Interval.open(4, oo))\n"
          ]
        }
      ]
    },
    {
      "cell_type": "markdown",
      "source": [
        "### 12. $\\frac{3x^2-5x-2}{x^2-9}\\lt 0$"
      ],
      "metadata": {
        "id": "esFOsSTQv1AC"
      }
    },
    {
      "cell_type": "code",
      "source": [
        "x = sp.Symbol('x')\n",
        "lhs = (3*x**2-5*x-2) / (x**2-9)\n",
        "rhs = 0\n",
        "inequality = sp.Lt(lhs, rhs)\n",
        "solution = sp.solveset(inequality, x, domain=sp.S.Reals)\n",
        "print(solution)"
      ],
      "metadata": {
        "colab": {
          "base_uri": "https://localhost:8080/"
        },
        "id": "6vB9Hsf19H3b",
        "outputId": "b7a953df-e8cf-43ef-ea4b-a2cf77fac94a"
      },
      "execution_count": 63,
      "outputs": [
        {
          "output_type": "stream",
          "name": "stdout",
          "text": [
            "Union(Interval.open(-3, -1/3), Interval.open(2, 3))\n"
          ]
        }
      ]
    },
    {
      "cell_type": "markdown",
      "source": [
        "### 13. $\\frac{x^3+2x^2+x}{x^2-x-2}\\geq 0$"
      ],
      "metadata": {
        "id": "KEzDdeWdv7x0"
      }
    },
    {
      "cell_type": "code",
      "source": [
        "x = sp.Symbol('x')\n",
        "lhs = (x**3+2*x**2+x) / (x**2-x-2)\n",
        "rhs = 0\n",
        "inequality = sp.Ge(lhs, rhs)\n",
        "solution = sp.solveset(inequality, x, domain=sp.S.Reals)\n",
        "print(solution)"
      ],
      "metadata": {
        "colab": {
          "base_uri": "https://localhost:8080/"
        },
        "id": "wu-Cfrhy9d1t",
        "outputId": "9ec6619c-8adb-48ce-9bd5-9099a56990cd"
      },
      "execution_count": 64,
      "outputs": [
        {
          "output_type": "stream",
          "name": "stdout",
          "text": [
            "Union(Interval.Lopen(-1, 0), Interval.open(2, oo))\n"
          ]
        }
      ]
    },
    {
      "cell_type": "markdown",
      "source": [
        "### 14. $\\frac{x^2+5x+6}{x^2-1}\\gt 0$"
      ],
      "metadata": {
        "id": "V1TddgY1wudp"
      }
    },
    {
      "cell_type": "code",
      "source": [
        "x = sp.Symbol('x')\n",
        "lhs = (x**2+5*x+6) / (x**2-1)\n",
        "rhs = 0\n",
        "inequality = sp.Gt(lhs, rhs)\n",
        "solution = sp.solveset(inequality, x, domain=sp.S.Reals)\n",
        "print(solution)"
      ],
      "metadata": {
        "colab": {
          "base_uri": "https://localhost:8080/"
        },
        "id": "2yphLBTc9rkV",
        "outputId": "e27f7f30-8c10-496a-bcd6-d3e5af16ac0d"
      },
      "execution_count": 65,
      "outputs": [
        {
          "output_type": "stream",
          "name": "stdout",
          "text": [
            "Union(Interval.open(-oo, -3), Interval.open(-2, -1), Interval.open(1, oo))\n"
          ]
        }
      ]
    },
    {
      "cell_type": "markdown",
      "source": [
        "### 15. $\\frac{3x-1}{x^2+1}\\leq 1$"
      ],
      "metadata": {
        "id": "J6R2ax0qw4oC"
      }
    },
    {
      "cell_type": "code",
      "source": [
        "x = sp.Symbol('x')\n",
        "lhs = (3*x-1) / (x**2+1)\n",
        "rhs = 1\n",
        "inequality = sp.Le(lhs, rhs)\n",
        "solution = sp.solveset(inequality, x, domain=sp.S.Reals)\n",
        "print(solution)"
      ],
      "metadata": {
        "colab": {
          "base_uri": "https://localhost:8080/"
        },
        "id": "qEXTFnDR90AX",
        "outputId": "2ba2776f-bd5e-422e-a591-63077650524f"
      },
      "execution_count": 66,
      "outputs": [
        {
          "output_type": "stream",
          "name": "stdout",
          "text": [
            "Union(Interval(-oo, 1), Interval(2, oo))\n"
          ]
        }
      ]
    },
    {
      "cell_type": "markdown",
      "source": [
        "### 16. $\\frac{2x+17}{x+1}\\gt x+5$"
      ],
      "metadata": {
        "id": "tHqupv62w-t-"
      }
    },
    {
      "cell_type": "code",
      "source": [
        "x = sp.Symbol('x')\n",
        "lhs = (2*x+17) / (x+1)\n",
        "rhs = x + 5\n",
        "inequality = sp.Gt(lhs, rhs)\n",
        "solution = sp.solveset(inequality, x, domain=sp.S.Reals)\n",
        "print(solution)"
      ],
      "metadata": {
        "colab": {
          "base_uri": "https://localhost:8080/"
        },
        "id": "w4NhLtz6-C15",
        "outputId": "d5f57d3f-62db-4674-9264-8116af85aa0b"
      },
      "execution_count": 67,
      "outputs": [
        {
          "output_type": "stream",
          "name": "stdout",
          "text": [
            "Union(Interval.open(-oo, -6), Interval.open(-1, 2))\n"
          ]
        }
      ]
    },
    {
      "cell_type": "markdown",
      "source": [
        "### 17. $\\frac{-x^3+4x}{x^2-9}\\geq 4x$"
      ],
      "metadata": {
        "id": "Gm_MwnzQxDlS"
      }
    },
    {
      "cell_type": "code",
      "source": [
        "x = sp.Symbol('x')\n",
        "lhs = (-x**3+4*x) / (x**2-9)\n",
        "rhs = 4*x\n",
        "inequality = sp.Ge(lhs, rhs)\n",
        "solution = sp.solveset(inequality, x, domain=sp.S.Reals)\n",
        "print(solution)"
      ],
      "metadata": {
        "colab": {
          "base_uri": "https://localhost:8080/"
        },
        "id": "LoTaVgid-J7t",
        "outputId": "58c669c2-fcf1-45fb-f8d8-30e45d09820d"
      },
      "execution_count": 68,
      "outputs": [
        {
          "output_type": "stream",
          "name": "stdout",
          "text": [
            "Union(Interval.open(-oo, -3), Interval(-2*sqrt(2), 0), Interval.Ropen(2*sqrt(2), 3))\n"
          ]
        }
      ]
    },
    {
      "cell_type": "markdown",
      "source": [
        "### 18. $\\frac{1}{x^2+1}\\lt 0$"
      ],
      "metadata": {
        "id": "qYW17O_6xLga"
      }
    },
    {
      "cell_type": "code",
      "source": [
        "x = sp.Symbol('x')\n",
        "lhs = 1 / (x**2+1)\n",
        "rhs = 0\n",
        "inequality = sp.Lt(lhs, rhs)\n",
        "solution = sp.solveset(inequality, x, domain=sp.S.Reals)\n",
        "print(solution)"
      ],
      "metadata": {
        "colab": {
          "base_uri": "https://localhost:8080/"
        },
        "id": "h0rN3fGr-WAP",
        "outputId": "f62c773d-0aab-432c-9311-fbabb66f9ded"
      },
      "execution_count": 69,
      "outputs": [
        {
          "output_type": "stream",
          "name": "stdout",
          "text": [
            "EmptySet\n"
          ]
        }
      ]
    },
    {
      "cell_type": "markdown",
      "source": [
        "### 19. $\\frac{x^4-4x^3+x^2-2x-15}{x^3-4x^2}\\geq x$"
      ],
      "metadata": {
        "id": "JdwWG90WxdOw"
      }
    },
    {
      "cell_type": "code",
      "source": [
        "x = sp.Symbol('x')\n",
        "lhs = (x**4-4*x**3+x**2-2*x-15) / (x**3-4*x**2)\n",
        "rhs = x\n",
        "inequality = sp.Ge(lhs, rhs)\n",
        "solution = sp.solveset(inequality, x, domain=sp.S.Reals)\n",
        "print(solution)"
      ],
      "metadata": {
        "colab": {
          "base_uri": "https://localhost:8080/"
        },
        "id": "X5OYl3rk-bLV",
        "outputId": "54bb4bb1-15a3-4f39-be06-fbc1f308e16c"
      },
      "execution_count": 70,
      "outputs": [
        {
          "output_type": "stream",
          "name": "stdout",
          "text": [
            "Union(Interval.Ropen(-3, 0), Interval.open(0, 4), Interval(5, oo))\n"
          ]
        }
      ]
    },
    {
      "cell_type": "markdown",
      "source": [
        "### 20. $\\frac{5x^3-12x^2+9x+10}{x^2-1}\\geq 3x-1$"
      ],
      "metadata": {
        "id": "6K91ZxaIxlvy"
      }
    },
    {
      "cell_type": "code",
      "source": [
        "x = sp.Symbol('x')\n",
        "lhs = (5*x**3-12*x**2+9*x+10) / (x**2-1)\n",
        "rhs = 3*x-1\n",
        "inequality = sp.Ge(lhs, rhs)\n",
        "solution = sp.solveset(inequality, x, domain=sp.S.Reals)\n",
        "print(solution)"
      ],
      "metadata": {
        "colab": {
          "base_uri": "https://localhost:8080/"
        },
        "id": "9Kd1szFL-5hC",
        "outputId": "14d63afa-9975-414e-949f-3ff8e51a53c0"
      },
      "execution_count": 71,
      "outputs": [
        {
          "output_type": "stream",
          "name": "stdout",
          "text": [
            "Union(Interval.Lopen(-1, -1/2), Interval.open(1, oo))\n"
          ]
        }
      ]
    }
  ]
}