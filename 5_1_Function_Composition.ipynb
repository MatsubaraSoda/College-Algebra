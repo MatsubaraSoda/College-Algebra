{
  "nbformat": 4,
  "nbformat_minor": 0,
  "metadata": {
    "colab": {
      "provenance": [],
      "authorship_tag": "ABX9TyNLE3w446T2+SmN9mxaORGs",
      "include_colab_link": true
    },
    "kernelspec": {
      "name": "python3",
      "display_name": "Python 3"
    },
    "language_info": {
      "name": "python"
    }
  },
  "cells": [
    {
      "cell_type": "markdown",
      "metadata": {
        "id": "view-in-github",
        "colab_type": "text"
      },
      "source": [
        "<a href=\"https://colab.research.google.com/github/MatsubaraSoda/College-Algebra/blob/main/5_1_Function_Composition.ipynb\" target=\"_parent\"><img src=\"https://colab.research.google.com/assets/colab-badge.svg\" alt=\"Open In Colab\"/></a>"
      ]
    },
    {
      "cell_type": "markdown",
      "source": [
        "**Definition 5.1.** Suppose; $f$ and $g$ are two functions. The **composite** of $g$ with $f$, denoted $g\\circ f$, is defined by the formula $(g\\circ f)(x)=g(f(x))$, provided $x$ is an element of the domain of $f$ and $f(x)$ is an element of the domain of $g$.\n",
        "\n",
        "> The quantity $g\\circ f$ is also read '$g$ composed with $f$' or, more simpliy ' $g$ of $f$ '."
      ],
      "metadata": {
        "id": "7J_q9IpI_V3T"
      }
    },
    {
      "cell_type": "markdown",
      "source": [
        "**Theorem 5.1. Properties of Function Composition:** Suppose $f$, $g$, and $h$ are functions.\n",
        "\n",
        "- $h\\circ (g\\circ f)=(h\\circ g)\\circ f$, provided the composite funcitons are defined.\n",
        "\n",
        "- If $I$ is defined as $I(x)=x$ for all real numbers $x$, then $I\\circ f=f\\circ I=f$."
      ],
      "metadata": {
        "id": "bt4y1jbmHxH4"
      }
    },
    {
      "cell_type": "markdown",
      "source": [
        "🎉🎉🎉🎉🎉🎉🎉🎉🎉🎉🎉🎉🎉🎉🎉🎉"
      ],
      "metadata": {
        "id": "h347iIhHIPH1"
      }
    }
  ]
}