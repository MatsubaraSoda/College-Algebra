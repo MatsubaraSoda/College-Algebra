{
  "nbformat": 4,
  "nbformat_minor": 0,
  "metadata": {
    "colab": {
      "provenance": [],
      "authorship_tag": "ABX9TyMeSkbzjGUBzXDfxXC0Fh9U",
      "include_colab_link": true
    },
    "kernelspec": {
      "name": "python3",
      "display_name": "Python 3"
    },
    "language_info": {
      "name": "python"
    }
  },
  "cells": [
    {
      "cell_type": "markdown",
      "metadata": {
        "id": "view-in-github",
        "colab_type": "text"
      },
      "source": [
        "<a href=\"https://colab.research.google.com/github/MatsubaraSoda/College-Algebra/blob/main/3_1_Graphs_of_Polynomials.ipynb\" target=\"_parent\"><img src=\"https://colab.research.google.com/assets/colab-badge.svg\" alt=\"Open In Colab\"/></a>"
      ]
    },
    {
      "cell_type": "markdown",
      "source": [
        "**Definition 3.1.** A ** polynomial function** is a function of the form\n",
        "\n",
        "$$\n",
        "f(x)=a_nx^n+a_{n-1}x^{n-1}+...+a_2x^2+a_1x+a_0,\n",
        "$$\n",
        "\n",
        "where $a_0, a_1, ..., a_n$ are real numbers and $n\\geq 1$ is a natural number. The domain of a polynomial function is $(-∞,∞)$.\n",
        "\n",
        "---\n",
        "\n",
        "**Definition 3.2.** Suppose $f$ is a polynomial function.\n",
        "\n",
        "- Given $f(x)=a_n x^n + a_{n-1}x^{n-1}+...+a_2x^2+a_1x+a_0$, with $a_n\\ne 0$, we say\n",
        "  - The natural number $n$ is called the **degree** of the polynomial $f$.\n",
        "  - The term $a_n x^n$ is called the **leading term** of the polynomial $f$.\n",
        "  - The real number $a_n$ is called the **leading coefficient** of the polynomial $f$.\n",
        "  - The real number $a_0$ is called the **constant term** of the polynomial $f$.\n",
        "- If $f(x)=a_0$, and $a_0\\ne 0$, we say $f$ has degree $0$.\n",
        "- If $f(x)=0$, we say $f$ has no degree.\n",
        "\n",
        "---\n",
        "\n",
        "<center><b>End Behavior of function</b> $f(x)=a x^n,\\ n$ <b>even.</b></center>\n",
        "\n",
        "Suppose $f(x)=a x^n$ where $a\\ne 0$ is real number and $n$ is an even natural number. The end behavior of the graph of $y=f(x)$ matches one of the following:\n",
        "\n",
        "- for $a\\gt 0$, as $x\\rightarrow -\\infty$, $f(x)\\rightarrow \\infty$ and as $x\\rightarrow \\infty$, $f(x)\\rightarrow \\infty$\n",
        "- for $a\\lt 0$, as $x\\rightarrow -\\infty$, $f(x)\\rightarrow -\\infty$ and as $x\\rightarrow \\infty$, $f(x)\\rightarrow -\\infty$\n",
        "\n",
        "---\n",
        "\n",
        "<center><b>End Behavior of function</b> $f(x)=a x^n,\\ n$ <b>odd.</b></center>\n",
        "\n",
        "Suppose $f(x)=a x^n$ where $a\\ne 0$ is real number and $n$ is an odd natural number. The end behavior of the graph of $y=f(x)$ matches one of the following:\n",
        "\n",
        "- for $a\\gt 0$, as $x\\rightarrow -\\infty$, $f(x)\\rightarrow -\\infty$ and as $x\\rightarrow \\infty$, $f(x)\\rightarrow \\infty$\n",
        "- for $a\\lt 0$, as $x\\rightarrow -\\infty$, $f(x)\\rightarrow \\infty$ and as $x\\rightarrow \\infty$, $f(x)\\rightarrow -\\infty$\n",
        "\n",
        "---\n",
        "\n",
        "**Theorem 3.1. The Intermediate Value Theorem (Zero Version):** Suppose $f$ is a continuous function on an interval containing $x=a$ and $x=b$ with $a\\lt b$. If $f(a)$ and $f(b)$ have different signs, then $f$ has at least one zero between $x=a$ and $x=b$; that is, for at least one real number $c$ such that $a\\lt c\\lt b$, we have $f(c)=0$.\n",
        "\n",
        "---\n",
        "\n",
        "<center><b>Steps for Constructing a Sign Diagram for a Polynomial Function</b></center>\n",
        "\n",
        "Suppose $f$ is a polynomial function.\n",
        "\n",
        "1. Find the zeros of $f$ and place them on the number line with the number $0$ above them.\n",
        "2. Choose a real number, called a **test value**, in each of the intervals determined in step 1.\n",
        "3. Determine the sign of $f(x)$ for each test value in step 2, and write that sign above the corresponding interval.\n",
        "\n",
        "---\n",
        "\n",
        "**Theorem 3.2. End Vehavior for Polynomial Functions:** The end behavior of a polynomial $f(x)=a_n x^n + a_{n-1}x^{n-1}+...+a_2x^2+a_1x+a_0$ with $a_n\\ne 0$ matches the end behavior of $y=a_n x^n$.\n",
        "\n",
        "---\n",
        "\n",
        "**Definition 3.3.** Suppose $f$ is a polynomial function and $m$ is a natural number. If $(x-c)^m$ is a factor of $f(x)$ but $(x-c)^{m+1}$ is not, then we say $x=c$ is a zero of **multiplicity** m.\n",
        "\n",
        "---\n",
        "\n",
        "**Theorem 3.3. The Role of Multiplicity:** Suppose $f$ is a polynomial function and $x=c$ is a zero of multiplicity $m$.\n",
        "\n",
        "- If $m$ is even, the graph of $y=f(x)$ touches and rebounds from the $x$-axis at $(c,0)$.\n",
        "- If $m$ is odd, the graph of $y=f(x)$ crosses through the $x$-axis at $(c,0)$.\n",
        "\n",
        "---\n",
        "\n",
        "\n"
      ],
      "metadata": {
        "id": "MEqwuGp1fyVm"
      }
    }
  ]
}