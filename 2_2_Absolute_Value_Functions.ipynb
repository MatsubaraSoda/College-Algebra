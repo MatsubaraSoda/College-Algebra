{
  "nbformat": 4,
  "nbformat_minor": 0,
  "metadata": {
    "colab": {
      "provenance": [],
      "authorship_tag": "ABX9TyMTgKrWhwNp5A5cwU5PvWEW",
      "include_colab_link": true
    },
    "kernelspec": {
      "name": "python3",
      "display_name": "Python 3"
    },
    "language_info": {
      "name": "python"
    }
  },
  "cells": [
    {
      "cell_type": "markdown",
      "metadata": {
        "id": "view-in-github",
        "colab_type": "text"
      },
      "source": [
        "<a href=\"https://colab.research.google.com/github/MatsubaraSoda/College-Algebra/blob/main/2_2_Absolute_Value_Functions.ipynb\" target=\"_parent\"><img src=\"https://colab.research.google.com/assets/colab-badge.svg\" alt=\"Open In Colab\"/></a>"
      ]
    },
    {
      "cell_type": "markdown",
      "source": [
        "**Definition 2.4.** The ** absolute value** of a real number $x$, denoted $|x|$, is given by\n",
        "$$\n",
        "| x | =\n",
        "\\begin{cases}\n",
        "  \\phantom{-}x, & \\text{if } x \\geq 0 \\\\\n",
        "  -x, & \\text{if } x < 0\n",
        "\\end{cases}\n",
        "$$\n",
        "\n",
        "---\n",
        "\n",
        "**Theorem 2.1. Properties of Absolute Value:** Let $a,b$ and $x$ be real numbers and let $n$ be an integer. Then\n",
        "\n",
        "- **Product Rule:** $|ab|=|a||b|$\n",
        "- **Power Rule:** $|a^n|=|a|^n$ whenever $a^n$ is defined\n",
        "- **Quotient Rule:** $|\\frac{a}{b}| = \\frac{|a|}{|b|}$, provided $b\\ne 0$\n",
        "\n",
        "**Equality Properties:**\n",
        "\n",
        "- $|x| = 0$ if and only if $x=0$.\n",
        "- For $c\\gt 0$, $|x| = c$ if and only if $x=c$ or $-x=c$.\n",
        "- For $c\\lt 0$, $|x| = c$ has no solution.\n",
        "\n",
        "---\n",
        "\n"
      ],
      "metadata": {
        "id": "2gG86sbot68K"
      }
    }
  ]
}