{
  "nbformat": 4,
  "nbformat_minor": 0,
  "metadata": {
    "colab": {
      "provenance": [],
      "authorship_tag": "ABX9TyM3Cv0xX8jo8c3vyR3azMJ0",
      "include_colab_link": true
    },
    "kernelspec": {
      "name": "python3",
      "display_name": "Python 3"
    },
    "language_info": {
      "name": "python"
    }
  },
  "cells": [
    {
      "cell_type": "markdown",
      "metadata": {
        "id": "view-in-github",
        "colab_type": "text"
      },
      "source": [
        "<a href=\"https://colab.research.google.com/github/MatsubaraSoda/College-Algebra/blob/main/1_3_Introduction_to_Functions.ipynb\" target=\"_parent\"><img src=\"https://colab.research.google.com/assets/colab-badge.svg\" alt=\"Open In Colab\"/></a>"
      ]
    },
    {
      "cell_type": "markdown",
      "source": [
        "**Definition 1.6.** A relation in which each x-coordinate is matched with only one y-coordinate is said to describe y as a function of x.\n",
        "\n",
        "---\n",
        "\n",
        "**Theorem 1.1. The Vertical Line Test:** A set of points in the plane represents $y$ as a function of $x$ if and only if no two points lie on the same vertical line.\n",
        "\n",
        "---\n",
        "\n",
        "**Definition 1.7.** Suppose $F$ is a relation which describes $y$ as a function of $x$.\n",
        "\n",
        "- The set of the $x$-coordinates of the points in $F$ is called the **domain** of $F$.\n",
        "- The set of the $y$-coordinates of the points in $F$ is called the **range** of $F$.\n",
        "\n",
        "---\n",
        "\n",
        "⚡⚡⚡⚡⚡⚡⚡⚡⚡⚡⚡⚡⚡⚡⚡⚡"
      ],
      "metadata": {
        "id": "lSo_xrouqqf-"
      }
    }
  ]
}