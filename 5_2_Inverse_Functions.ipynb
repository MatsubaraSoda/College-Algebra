{
  "nbformat": 4,
  "nbformat_minor": 0,
  "metadata": {
    "colab": {
      "provenance": [],
      "authorship_tag": "ABX9TyOwLqrynMoKuqmSdAq2gvE7",
      "include_colab_link": true
    },
    "kernelspec": {
      "name": "python3",
      "display_name": "Python 3"
    },
    "language_info": {
      "name": "python"
    }
  },
  "cells": [
    {
      "cell_type": "markdown",
      "metadata": {
        "id": "view-in-github",
        "colab_type": "text"
      },
      "source": [
        "<a href=\"https://colab.research.google.com/github/MatsubaraSoda/College-Algebra/blob/main/5_2_Inverse_Functions.ipynb\" target=\"_parent\"><img src=\"https://colab.research.google.com/assets/colab-badge.svg\" alt=\"Open In Colab\"/></a>"
      ]
    },
    {
      "cell_type": "markdown",
      "source": [
        "**Definition 5.2.** Suppose $f$ and $g$ are two functions such that\n",
        "\n",
        "1. $(g\\circ f)(x)=x$ for all $x$ in the domain of $f$ **and**\n",
        "\n",
        "2. $(f\\circ g)(x)=x$ for all $x$ in the domain of $g$\n",
        "\n",
        "then $f$ and $g$ are **inverses** of each other and the functions $f$ and $g$ are said to be **inbertible**."
      ],
      "metadata": {
        "id": "iAgKIEeOJEHc"
      }
    },
    {
      "cell_type": "markdown",
      "source": [
        "**Theorem 5.2. Properties of Inverse Functions:** Suppose $f$ and $g$ are inverse functions.\n",
        "\n",
        "- The range of $f$ is the domain of $g$ and the domain of $f$ is the range of $g$.\n",
        "\n",
        "- $f(a)=b$ if and only if $g(b)=a$\n",
        "\n",
        "- $(a,b)$ is on the graph of $f$ if and only if $(b,a)$ is on the graph of $g$"
      ],
      "metadata": {
        "id": "bMvu_Ah6MLrf"
      }
    },
    {
      "cell_type": "markdown",
      "source": [
        "**Theorem 5.3. Uniqueness of Inverse Functions and Their Graph:** Suppose $f$ is an invertible function.\n",
        "\n",
        "- There is exactly one inverse function for $f$, denoted $f^{-1}$ (read $f$-inverse)\n",
        "\n",
        "- The graph of $y=f^{-1}(x)$ is the refelction of the graph of $y=f(x)$ across the line $y=x$."
      ],
      "metadata": {
        "id": "LKeZlO5VMj9-"
      }
    },
    {
      "cell_type": "markdown",
      "source": [
        "**Definition 5.3.** A function $f$ is said to be **one-to-one** if $f$ matches different inputs to different outputs. Equivalently, $f$ is one-to-one if and only if whenever $f(c)=f(b)$, then $c=d$."
      ],
      "metadata": {
        "id": "ty5sRaiaNgL-"
      }
    },
    {
      "cell_type": "markdown",
      "source": [
        "**Theorem 5.4. The Horizontal Line Test:** A function $f$ is one-to-one if and only if no horizontal line intersects the graph of $f$ more than once."
      ],
      "metadata": {
        "id": "-egRXeqyNy5w"
      }
    },
    {
      "cell_type": "markdown",
      "source": [
        "**Thereom 5.5. Equivalent Conditions for Inbertibility:** Suppose $f$ is a function. The following statements are equivalent.\n",
        "\n",
        "- $f$ is invertible\n",
        "\n",
        "- $f$ is one-to-one\n",
        "\n",
        "- The graph of $f$ passes the Horizontal Line Test"
      ],
      "metadata": {
        "id": "Cug2seNvOEvl"
      }
    },
    {
      "cell_type": "markdown",
      "source": [
        "<center><b>Steps for finding the Inberse of a One-to-One Function</b></center>\n",
        "\n",
        "1. Write $y=f(x)$\n",
        "\n",
        "2. Interchange $x$ and $y$\n",
        "\n",
        "3. Solve $x=f(y)$ for $y$ to obtain $y=f^{-1}(x)$"
      ],
      "metadata": {
        "id": "GuAgwLNdOZW5"
      }
    },
    {
      "cell_type": "markdown",
      "source": [
        "🎉🎉🎉🎉🎉🎉🎉🎉🎉🎉🎉🎉🎉🎉🎉🎉"
      ],
      "metadata": {
        "id": "9YmCMN_6Mim2"
      }
    }
  ]
}