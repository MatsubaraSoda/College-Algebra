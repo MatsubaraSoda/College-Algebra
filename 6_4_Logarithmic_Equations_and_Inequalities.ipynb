{
  "nbformat": 4,
  "nbformat_minor": 0,
  "metadata": {
    "colab": {
      "provenance": [],
      "authorship_tag": "ABX9TyOV/yFRxnZmLNhquwHr8kh4",
      "include_colab_link": true
    },
    "kernelspec": {
      "name": "python3",
      "display_name": "Python 3"
    },
    "language_info": {
      "name": "python"
    }
  },
  "cells": [
    {
      "cell_type": "markdown",
      "metadata": {
        "id": "view-in-github",
        "colab_type": "text"
      },
      "source": [
        "<a href=\"https://colab.research.google.com/github/MatsubaraSoda/College-Algebra/blob/main/6_4_Logarithmic_Equations_and_Inequalities.ipynb\" target=\"_parent\"><img src=\"https://colab.research.google.com/assets/colab-badge.svg\" alt=\"Open In Colab\"/></a>"
      ]
    },
    {
      "cell_type": "markdown",
      "source": [
        "<center><b>Steps for Solving an Equation involving Logarithmic Functions</b></center>\n",
        "\n",
        "1. Isolate the logarithmic function.\n",
        "\n",
        "2. - If conveniect, express both sides as logs with the same base and equate the arguments of the log functions.\n",
        "  - Otherwise, rewrite the log equation as an exponential equation."
      ],
      "metadata": {
        "id": "yHe_gYswvlVP"
      }
    },
    {
      "cell_type": "markdown",
      "source": [
        "✨✨✨✨✨✨✨✨✨✨✨✨✨✨✨✨"
      ],
      "metadata": {
        "id": "J_6dqf-HwC6g"
      }
    },
    {
      "cell_type": "code",
      "source": [
        "import sympy as sp\n",
        "from sympy import log, E\n",
        "import numpy as np\n",
        "\n",
        "\n",
        "x = sp.Symbol('x')"
      ],
      "metadata": {
        "id": "MS7JO7Kxckvr"
      },
      "execution_count": 39,
      "outputs": []
    },
    {
      "cell_type": "markdown",
      "source": [
        "## Exercises 1 - 24\n",
        "\n",
        "In Exercises 1 - 24, solve the equation analytically."
      ],
      "metadata": {
        "id": "sjXm-sTqwDXL"
      }
    },
    {
      "cell_type": "markdown",
      "source": [
        "### $1.\\ $ $\\log(3x-1)=\\log(4-x)$"
      ],
      "metadata": {
        "id": "HuEAiDq2c6ch"
      }
    },
    {
      "cell_type": "code",
      "source": [
        "lhs = log(3*x-1) / log(10)\n",
        "rhs = log(4-x) / log(10)\n",
        "\n",
        "sol = sp.solve(sp.Eq(lhs, rhs), x)\n",
        "for s in sol:\n",
        "  print(s, \"OR\", s.evalf())"
      ],
      "metadata": {
        "colab": {
          "base_uri": "https://localhost:8080/"
        },
        "id": "3mybLDNyhZ63",
        "outputId": "b97b47ba-4695-49c5-a2b4-b5957704dd62"
      },
      "execution_count": 8,
      "outputs": [
        {
          "output_type": "stream",
          "name": "stdout",
          "text": [
            "5/4 OR 1.25000000000000\n"
          ]
        }
      ]
    },
    {
      "cell_type": "markdown",
      "source": [
        "### $3.\\ $ $\\ln(8-x^2)=\\ln(2-x)$"
      ],
      "metadata": {
        "id": "5PJGFnH6dA2w"
      }
    },
    {
      "cell_type": "code",
      "source": [
        "lhs = log(8-x**2)\n",
        "rhs = log(2-x)\n",
        "\n",
        "sol = sp.solve((sp.Eq(lhs, rhs), 8-x**2>0, 2-x>0), x)\n",
        "print(sol)\n",
        "display(sol)"
      ],
      "metadata": {
        "colab": {
          "base_uri": "https://localhost:8080/",
          "height": 58
        },
        "id": "8inunuNeiKR8",
        "outputId": "54293e41-9896-41c1-f613-6fa46e085c0e"
      },
      "execution_count": 35,
      "outputs": [
        {
          "output_type": "stream",
          "name": "stdout",
          "text": [
            "Eq(x, -2) & (x < 2) & (-2*sqrt(2) < x)\n"
          ]
        },
        {
          "output_type": "display_data",
          "data": {
            "text/plain": [
              "Eq(x, -2) & (x < 2) & (-2*sqrt(2) < x)"
            ],
            "text/latex": "$\\displaystyle x = -2 \\wedge - 2 \\sqrt{2} < x \\wedge x < 2$"
          },
          "metadata": {}
        }
      ]
    },
    {
      "cell_type": "markdown",
      "source": [
        "```\n",
        "In[]:= Solve[Log[8 - x^2] == Log[2 - x], x, Reals]\n",
        "\n",
        "Out[]= {{x -> -2}}\n",
        "```"
      ],
      "metadata": {
        "id": "92j7rkFmkXNZ"
      }
    },
    {
      "cell_type": "markdown",
      "source": [
        "### $5.\\ $ $\\log_3(7-2x)=2$"
      ],
      "metadata": {
        "id": "w0jgBu2zdF-C"
      }
    },
    {
      "cell_type": "markdown",
      "source": [
        "```wolfram\n",
        "In[]:= Solve[Log[3,7-2x]==2,x,Reals]\n",
        "Out[]= {{x->-1}}\n",
        "```"
      ],
      "metadata": {
        "id": "kG_uSrGVo1DX"
      }
    },
    {
      "cell_type": "markdown",
      "source": [
        "### $7.\\ $ $\\ln(x^2-99)=0$"
      ],
      "metadata": {
        "id": "8Wom691DdQ3L"
      }
    },
    {
      "cell_type": "markdown",
      "source": [
        "```wolfram\n",
        "In[]:= Solve[Log[x^2 - 99] == 0, x, Reals]\n",
        "\n",
        "Out[]= {{x -> -10}, {x -> 10}}\n",
        "```"
      ],
      "metadata": {
        "id": "7cxRII1ypPb0"
      }
    },
    {
      "cell_type": "markdown",
      "source": [
        "### $9.\\ $ $\\log_{125}(\\frac{3x-2}{2x+3})=\\frac{1}{3}$"
      ],
      "metadata": {
        "id": "a2YcpbkVddK1"
      }
    },
    {
      "cell_type": "markdown",
      "source": [
        "```wolframe\n",
        "In[]:= Solve[Log[125, (3 x - 2)/(2 x + 3)] == 1/3, x, Reals]\n",
        "\n",
        "Out[]= {{x -> -(17/7)}}\n",
        "```"
      ],
      "metadata": {
        "id": "Our-yV3Ypq-W"
      }
    },
    {
      "cell_type": "markdown",
      "source": [
        "### $11.\\ $ $-\\log(x)=5.4$"
      ],
      "metadata": {
        "id": "DBGix2Dcdj7O"
      }
    },
    {
      "cell_type": "markdown",
      "source": [
        "```wolfram\n",
        "In[]:= NSolve[-Log[10, x] == 5.4, x, Reals]\n",
        "\n",
        "Out[]= {{x -> 3.98107*10^-6}}\n",
        "```"
      ],
      "metadata": {
        "id": "kynbP5mMp2iJ"
      }
    },
    {
      "cell_type": "markdown",
      "source": [
        "### $13.\\ $ $6-3\\log_5(2x)=0$"
      ],
      "metadata": {
        "id": "X_5XRUU0dwB9"
      }
    },
    {
      "cell_type": "markdown",
      "source": [
        "\n",
        "\n",
        "```\n",
        "In[]:= Solve[6 - 3 Log[5, 2 x] == 0, x, Reals]\n",
        "\n",
        "Out[]= {{x -> 25/2}}\n",
        "```\n",
        "\n"
      ],
      "metadata": {
        "id": "hwYGMXOrqO09"
      }
    },
    {
      "cell_type": "markdown",
      "source": [
        "### $15.\\ $ $\\log_3(x-4)+\\log_3(x+4)=2$"
      ],
      "metadata": {
        "id": "EFIkOguPd0n8"
      }
    },
    {
      "cell_type": "markdown",
      "source": [
        "\n",
        "\n",
        "```\n",
        "In[]:= Solve[Log[3, x - 4] + Log[3, x + 4] == 2, x, Reals]\n",
        "\n",
        "Out[]= {{x -> 5}}\n",
        "```\n",
        "\n"
      ],
      "metadata": {
        "id": "elbN0afGqbsZ"
      }
    },
    {
      "cell_type": "markdown",
      "source": [
        "### $17.\\ $ $\\log_{169}(3x+7) - \\log_{169}(5x-9)=\\frac{1}{2}$"
      ],
      "metadata": {
        "id": "b-uf5zkKd7oR"
      }
    },
    {
      "cell_type": "markdown",
      "source": [
        "\n",
        "\n",
        "```\n",
        "In[]:= Solve[Log[169, 3 x + 7] - Log[169, 5 x - 9] == 1/2, x, Reals]\n",
        "\n",
        "Out[]= {{x -> 2}}\n",
        "```\n",
        "\n"
      ],
      "metadata": {
        "id": "Yw3V3ojVqeTU"
      }
    },
    {
      "cell_type": "markdown",
      "source": [
        "### $19.\\ $ $2\\log_7(x)=\\log_7(2)+\\log_7(x+12)$"
      ],
      "metadata": {
        "id": "3j5FAUvce6Rk"
      }
    },
    {
      "cell_type": "markdown",
      "source": [
        "\n",
        "\n",
        "```\n",
        "In[]:= Solve[2 Log[7, x] == Log[7, 2] + Log[7, x + 12], x, Reals]\n",
        "\n",
        "Out[]= {{x -> 6}}\n",
        "```\n",
        "\n"
      ],
      "metadata": {
        "id": "Bu5gI72dqrcJ"
      }
    },
    {
      "cell_type": "markdown",
      "source": [
        "### $21.\\ $ $\\log_3(x)=\\log_{\\frac{1}{3}}(x)+8$"
      ],
      "metadata": {
        "id": "p5srOd_ifDsl"
      }
    },
    {
      "cell_type": "markdown",
      "source": [
        "\n",
        "\n",
        "```\n",
        "In[]:= Solve[Log[3, x] == Log[1/3, x] + 8, x, Reals]\n",
        "\n",
        "Out[]= {{x -> 81}}\n",
        "```\n",
        "\n"
      ],
      "metadata": {
        "id": "cSE1E8tlqy7N"
      }
    },
    {
      "cell_type": "markdown",
      "source": [
        "### $23.\\ $ $(\\log(x))^2=2\\log(x)+15$"
      ],
      "metadata": {
        "id": "Xxr2w43nfKlh"
      }
    },
    {
      "cell_type": "markdown",
      "source": [
        "\n",
        "\n",
        "```\n",
        "In[]:= Solve[(Log[10, x])^2 == 2 Log[10, x] + 15, x, Reals]\n",
        "\n",
        "Out[]= {{x -> 1/1000}, {x -> 100000}}\n",
        "```\n",
        "\n"
      ],
      "metadata": {
        "id": "8-cK5tTFq6eH"
      }
    },
    {
      "cell_type": "markdown",
      "source": [
        "## Exercises 25 - 30\n",
        "\n",
        "In Exercises 25 - 30, solve the inequality analytically."
      ],
      "metadata": {
        "id": "ebOeSNX8flhz"
      }
    },
    {
      "cell_type": "markdown",
      "source": [
        "### $25.\\ $ $\\frac{1-\\ln(x)}{x^2}\\lt 0$"
      ],
      "metadata": {
        "id": "YvHbjmoOfrqs"
      }
    },
    {
      "cell_type": "markdown",
      "source": [
        "\n",
        "\n",
        "```\n",
        "In[]:= Reduce[(1 - Log[x])/x^2 < 0, x, Reals]\n",
        "\n",
        "Out[]= x > E\n",
        "```\n",
        "\n"
      ],
      "metadata": {
        "id": "RhZuQww2rJcL"
      }
    },
    {
      "cell_type": "markdown",
      "source": [
        "### $27.\\ $ $10\\log(\\frac{x}{10^{-12}})\\geq 90$"
      ],
      "metadata": {
        "id": "i_ZSnkvhfxao"
      }
    },
    {
      "cell_type": "markdown",
      "source": [
        "\n",
        "\n",
        "```\n",
        "In[]:= Reduce[10 Log[10, x/10^-12] >= 90, x, Reals]\n",
        "\n",
        "Out[]= x >= 1/1000\n",
        "```\n",
        "\n"
      ],
      "metadata": {
        "id": "ugKzvkCjrJwW"
      }
    },
    {
      "cell_type": "markdown",
      "source": [
        "### $29.\\ $ $2.3\\lt -\\log(x)\\lt 5.4$"
      ],
      "metadata": {
        "id": "5_0ivs_df50w"
      }
    },
    {
      "cell_type": "markdown",
      "source": [
        "\n",
        "\n",
        "```\n",
        "In[]:= Reduce[23/10 < -Log[10, x] < 54/10, x, Reals]\n",
        "\n",
        "Out[]= 1/(100000 10^(2/5)) < x < 1/(100 10^(3/10))\n",
        "```\n",
        "\n"
      ],
      "metadata": {
        "id": "AWYI0-sirKFO"
      }
    },
    {
      "cell_type": "markdown",
      "source": [
        "## The Last\n",
        "\n",
        "Life is short, maybe I should choose mathematica ?"
      ],
      "metadata": {
        "id": "hw2QgfvZtbCY"
      }
    }
  ]
}