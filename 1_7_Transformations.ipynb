{
  "nbformat": 4,
  "nbformat_minor": 0,
  "metadata": {
    "colab": {
      "provenance": [],
      "authorship_tag": "ABX9TyMobi7B7E5KP/vlEF/kHtQE",
      "include_colab_link": true
    },
    "kernelspec": {
      "name": "python3",
      "display_name": "Python 3"
    },
    "language_info": {
      "name": "python"
    }
  },
  "cells": [
    {
      "cell_type": "markdown",
      "metadata": {
        "id": "view-in-github",
        "colab_type": "text"
      },
      "source": [
        "<a href=\"https://colab.research.google.com/github/MatsubaraSoda/College-Algebra/blob/main/1_7_Transformations.ipynb\" target=\"_parent\"><img src=\"https://colab.research.google.com/assets/colab-badge.svg\" alt=\"Open In Colab\"/></a>"
      ]
    },
    {
      "cell_type": "markdown",
      "source": [
        "**Theorem 1.2. Vertical Shifts.** Suppose $f$ is a function and $k$ is a positive number.\n",
        "\n",
        "- To graph $y=f(x)+k$, shift the graph of $y=f(x)$ up $k$ units by adding $k$ to the $y$-coordinates of the points on the graph of $f$.\n",
        "- To graph $y=f(x)-k$, shift the graph of $y=f(x)$ down $k$ units by subtracting $k$ from the $y$-coordinates of the points on the graph of $f$.\n",
        "\n",
        "---\n",
        "\n",
        "**Theorem 1.3. Horizontal Shifts.** Suppose $f$ is a function and $h$ is a positive number.\n",
        "\n",
        "- To graph $y=f(x+h)$, shift the graph of $y=f(x)$ left $h$ units by subtracting $h$ from the $x$-coordinates of the points on the graph of $f$.\n",
        "- To graph $y=f(x-h)$, shift the graph of $y=f(x)$ right $h$ units by adding $h$ to the $x$-coordinates of the points on the graph of $f$.\n",
        "\n",
        "---\n",
        "\n",
        "**Theorem 1.4. Reflections.** Suppose $f$ is a function.\n",
        "\n",
        "- To graph $y=-f(x)$, reflect the graph of $y=f(x)$ across the $x$-axis by multiplying the $y$-coordinates of the points on the graph of $f$ by $-1$.\n",
        "- To graph $y=-f(x)$, reflect the graph of $y=f(x)$ across the $y$-axis by multiplying the $x$-coordinates of the points on the graph of $f$ by $-1$.\n",
        "\n",
        "---\n",
        "\n",
        "**Theorem 1.5. Vertical Scalings.** Suppose $f$ is a function and $a\\gt 0$. To graph $y=af(x)$, multiply all of the $y$-coordinates of the points on the graph of $f$ by $a$. We say the graph of $f$ has been vertically scaled by a factor of $a$.\n",
        "\n",
        "- if $a\\gt 1$, we say the graph of $f$ has undergone a vertical stretching (expansion, dilation) by a factor of $a$.\n",
        "- If $0\\lt a\\lt 1$, we say the graph of $f$ has undergone a vertical shrinking (compression, contraction) by a factor of $\\frac{1}{a}$.\n",
        "\n",
        "---\n",
        "\n",
        "**Theorem 1.6. Horizontal Scalings.** Suppose $f$ is a function and $b\\gt 0$. To graph $y=f(bx)$, divide all of the $x$-coordinates of the points on the graph of $f$ by $b$. We say the graph of $f$ has been horizontally scaled by a factor of $\\frac{1}{b}$.\n",
        "\n",
        "- If $0\\lt b\\lt 1$, we say the graph of $f$ has undergone a horizontal stretching (expansion, dilation) by a factor of $\\frac{1}{b}$.\n",
        "- If $b\\gt 1$, we say the graph of $f$ has undergone a horizontal shrinking (compression, contraction) by a factor of $b$.\n",
        "\n",
        "---\n",
        "\n",
        "**Theorem 1.7. Transformations. 💖** Suppose $f$ is a function. If $A\\ne 0$ and $B\\ne 0$, then to graph\n",
        "$$g(x) = Af(Bx + H) + K$$\n",
        "\n",
        "1. Subtract $H$ from each of the $x$-coordinates of the points on the graph of $f$. This results in a horizontal shift to the left if $H\\gt 0$ or right if $H\\lt 0$.\n",
        "2. Divide the $x$-coordinates of the points on the graph obtained in Step 1 by $B$. This results in a horizontal scaling, but may also include a reflection about the $y$-axis if $B\\lt 0$.\n",
        "3. Multiply the $y$-coordinates of the points on the graph obtained in Step 2 by $A$. This results in a vertical scaling, but may also include a reflection about the $x$-axis if $A\\lt 0$.\n",
        "4. Add $K$ to each of the $y$-coordinates of the points on the graph obtained in Step 3. This results in a vertical shift up if $K\\gt 0$ or down if $K\\lt 0$.\n",
        "\n",
        "💖💖💖💖💖💖💖💖💖💖💖💖💖💖💖💖\n",
        "\n",
        "\n",
        "\n"
      ],
      "metadata": {
        "id": "hmdXZt8EoP1-"
      }
    }
  ]
}