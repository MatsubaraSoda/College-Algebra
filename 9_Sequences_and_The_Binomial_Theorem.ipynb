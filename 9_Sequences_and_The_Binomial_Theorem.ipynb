{
  "nbformat": 4,
  "nbformat_minor": 0,
  "metadata": {
    "colab": {
      "provenance": [],
      "authorship_tag": "ABX9TyP0GKcLb1T+zSCtRHmJNHNM",
      "include_colab_link": true
    },
    "kernelspec": {
      "name": "python3",
      "display_name": "Python 3"
    },
    "language_info": {
      "name": "python"
    }
  },
  "cells": [
    {
      "cell_type": "markdown",
      "metadata": {
        "id": "view-in-github",
        "colab_type": "text"
      },
      "source": [
        "<a href=\"https://colab.research.google.com/github/MatsubaraSoda/College-Algebra/blob/main/9_Sequences_and_The_Binomial_Theorem.ipynb\" target=\"_parent\"><img src=\"https://colab.research.google.com/assets/colab-badge.svg\" alt=\"Open In Colab\"/></a>"
      ]
    },
    {
      "cell_type": "markdown",
      "source": [
        "**Definition 9.1.**\n",
        "\n",
        "A **sequence** is a function $a$ whose domain is the ~~natural~~ whole numbers. The value $a(n)$ is often written as $a_n$ and is called the $n^{\\text{th}}$ **term** of the sequence. The sequence itself is usually denoted using the notation: $a_n,\\ n\\geq 1$ or the notation: $\\{a_n\\}_{n=1}^{\\infty}$."
      ],
      "metadata": {
        "id": "XEdF1Yg5u2BF"
      }
    },
    {
      "cell_type": "markdown",
      "source": [
        "**Definition 9.2. Arithmetic and Geometric Sequences:**\n",
        "\n",
        "Suppose $\\{a_n\\}_{n=k}^{\\infty}$ is a sequence.\n",
        "\n",
        "- If there is a number $d$ so that $a_{n+1}=a_n + d$ for all $n\\geq k$, then $\\{a_n\\}_{n=k}^{\\infty}$ us called an **arithmetic sequence**. The number $d$ is called the **common difference**.\n",
        "\n",
        "- If there is a number $r$ so that $a_{n+1}=r a_n$ for all $n\\geq k$, then $\\{a_n\\}_{n=k}^{\\infty}$ is called a **geometric sequence**. The number $r$ is called the **common ratio**."
      ],
      "metadata": {
        "id": "Y4X0R_kNvcBo"
      }
    },
    {
      "cell_type": "markdown",
      "source": [
        "**Equation 9.1. Formulas for Arithmetic and Geometric Sequences:**\n",
        "\n",
        "- An arithmetic sequence with first term $a$ and common difference $d$ is given by\n",
        "$$\n",
        "a_n=a+(n-1)d,\\ n\\geq 1\n",
        "$$\n",
        "\n",
        "- A geometric sequence with first term $a$ and common ratio $r\\ne 0$ is given by\n",
        "$$\n",
        "a_n=ar^{n-1},\\ n\\geq 1\n",
        "$$"
      ],
      "metadata": {
        "id": "DN119pMDwZ5L"
      }
    },
    {
      "cell_type": "markdown",
      "source": [
        "**Definition 9.3. Summation Notation:**\n",
        "\n",
        "Given a sequance $\\{a_n\\}_{n=k}^{\\infty}$ and numbers $m$ and $p$ satisfying $k\\leq m\\leq p$, the summation from $m$ to $p$ of the sequence $\\{a_n\\}$ is written\n",
        "$$\n",
        "\\sum_{n=m}^{p}a_n=a_m+a_{m+1}+...+a_{p-1}+a_p\n",
        "$$\n",
        "The variable $n$ is called the **index of summation**. The number $m$ is called the **lower limit of summation** while the number $p$ is called the **upper limit of summation**."
      ],
      "metadata": {
        "id": "NY_W5fdnw-yw"
      }
    },
    {
      "cell_type": "markdown",
      "source": [
        "**Theorem 9.1. Properties of Summation Notation:**\n",
        "\n",
        "Suppose $\\{a_n\\}$ and $\\{b_n\\}$ are sequences so that the following sums are defined.\n",
        "\n",
        "- $\\sum_{n=m}^{p}(a_n\\pm b_n)=\\sum_{n=m}^{p}a_n\\pm \\sum_{n=m}^{p}b_n$\n",
        "\n",
        "- $\\sum_{n=m}^{p}ca_n=c\\sum_{n=m}^{p}a_n$, for any real number $c$.\n",
        "\n",
        "- $\\sum_{n=m}^{p}a_n=\\sum_{n=m}^{j}a_n+\\sum_{n=j+1}^{p}a_n$, for any natural number $m\\leq j\\le j+1\\leq p$.\n",
        "\n",
        "- $\\sum_{n=m}^{p}a_n=\\sum_{n=m+r}^{p+r}a_{n-r}$, for any whole number $r$."
      ],
      "metadata": {
        "id": "r6idwAt3yA-o"
      }
    },
    {
      "cell_type": "markdown",
      "source": [
        "**Equation 9.2. Sums of Arithmetic and Geometric Sequences:**\n",
        "\n",
        "- The sum $S$ of the first $n$ terms of an arithmetic sequence $a_k=a+(k-1)d$ for $k\\geq 1$ is\n",
        "$$\n",
        "S=\\sum_{k=1}^{n}a_k=n(\\frac{a_1+a_n}{2})=\\frac{n}{2}(2a+(n-1)d).\n",
        "$$\n",
        "\n",
        "- The sum $S$ of the first $n$ terms of a geometric sequence $a_k=ar^{k-1}$ for $k\\geq 1$ is\n",
        "\n",
        "  1.\n",
        "  $$\n",
        "  S=\\sum_{k=1}^{n}a_k=\\frac{a_1-a_{n+1}}{1-r}=a(\\frac{1-r^n}{1-r}),\\ \\text{if } r\\ne 1.\n",
        "  $$\n",
        "\n",
        "  2.\n",
        "  $$\n",
        "  S=\\sum_{k=1}^{n}a_k=\\sum_{k=1}^{n}a=na,\\ \\text{if } r=1.\n",
        "  $$"
      ],
      "metadata": {
        "id": "u14j1De6y5_M"
      }
    },
    {
      "cell_type": "markdown",
      "source": [
        "**Equation 9.3. Future Value of an Ordinary Annuity:**\n",
        "\n",
        "Suppose an annuity offers an annual interest rate $r$ compounded $n$ times per year. Let $i=\\frac{r}{n}$ be the interest rate per compounding period. If a deposit $P$ is made at the end of each compound period, the amount $A$ in the account after $t$ year is given by\n",
        "$$\n",
        "A=\\frac{P((1+i)^{nt}-1)}{i}\n",
        "$$"
      ],
      "metadata": {
        "id": "xIlW1gIC0IZo"
      }
    },
    {
      "cell_type": "markdown",
      "source": [
        "**Theorem 9.2. Geometric Series:**\n",
        "\n",
        "Given the sequence $a_k=ar^{k-1}$ for $k\\geq 1$, where $|r|\\le 1$,\n",
        "$$\n",
        "a+ar+ar^2+...=\\sum_{k=1}^{\\infty}ar^{k-1}=\\frac{a}{1-r}\n",
        "$$\n",
        "If $|r|\\geq 1$, the sum $a+ar+ar^2+...$ is note defined."
      ],
      "metadata": {
        "id": "G10OoZx6000L"
      }
    },
    {
      "cell_type": "markdown",
      "source": [
        "**The Principle of Mathematical Induction (PMI):**\n",
        "\n",
        "Suppose $P(n)$ is a sentence involving the natural number $n$.\n",
        "\n",
        "**IF**\n",
        "\n",
        "1. $P(1)$ is true **and**\n",
        "\n",
        "2. whenever $P(k)$ is true, it follows that $P(k+1)$ is also true\n",
        "\n",
        "**THEN** the sentence $P(n)$ is true for all natural numbers $n$."
      ],
      "metadata": {
        "id": "tmYc1wjT1QXI"
      }
    },
    {
      "cell_type": "markdown",
      "source": [
        "**Definition 9.4. Factorials:**\n",
        "\n",
        "For a whole number $n$, $n$ **factorial**, denoted $n!$, is the term $f_n$ of the sequence $f_0=1,\\ f_n=n\\cdot f_{n-1},\\ n\\geq 1$."
      ],
      "metadata": {
        "id": "e26XSrXH1x_u"
      }
    },
    {
      "cell_type": "markdown",
      "source": [
        "**Definition 9.5. Binomial Coefficients:**\n",
        "\n",
        "Given two whole numbers $n$ and $j$ with $n\\geq j$, the binomial coefficient $\\binom{n}{j}$ (read, $n$ choose $j$) is the whole number given by\n",
        "$$\\binom{n}{j}=\\frac{n!}{j!(n-j)!}$$"
      ],
      "metadata": {
        "id": "c90JRTFK2Qkk"
      }
    },
    {
      "cell_type": "markdown",
      "source": [
        "**Theorem 9.3.**\n",
        "\n",
        "For natural numbers $n$ and $j$ with $n\\geq j$,\n",
        "$$\n",
        "\\binom{n}{j-1}+\\binom{n}{j}=\\binom{n+1}{j}\n",
        "$$"
      ],
      "metadata": {
        "id": "uMwzDr-r2v4Y"
      }
    },
    {
      "cell_type": "markdown",
      "source": [
        "**Theorem 9.4. Binomial Theorem:**\n",
        "\n",
        "For nonzero real numbers $a$ and $b$,\n",
        "$$\n",
        "(a+b)^n=\\sum_{j=0}^n\\binom{n}{j}a^{n-j}b^j\n",
        "$$\n",
        "for all natrual numbers $n$."
      ],
      "metadata": {
        "id": "ZrWYTtFD3LHF"
      }
    },
    {
      "cell_type": "markdown",
      "source": [
        "🎈🎈🎈🎈🎈🎈🎈🎈🎈🎈🎈🎈🎈🎈🎈🎈"
      ],
      "metadata": {
        "id": "H9gT0pXZ3kFj"
      }
    }
  ]
}